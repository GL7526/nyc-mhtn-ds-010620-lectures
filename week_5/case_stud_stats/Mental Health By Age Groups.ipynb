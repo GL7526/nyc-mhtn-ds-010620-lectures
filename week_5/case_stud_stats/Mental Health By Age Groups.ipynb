{
 "cells": [
  {
   "cell_type": "markdown",
   "metadata": {},
   "source": [
    "# Imports"
   ]
  },
  {
   "cell_type": "code",
   "execution_count": 51,
   "metadata": {},
   "outputs": [],
   "source": [
    "import numpy as np\n",
    "import pandas as pd\n",
    "import seaborn as sns\n",
    "import scipy\n",
    "from scipy.stats import norm\n",
    "from scipy.stats import t\n",
    "import matplotlib.pyplot as plt\n",
    "import math"
   ]
  },
  {
   "cell_type": "code",
   "execution_count": 35,
   "metadata": {},
   "outputs": [],
   "source": [
    "df = pd.read_csv('case_study.csv')"
   ]
  },
  {
   "cell_type": "markdown",
   "metadata": {},
   "source": [
    "# Mental Health\n",
    "- Create a confidence interval for a sample mean."
   ]
  },
  {
   "cell_type": "code",
   "execution_count": 36,
   "metadata": {},
   "outputs": [
    {
     "name": "stdout",
     "output_type": "stream",
     "text": [
      "Average number of days people felt their mental health was not good: 3.4640\n",
      "95% confidence interval: (3.3814, 3.5466)\n"
     ]
    }
   ],
   "source": [
    "# df.MENTLHLTH = Now thinking about your mental health, which includes stress, depression, \n",
    "#and problems with emotions, for how many days during the past 30 days was your mental health not good?\n",
    "\n",
    "change_these = {77: np.nan, 88: 0, 99: np.nan}\n",
    "\n",
    "df['menthlth'] = df['MENTHLTH'].replace(change_these)\n",
    "\n",
    "# df.menthlth.value_counts().sort_index() ***check numbers to make sure they're right\n",
    "\n",
    "the_mean = df.menthlth.mean()\n",
    "the_stdev = df.menthlth.std()\n",
    "the_len = df.menthlth.count()\n",
    "low_bound = the_mean + the_stdev*norm.ppf(.025)/math.sqrt(the_len)\n",
    "up_bound = the_mean + the_stdev*norm.ppf(.975)/math.sqrt(the_len)\n",
    "print(f'Average number of days people felt their mental health was not good: {the_mean:.4f}')\n",
    "print(f'95% confidence interval: ({low_bound:.4f}, {up_bound:.4f})')\n"
   ]
  },
  {
   "cell_type": "markdown",
   "metadata": {},
   "source": [
    "- Perform a two-sample test of means."
   ]
  },
  {
   "cell_type": "code",
   "execution_count": 37,
   "metadata": {},
   "outputs": [
    {
     "data": {
      "text/plain": [
       "1.0    20126\n",
       "0.0    10942\n",
       "Name: _RFBMI5, dtype: int64"
      ]
     },
     "execution_count": 37,
     "metadata": {},
     "output_type": "execute_result"
    }
   ],
   "source": [
    "value_change = {1:0, 2:1, 9:np.NaN}\n",
    "df._RFBMI5.replace(value_change, inplace = True)\n",
    "\n",
    "df._RFBMI5.value_counts()"
   ]
  },
  {
   "cell_type": "code",
   "execution_count": 61,
   "metadata": {},
   "outputs": [],
   "source": [
    "#Averages for each sample\n",
    "not_ow_mhd = df.menthlth[df._RFBMI5 == 0] # 3.38889\n",
    "ow_mhd = df.menthlth[df._RFBMI5 == 1] # 3.58075"
   ]
  },
  {
   "cell_type": "code",
   "execution_count": 60,
   "metadata": {},
   "outputs": [
    {
     "data": {
      "text/plain": [
       "Ttest_indResult(statistic=-2.057988121995879, pvalue=0.03959973958289035)"
      ]
     },
     "execution_count": 60,
     "metadata": {},
     "output_type": "execute_result"
    }
   ],
   "source": [
    "scipy.stats.ttest_ind(not_ow_mhd, ow_mhd, nan_policy = 'omit') \n",
    "# about -2.058 stdev each side -> pvalue = about .0396\n"
   ]
  },
  {
   "cell_type": "code",
   "execution_count": 59,
   "metadata": {},
   "outputs": [
    {
     "name": "stdout",
     "output_type": "stream",
     "text": [
      "Null hypothesis: Average number of mental health days for overweight & non-overweight are the same\n",
      "We can reject the null hypothesis\n"
     ]
    }
   ],
   "source": [
    "print('Null hypothesis: Average number of mental health days for overweight & non-overweight are the same')\n",
    "print('With a We can reject the null hypothesis')"
   ]
  },
  {
   "cell_type": "code",
   "execution_count": 57,
   "metadata": {},
   "outputs": [
    {
     "data": {
      "text/plain": [
       "0.01979564266913932"
      ]
     },
     "execution_count": 57,
     "metadata": {},
     "output_type": "execute_result"
    }
   ],
   "source": []
  },
  {
   "cell_type": "code",
   "execution_count": null,
   "metadata": {},
   "outputs": [],
   "source": [
    "bar_graph = sns.barplot(x=sorted_thing, y=sorted_thing.index, color = '#7474E2', orient = 'h') #general bar graph, given data\n",
    "\n",
    "bar_graph.axes.set_title('Popularity Ranking Per Genre', fontsize = 19.5, pad = 10) # title info\n",
    "bar_graph.set_xlabel('Popularity Ranking', fontsize = 18, labelpad = 10) # xlabel info\n",
    "bar_graph.set_ylabel('Genres', fontsize = 17.5, labelpad = 8) # ylabel info\n",
    "\n",
    "sns.set(rc = {'figure.figsize':(10,8)}) # change graph size"
   ]
  },
  {
   "cell_type": "code",
   "execution_count": null,
   "metadata": {},
   "outputs": [],
   "source": [
    "pd.DataFrame()"
   ]
  }
 ],
 "metadata": {
  "kernelspec": {
   "display_name": "Python 3",
   "language": "python",
   "name": "python3"
  },
  "language_info": {
   "codemirror_mode": {
    "name": "ipython",
    "version": 3
   },
   "file_extension": ".py",
   "mimetype": "text/x-python",
   "name": "python",
   "nbconvert_exporter": "python",
   "pygments_lexer": "ipython3",
   "version": "3.7.4"
  }
 },
 "nbformat": 4,
 "nbformat_minor": 2
}
