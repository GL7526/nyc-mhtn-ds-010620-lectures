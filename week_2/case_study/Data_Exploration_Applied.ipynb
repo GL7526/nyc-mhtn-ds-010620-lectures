{
 "cells": [
  {
   "cell_type": "code",
   "execution_count": 1,
   "metadata": {},
   "outputs": [],
   "source": [
    "import pandas as pd\n",
    "import matplotlib.pyplot as plt\n",
    "import numpy as np\n",
    "%matplotlib inline"
   ]
  },
  {
   "cell_type": "code",
   "execution_count": 2,
   "metadata": {},
   "outputs": [
    {
     "name": "stderr",
     "output_type": "stream",
     "text": [
      "/Users/flatironschool/opt/anaconda3/lib/python3.7/site-packages/IPython/core/interactiveshell.py:3058: DtypeWarning: Columns (171) have mixed types. Specify dtype option on import or set low_memory=False.\n",
      "  interactivity=interactivity, compiler=compiler, result=result)\n"
     ]
    },
    {
     "data": {
      "text/html": [
       "<div>\n",
       "<style scoped>\n",
       "    .dataframe tbody tr th:only-of-type {\n",
       "        vertical-align: middle;\n",
       "    }\n",
       "\n",
       "    .dataframe tbody tr th {\n",
       "        vertical-align: top;\n",
       "    }\n",
       "\n",
       "    .dataframe thead th {\n",
       "        text-align: right;\n",
       "    }\n",
       "</style>\n",
       "<table border=\"1\" class=\"dataframe\">\n",
       "  <thead>\n",
       "    <tr style=\"text-align: right;\">\n",
       "      <th></th>\n",
       "      <th>_STATE</th>\n",
       "      <th>FMONTH</th>\n",
       "      <th>IDATE</th>\n",
       "      <th>IMONTH</th>\n",
       "      <th>IDAY</th>\n",
       "      <th>IYEAR</th>\n",
       "      <th>DISPCODE</th>\n",
       "      <th>SEQNO</th>\n",
       "      <th>_PSU</th>\n",
       "      <th>CTELENM1</th>\n",
       "      <th>...</th>\n",
       "      <th>_PA300R2</th>\n",
       "      <th>_PA30021</th>\n",
       "      <th>_PASTRNG</th>\n",
       "      <th>_PAREC1</th>\n",
       "      <th>_PASTAE1</th>\n",
       "      <th>_RFSEAT2</th>\n",
       "      <th>_RFSEAT3</th>\n",
       "      <th>_FLSHOT6</th>\n",
       "      <th>_PNEUMO2</th>\n",
       "      <th>_AIDTST3</th>\n",
       "    </tr>\n",
       "  </thead>\n",
       "  <tbody>\n",
       "    <tr>\n",
       "      <td>49938</td>\n",
       "      <td>9.0</td>\n",
       "      <td>5.0</td>\n",
       "      <td>5172017</td>\n",
       "      <td>5</td>\n",
       "      <td>17</td>\n",
       "      <td>2017</td>\n",
       "      <td>1200.0</td>\n",
       "      <td>2017000001</td>\n",
       "      <td>2.017000e+09</td>\n",
       "      <td>NaN</td>\n",
       "      <td>...</td>\n",
       "      <td>2.0</td>\n",
       "      <td>2.0</td>\n",
       "      <td>2.0</td>\n",
       "      <td>4.0</td>\n",
       "      <td>2.0</td>\n",
       "      <td>1.0</td>\n",
       "      <td>1.0</td>\n",
       "      <td>NaN</td>\n",
       "      <td>NaN</td>\n",
       "      <td>1.0</td>\n",
       "    </tr>\n",
       "    <tr>\n",
       "      <td>49939</td>\n",
       "      <td>9.0</td>\n",
       "      <td>2.0</td>\n",
       "      <td>2142017</td>\n",
       "      <td>2</td>\n",
       "      <td>14</td>\n",
       "      <td>2017</td>\n",
       "      <td>1200.0</td>\n",
       "      <td>2017000002</td>\n",
       "      <td>2.017000e+09</td>\n",
       "      <td>NaN</td>\n",
       "      <td>...</td>\n",
       "      <td>1.0</td>\n",
       "      <td>1.0</td>\n",
       "      <td>1.0</td>\n",
       "      <td>1.0</td>\n",
       "      <td>1.0</td>\n",
       "      <td>2.0</td>\n",
       "      <td>2.0</td>\n",
       "      <td>NaN</td>\n",
       "      <td>NaN</td>\n",
       "      <td>2.0</td>\n",
       "    </tr>\n",
       "    <tr>\n",
       "      <td>49940</td>\n",
       "      <td>9.0</td>\n",
       "      <td>1.0</td>\n",
       "      <td>1292017</td>\n",
       "      <td>1</td>\n",
       "      <td>29</td>\n",
       "      <td>2017</td>\n",
       "      <td>1200.0</td>\n",
       "      <td>2017000003</td>\n",
       "      <td>2.017000e+09</td>\n",
       "      <td>NaN</td>\n",
       "      <td>...</td>\n",
       "      <td>3.0</td>\n",
       "      <td>2.0</td>\n",
       "      <td>1.0</td>\n",
       "      <td>3.0</td>\n",
       "      <td>2.0</td>\n",
       "      <td>1.0</td>\n",
       "      <td>1.0</td>\n",
       "      <td>NaN</td>\n",
       "      <td>NaN</td>\n",
       "      <td>2.0</td>\n",
       "    </tr>\n",
       "    <tr>\n",
       "      <td>49941</td>\n",
       "      <td>9.0</td>\n",
       "      <td>7.0</td>\n",
       "      <td>9112017</td>\n",
       "      <td>9</td>\n",
       "      <td>11</td>\n",
       "      <td>2017</td>\n",
       "      <td>1200.0</td>\n",
       "      <td>2017000004</td>\n",
       "      <td>2.017000e+09</td>\n",
       "      <td>NaN</td>\n",
       "      <td>...</td>\n",
       "      <td>2.0</td>\n",
       "      <td>2.0</td>\n",
       "      <td>2.0</td>\n",
       "      <td>2.0</td>\n",
       "      <td>2.0</td>\n",
       "      <td>1.0</td>\n",
       "      <td>1.0</td>\n",
       "      <td>NaN</td>\n",
       "      <td>NaN</td>\n",
       "      <td>1.0</td>\n",
       "    </tr>\n",
       "  </tbody>\n",
       "</table>\n",
       "<p>4 rows × 358 columns</p>\n",
       "</div>"
      ],
      "text/plain": [
       "       _STATE  FMONTH    IDATE  IMONTH  IDAY  IYEAR  DISPCODE       SEQNO  \\\n",
       "49938     9.0     5.0  5172017       5    17   2017    1200.0  2017000001   \n",
       "49939     9.0     2.0  2142017       2    14   2017    1200.0  2017000002   \n",
       "49940     9.0     1.0  1292017       1    29   2017    1200.0  2017000003   \n",
       "49941     9.0     7.0  9112017       9    11   2017    1200.0  2017000004   \n",
       "\n",
       "               _PSU  CTELENM1  ...  _PA300R2  _PA30021  _PASTRNG  _PAREC1  \\\n",
       "49938  2.017000e+09       NaN  ...       2.0       2.0       2.0      4.0   \n",
       "49939  2.017000e+09       NaN  ...       1.0       1.0       1.0      1.0   \n",
       "49940  2.017000e+09       NaN  ...       3.0       2.0       1.0      3.0   \n",
       "49941  2.017000e+09       NaN  ...       2.0       2.0       2.0      2.0   \n",
       "\n",
       "       _PASTAE1  _RFSEAT2  _RFSEAT3  _FLSHOT6  _PNEUMO2  _AIDTST3  \n",
       "49938       2.0       1.0       1.0       NaN       NaN       1.0  \n",
       "49939       1.0       2.0       2.0       NaN       NaN       2.0  \n",
       "49940       2.0       1.0       1.0       NaN       NaN       2.0  \n",
       "49941       2.0       1.0       1.0       NaN       NaN       1.0  \n",
       "\n",
       "[4 rows x 358 columns]"
      ]
     },
     "execution_count": 2,
     "metadata": {},
     "output_type": "execute_result"
    }
   ],
   "source": [
    "#Load our dataframe account for the index columns\n",
    "df = pd.read_csv('case_study.csv', index_col = 0)\n",
    "df.head(4)"
   ]
  },
  {
   "cell_type": "code",
   "execution_count": 3,
   "metadata": {},
   "outputs": [
    {
     "data": {
      "text/plain": [
       "(34545, 358)"
      ]
     },
     "execution_count": 3,
     "metadata": {},
     "output_type": "execute_result"
    }
   ],
   "source": [
    "# Quickly check to see the size of our DF, both rows and columns\n",
    "df.shape"
   ]
  },
  {
   "cell_type": "code",
   "execution_count": 4,
   "metadata": {},
   "outputs": [
    {
     "data": {
      "text/plain": [
       "(34545, 358)"
      ]
     },
     "execution_count": 4,
     "metadata": {},
     "output_type": "execute_result"
    }
   ],
   "source": [
    "df.shape"
   ]
  },
  {
   "cell_type": "markdown",
   "metadata": {},
   "source": [
    "## Subset your dataframe to only include the states in the tri-state area (NJ, CT, NY)"
   ]
  },
  {
   "cell_type": "code",
   "execution_count": 5,
   "metadata": {},
   "outputs": [],
   "source": [
    "# your code here\n",
    "tri_state = df['_STATE'].value_counts()\n",
    "tri_state\n",
    "tri_state = df"
   ]
  },
  {
   "cell_type": "markdown",
   "metadata": {},
   "source": [
    "Now check to see how large our subset df."
   ]
  },
  {
   "cell_type": "code",
   "execution_count": 6,
   "metadata": {},
   "outputs": [
    {
     "data": {
      "text/plain": [
       "(34545, 358)"
      ]
     },
     "execution_count": 6,
     "metadata": {},
     "output_type": "execute_result"
    }
   ],
   "source": [
    "# your code here\n",
    "tri_state.shape"
   ]
  },
  {
   "cell_type": "markdown",
   "metadata": {},
   "source": [
    "**PHYSHLTH** is the column we are interested in for this analysis, so let's start to investigate the column. Since we have a data cookbook, a.k.a. data dictionary) we want to start there before looking at the code. "
   ]
  },
  {
   "cell_type": "code",
   "execution_count": 9,
   "metadata": {},
   "outputs": [
    {
     "name": "stdout",
     "output_type": "stream",
     "text": [
      "Number of values in PHYSHLTH column initially: (34545, 2)\n",
      "Number of values after changing values of 88 to 0: (34545, 2)\n",
      "Number of values after removing values of 99: (34240, 2)\n",
      "Number of values after removing values of 77: (33747, 2)\n"
     ]
    },
    {
     "data": {
      "text/plain": [
       "0.0     21296\n",
       "1.0      1538\n",
       "2.0      1993\n",
       "3.0      1187\n",
       "4.0       622\n",
       "5.0      1092\n",
       "6.0       187\n",
       "7.0       641\n",
       "8.0        99\n",
       "9.0        15\n",
       "10.0      751\n",
       "11.0        8\n",
       "12.0       69\n",
       "13.0       10\n",
       "14.0      326\n",
       "15.0      640\n",
       "16.0       16\n",
       "17.0       15\n",
       "18.0       19\n",
       "19.0       10\n",
       "20.0      402\n",
       "21.0       70\n",
       "22.0       12\n",
       "23.0        4\n",
       "24.0        7\n",
       "25.0      159\n",
       "26.0        7\n",
       "27.0       22\n",
       "28.0       57\n",
       "29.0       35\n",
       "30.0     2438\n",
       "Name: PHYSHLTH, dtype: int64"
      ]
     },
     "execution_count": 9,
     "metadata": {},
     "output_type": "execute_result"
    }
   ],
   "source": [
    "df = pd.read_csv('case_study.csv', index_col = 0)\n",
    "PHEALTH = df[['PHYSHLTH','_STATE']]\n",
    "print(f'Number of values in PHYSHLTH column initially: {PHEALTH.shape}')\n",
    "\n",
    "PHEALTH['PHYSHLTH'].replace(to_replace = 88, value = 0, inplace = True) # ones with 88 have not taken any days off\n",
    "print(f'Number of values after changing values of 88 to 0: {PHEALTH.shape}')\n",
    "\n",
    "index_of_99 = PHEALTH['PHYSHLTH'].index[PHEALTH['PHYSHLTH'] == 99] # which ones are 99\n",
    "PHEALTH.drop(index_of_99, 0, inplace = True) # drop those because they refused to answer\n",
    "print(f'Number of values after removing values of 99: {PHEALTH.shape}')\n",
    "\n",
    "index_of_77 = PHEALTH['PHYSHLTH'].index[PHEALTH['PHYSHLTH'] == 77] # which indices are 77\n",
    "PHEALTH.drop(index_of_77, 0, inplace = True) # drop those values because they don't know\n",
    "print(f'Number of values after removing values of 77: {PHEALTH.shape}')\n",
    "\n",
    "PHEALTH['PHYSHLTH'].value_counts().sort_index(ascending = True) # make sure all numbers (of days out) are within [1,30]"
   ]
  },
  {
   "cell_type": "code",
   "execution_count": 21,
   "metadata": {},
   "outputs": [
    {
     "name": "stdout",
     "output_type": "stream",
     "text": [
      "Int64Index([0, 1, 2, 7, 8, 9, 10], dtype='int64')\n",
      "0    3\n",
      "1    4\n",
      "2    5\n",
      "dtype: int64\n"
     ]
    }
   ],
   "source": [
    "'''random tests for indexing with conditionals in dataframes'''\n",
    "a = pd.Series(([77,22,343,5,6,6,7,77,88,989,99]))\n",
    "b = pd.Series([3,4,5,6,7,8])\n",
    "\n",
    "print(a.index[ a > 7 ])\n",
    "print(b[a > 7])"
   ]
  },
  {
   "cell_type": "markdown",
   "metadata": {},
   "source": [
    "## 1. Handle the non-normal values\n",
    "\n",
    "As you can see from the data dictionary, there are a number of responses that are coded with values that could throw off our descriptive statistics.  Let's clean up by mapping the responses to a more appropriate value, and handling any missing values.  "
   ]
  },
  {
   "cell_type": "code",
   "execution_count": 45,
   "metadata": {},
   "outputs": [
    {
     "data": {
      "text/plain": [
       "'DONE ABOVE'"
      ]
     },
     "execution_count": 45,
     "metadata": {},
     "output_type": "execute_result"
    }
   ],
   "source": [
    "#your code here\n",
    "'''DONE ABOVE'''\n"
   ]
  },
  {
   "cell_type": "markdown",
   "metadata": {},
   "source": [
    "## 2. Generate the descriptive statistics\n",
    "\n",
    "Now that our target variable is cleaned up lets calculate the descriptive statistics, generate a graph that quickly shows those statistics, and generate a gprah shows the histogram of the data."
   ]
  },
  {
   "cell_type": "code",
   "execution_count": 23,
   "metadata": {},
   "outputs": [
    {
     "name": "stdout",
     "output_type": "stream",
     "text": [
      "(10413,)\n",
      "(11458,)\n",
      "(11876,)\n"
     ]
    },
    {
     "data": {
      "text/plain": [
       "30.0     942\n",
       "29.0      12\n",
       "28.0      22\n",
       "27.0       8\n",
       "26.0       3\n",
       "25.0      58\n",
       "24.0       4\n",
       "23.0       2\n",
       "22.0       5\n",
       "21.0      27\n",
       "20.0     134\n",
       "19.0       4\n",
       "18.0       6\n",
       "17.0       6\n",
       "16.0       8\n",
       "15.0     218\n",
       "14.0     108\n",
       "13.0       2\n",
       "12.0      25\n",
       "11.0       2\n",
       "10.0     261\n",
       "9.0        7\n",
       "8.0       31\n",
       "7.0      237\n",
       "6.0       65\n",
       "5.0      316\n",
       "4.0      207\n",
       "3.0      399\n",
       "2.0      575\n",
       "1.0      461\n",
       "0.0     7303\n",
       "Name: PHYSHLTH, dtype: int64"
      ]
     },
     "execution_count": 23,
     "metadata": {},
     "output_type": "execute_result"
    }
   ],
   "source": [
    "# descriptive statistics\n",
    "PHEALTH.groupby('_STATE').head() #just to see what data looks like now\n",
    "\n",
    "CONNECTICUT = PHEALTH[PHEALTH['_STATE'] == 9]\n",
    "NEW_JERSEY = PHEALTH[PHEALTH['_STATE'] == 34]\n",
    "NEW_YORK = PHEALTH[PHEALTH['_STATE'] == 36]\n",
    "\n",
    "# plt.hist(CONNECTICUT['PHYSHLTH'], histtype = 'barstacked')\n",
    "print(CONNECTICUT['PHYSHLTH'].shape)\n",
    "print(NEW_JERSEY['PHYSHLTH'].shape)\n",
    "print(NEW_YORK['PHYSHLTH'].shape)\n",
    "NEW_JERSEY['PHYSHLTH'].value_counts().sort_index(ascending = False) # too make sure graphs reflect the actual data"
   ]
  },
  {
   "cell_type": "code",
   "execution_count": 46,
   "metadata": {},
   "outputs": [
    {
     "data": {
      "text/plain": [
       "(array([7.303e+03, 4.610e+02, 5.750e+02, 3.990e+02, 2.070e+02, 3.160e+02,\n",
       "        6.500e+01, 2.370e+02, 3.100e+01, 7.000e+00, 2.610e+02, 2.000e+00,\n",
       "        2.500e+01, 2.000e+00, 1.080e+02, 2.180e+02, 8.000e+00, 6.000e+00,\n",
       "        6.000e+00, 4.000e+00, 1.340e+02, 2.700e+01, 5.000e+00, 2.000e+00,\n",
       "        4.000e+00, 5.800e+01, 3.000e+00, 8.000e+00, 2.200e+01, 9.540e+02]),\n",
       " array([ 0.,  1.,  2.,  3.,  4.,  5.,  6.,  7.,  8.,  9., 10., 11., 12.,\n",
       "        13., 14., 15., 16., 17., 18., 19., 20., 21., 22., 23., 24., 25.,\n",
       "        26., 27., 28., 29., 30.]),\n",
       " <a list of 30 Patch objects>)"
      ]
     },
     "execution_count": 46,
     "metadata": {},
     "output_type": "execute_result"
    },
    {
     "data": {
      "image/png": "[encoded data removed]",
      "text/plain": [
       "<Figure size 432x288 with 1 Axes>"
      ]
     },
     "metadata": {
      "needs_background": "light"
     },
     "output_type": "display_data"
    }
   ],
   "source": [
    "plt.hist(NEW_JERSEY['PHYSHLTH'], bins = 30)"
   ]
  },
  {
   "cell_type": "code",
   "execution_count": 47,
   "metadata": {},
   "outputs": [
    {
     "data": {
      "text/plain": [
       "(array([7.214e+03, 5.810e+02, 7.910e+02, 4.690e+02, 2.300e+02, 4.360e+02,\n",
       "        7.000e+01, 2.300e+02, 4.000e+01, 4.000e+00, 2.760e+02, 4.000e+00,\n",
       "        2.500e+01, 6.000e+00, 1.230e+02, 2.430e+02, 6.000e+00, 2.000e+00,\n",
       "        6.000e+00, 3.000e+00, 1.540e+02, 2.100e+01, 2.000e+00, 2.000e+00,\n",
       "        2.000e+00, 5.700e+01, 3.000e+00, 9.000e+00, 2.000e+01, 8.470e+02]),\n",
       " array([ 0.,  1.,  2.,  3.,  4.,  5.,  6.,  7.,  8.,  9., 10., 11., 12.,\n",
       "        13., 14., 15., 16., 17., 18., 19., 20., 21., 22., 23., 24., 25.,\n",
       "        26., 27., 28., 29., 30.]),\n",
       " <a list of 30 Patch objects>)"
      ]
     },
     "execution_count": 47,
     "metadata": {},
     "output_type": "execute_result"
    },
    {
     "data": {
      "image/png": "[encoded data removed]",
      "text/plain": [
       "<Figure size 432x288 with 1 Axes>"
      ]
     },
     "metadata": {
      "needs_background": "light"
     },
     "output_type": "display_data"
    }
   ],
   "source": [
    "plt.hist(NEW_YORK['PHYSHLTH'], bins = 30)"
   ]
  },
  {
   "cell_type": "code",
   "execution_count": 48,
   "metadata": {},
   "outputs": [
    {
     "data": {
      "text/plain": [
       "(array([6.779e+03, 4.960e+02, 6.270e+02, 3.190e+02, 1.850e+02, 3.400e+02,\n",
       "        5.200e+01, 1.740e+02, 2.800e+01, 4.000e+00, 2.140e+02, 2.000e+00,\n",
       "        1.900e+01, 2.000e+00, 9.500e+01, 1.790e+02, 2.000e+00, 7.000e+00,\n",
       "        7.000e+00, 3.000e+00, 1.140e+02, 2.200e+01, 5.000e+00, 0.000e+00,\n",
       "        1.000e+00, 4.400e+01, 1.000e+00, 5.000e+00, 1.500e+01, 6.720e+02]),\n",
       " array([ 0.,  1.,  2.,  3.,  4.,  5.,  6.,  7.,  8.,  9., 10., 11., 12.,\n",
       "        13., 14., 15., 16., 17., 18., 19., 20., 21., 22., 23., 24., 25.,\n",
       "        26., 27., 28., 29., 30.]),\n",
       " <a list of 30 Patch objects>)"
      ]
     },
     "execution_count": 48,
     "metadata": {},
     "output_type": "execute_result"
    },
    {
     "data": {
      "image/png": "[encoded data removed]",
      "text/plain": [
       "<Figure size 432x288 with 1 Axes>"
      ]
     },
     "metadata": {
      "needs_background": "light"
     },
     "output_type": "display_data"
    }
   ],
   "source": [
    "plt.hist(CONNECTICUT['PHYSHLTH'], bins = 30)"
   ]
  },
  {
   "cell_type": "code",
   "execution_count": 37,
   "metadata": {},
   "outputs": [
    {
     "data": {
      "text/plain": [
       "count    10413.000000\n",
       "mean         3.688562\n",
       "std          8.103732\n",
       "min          0.000000\n",
       "25%          0.000000\n",
       "50%          0.000000\n",
       "75%          2.000000\n",
       "max         30.000000\n",
       "Name: PHYSHLTH, dtype: float64"
      ]
     },
     "execution_count": 37,
     "metadata": {},
     "output_type": "execute_result"
    }
   ],
   "source": [
    "CONNECTICUT['PHYSHLTH'].describe()"
   ]
  },
  {
   "cell_type": "code",
   "execution_count": 38,
   "metadata": {},
   "outputs": [
    {
     "data": {
      "text/plain": [
       "count    11458.000000\n",
       "mean         4.380957\n",
       "std          8.923776\n",
       "min          0.000000\n",
       "25%          0.000000\n",
       "50%          0.000000\n",
       "75%          3.000000\n",
       "max         30.000000\n",
       "Name: PHYSHLTH, dtype: float64"
      ]
     },
     "execution_count": 38,
     "metadata": {},
     "output_type": "execute_result"
    }
   ],
   "source": [
    "NEW_JERSEY['PHYSHLTH'].describe()"
   ]
  },
  {
   "cell_type": "code",
   "execution_count": 39,
   "metadata": {},
   "outputs": [
    {
     "data": {
      "text/plain": [
       "count    11876.00000\n",
       "mean         4.14803\n",
       "std          8.44533\n",
       "min          0.00000\n",
       "25%          0.00000\n",
       "50%          0.00000\n",
       "75%          3.00000\n",
       "max         30.00000\n",
       "Name: PHYSHLTH, dtype: float64"
      ]
     },
     "execution_count": 39,
     "metadata": {},
     "output_type": "execute_result"
    }
   ],
   "source": [
    "NEW_YORK['PHYSHLTH'].describe()"
   ]
  },
  {
   "cell_type": "code",
   "execution_count": 41,
   "metadata": {},
   "outputs": [
    {
     "data": {
      "text/plain": [
       "{'whiskers': [<matplotlib.lines.Line2D at 0x11b854c50>,\n",
       "  <matplotlib.lines.Line2D at 0x11b858210>],\n",
       " 'caps': [<matplotlib.lines.Line2D at 0x11b858710>,\n",
       "  <matplotlib.lines.Line2D at 0x11b858c10>],\n",
       " 'boxes': [<matplotlib.lines.Line2D at 0x11b8540d0>],\n",
       " 'medians': [<matplotlib.lines.Line2D at 0x11b860150>],\n",
       " 'fliers': [<matplotlib.lines.Line2D at 0x11b860690>],\n",
       " 'means': []}"
      ]
     },
     "execution_count": 41,
     "metadata": {},
     "output_type": "execute_result"
    },
    {
     "data": {
      "image/png": "[encoded data removed]",
      "text/plain": [
       "<Figure size 432x288 with 1 Axes>"
      ]
     },
     "metadata": {
      "needs_background": "light"
     },
     "output_type": "display_data"
    }
   ],
   "source": [
    "# graphic showing those descriptive stats\n",
    "fig1, ax1 = plt.subplots()\n",
    "ax1.boxplot(CONNECTICUT['PHYSHLTH'])  # box plot is not that good because about 80% of people took no days off"
   ]
  },
  {
   "cell_type": "code",
   "execution_count": 12,
   "metadata": {},
   "outputs": [],
   "source": [
    "# graphic showing the distribution of data"
   ]
  },
  {
   "cell_type": "markdown",
   "metadata": {},
   "source": [
    "## 3. Generate a graphic that compares the average number of sick days for each state. "
   ]
  },
  {
   "cell_type": "code",
   "execution_count": 107,
   "metadata": {},
   "outputs": [
    {
     "name": "stdout",
     "output_type": "stream",
     "text": [
      "The average number of sick days for Connecticut is: 3.689\n",
      "The average number of sick days for New Jersey is: 4.381\n",
      "The average number of sick days for New York is: 4.148\n"
     ]
    },
    {
     "data": {
      "text/plain": [
       "Text(0, 0.5, 'Number of Sick Days')"
      ]
     },
     "execution_count": 107,
     "metadata": {},
     "output_type": "execute_result"
    },
    {
     "data": {
      "image/png": "[encoded data removed]",
      "text/plain": [
       "<Figure size 432x288 with 1 Axes>"
      ]
     },
     "metadata": {
      "needs_background": "light"
     },
     "output_type": "display_data"
    }
   ],
   "source": [
    "# code to calculate the average number of sick days by state\n",
    "\n",
    "print(f\"The average number of sick days for Connecticut is: {round(CONNECTICUT['PHYSHLTH'].mean(),3)}\")\n",
    "print(f\"The average number of sick days for New Jersey is: {round(NEW_JERSEY['PHYSHLTH'].mean(),4)}\")\n",
    "print(f\"The average number of sick days for New York is: {round(NEW_YORK['PHYSHLTH'].mean(),4)}\")\n",
    "      \n",
    "compare_avg = plt.bar(['Connecticut', 'New Jersey', 'New York'], [CONNECTICUT['PHYSHLTH'].mean(), NEW_JERSEY['PHYSHLTH'].mean(), NEW_YORK['PHYSHLTH'].mean()], edgecolor = 'black')\n",
    "plt.title('Average Number of Sick Days By State')\n",
    "plt.ylabel('Number of Sick Days')"
   ]
  },
  {
   "cell_type": "code",
   "execution_count": null,
   "metadata": {},
   "outputs": [],
   "source": [
    "# code to graph those averages using matplotlib\n",
    "\n",
    "# not sure if this makes sense to do but they're asking for it so i did it"
   ]
  },
  {
   "cell_type": "markdown",
   "metadata": {},
   "source": [
    "## 4. Turn the number of sick days into a classification of of chronically sick people.  \n",
    "\n",
    "Chronically sick people account for a significant proportion of the costs for health insurers. If we can identify what leads people to be chronically sick, we can address them with specific treatments.\n",
    "\n"
   ]
  },
  {
   "cell_type": "code",
   "execution_count": 44,
   "metadata": {},
   "outputs": [
    {
     "name": "stdout",
     "output_type": "stream",
     "text": [
      "Number of values in PHYSHLTH column initially: (34545, 2)\n",
      "Number of values after changing values of 88 to 0: (34545, 2)\n",
      "Number of values after removing values of 99: (34240, 2)\n",
      "Number of values after removing values of 77: (33747, 2)\n"
     ]
    },
    {
     "data": {
      "text/html": [
       "<div>\n",
       "<style scoped>\n",
       "    .dataframe tbody tr th:only-of-type {\n",
       "        vertical-align: middle;\n",
       "    }\n",
       "\n",
       "    .dataframe tbody tr th {\n",
       "        vertical-align: top;\n",
       "    }\n",
       "\n",
       "    .dataframe thead th {\n",
       "        text-align: right;\n",
       "    }\n",
       "</style>\n",
       "<table border=\"1\" class=\"dataframe\">\n",
       "  <thead>\n",
       "    <tr style=\"text-align: right;\">\n",
       "      <th></th>\n",
       "      <th>PHYSHLTH</th>\n",
       "      <th>_STATE</th>\n",
       "      <th>ChSick</th>\n",
       "    </tr>\n",
       "  </thead>\n",
       "  <tbody>\n",
       "    <tr>\n",
       "      <td>49955</td>\n",
       "      <td>30.0</td>\n",
       "      <td>9.0</td>\n",
       "      <td>True</td>\n",
       "    </tr>\n",
       "    <tr>\n",
       "      <td>49995</td>\n",
       "      <td>30.0</td>\n",
       "      <td>9.0</td>\n",
       "      <td>True</td>\n",
       "    </tr>\n",
       "    <tr>\n",
       "      <td>50039</td>\n",
       "      <td>30.0</td>\n",
       "      <td>9.0</td>\n",
       "      <td>True</td>\n",
       "    </tr>\n",
       "    <tr>\n",
       "      <td>50112</td>\n",
       "      <td>30.0</td>\n",
       "      <td>9.0</td>\n",
       "      <td>True</td>\n",
       "    </tr>\n",
       "    <tr>\n",
       "      <td>50156</td>\n",
       "      <td>30.0</td>\n",
       "      <td>9.0</td>\n",
       "      <td>True</td>\n",
       "    </tr>\n",
       "    <tr>\n",
       "      <td>...</td>\n",
       "      <td>...</td>\n",
       "      <td>...</td>\n",
       "      <td>...</td>\n",
       "    </tr>\n",
       "    <tr>\n",
       "      <td>303688</td>\n",
       "      <td>30.0</td>\n",
       "      <td>36.0</td>\n",
       "      <td>True</td>\n",
       "    </tr>\n",
       "    <tr>\n",
       "      <td>303696</td>\n",
       "      <td>30.0</td>\n",
       "      <td>36.0</td>\n",
       "      <td>True</td>\n",
       "    </tr>\n",
       "    <tr>\n",
       "      <td>303698</td>\n",
       "      <td>30.0</td>\n",
       "      <td>36.0</td>\n",
       "      <td>True</td>\n",
       "    </tr>\n",
       "    <tr>\n",
       "      <td>303736</td>\n",
       "      <td>30.0</td>\n",
       "      <td>36.0</td>\n",
       "      <td>True</td>\n",
       "    </tr>\n",
       "    <tr>\n",
       "      <td>303751</td>\n",
       "      <td>30.0</td>\n",
       "      <td>36.0</td>\n",
       "      <td>True</td>\n",
       "    </tr>\n",
       "  </tbody>\n",
       "</table>\n",
       "<p>2438 rows × 3 columns</p>\n",
       "</div>"
      ],
      "text/plain": [
       "        PHYSHLTH  _STATE  ChSick\n",
       "49955       30.0     9.0    True\n",
       "49995       30.0     9.0    True\n",
       "50039       30.0     9.0    True\n",
       "50112       30.0     9.0    True\n",
       "50156       30.0     9.0    True\n",
       "...          ...     ...     ...\n",
       "303688      30.0    36.0    True\n",
       "303696      30.0    36.0    True\n",
       "303698      30.0    36.0    True\n",
       "303736      30.0    36.0    True\n",
       "303751      30.0    36.0    True\n",
       "\n",
       "[2438 rows x 3 columns]"
      ]
     },
     "execution_count": 44,
     "metadata": {},
     "output_type": "execute_result"
    }
   ],
   "source": [
    "# code to create new colum for chronically sick\n",
    "\n",
    "df = pd.read_csv('case_study.csv', index_col = 0)\n",
    "PHEALTH = df[['PHYSHLTH','_STATE']]\n",
    "print(f'Number of values in PHYSHLTH column initially: {PHEALTH.shape}')\n",
    "\n",
    "PHEALTH['PHYSHLTH'].replace(to_replace = 88, value = 0, inplace = True) # ones with 88 have not taken any days off\n",
    "print(f'Number of values after changing values of 88 to 0: {PHEALTH.shape}')\n",
    "\n",
    "index_of_99 = PHEALTH['PHYSHLTH'].index[PHEALTH['PHYSHLTH'] == 99] # which ones are 99\n",
    "PHEALTH.drop(index_of_99, 0, inplace = True) # drop those because they refused to answer\n",
    "print(f'Number of values after removing values of 99: {PHEALTH.shape}')\n",
    "\n",
    "index_of_77 = PHEALTH['PHYSHLTH'].index[PHEALTH['PHYSHLTH'] == 77] # which indices are 77\n",
    "PHEALTH.drop(index_of_77, 0, inplace = True) # drop those values because they don't know\n",
    "print(f'Number of values after removing values of 77: {PHEALTH.shape}')\n",
    "\n",
    "\n",
    "PHEALTH.loc[:,'ChSick'] = PHEALTH['PHYSHLTH'] == 30\n",
    "PHEALTH[PHEALTH['PHYSHLTH'] == 30] # check to see that ChSick is true for those we classify as chronically sick"
   ]
  },
  {
   "cell_type": "markdown",
   "metadata": {},
   "source": [
    "## 5. Create a graphic that compares the percentage of people labeled as 'sick' in each state. "
   ]
  },
  {
   "cell_type": "code",
   "execution_count": 60,
   "metadata": {},
   "outputs": [
    {
     "name": "stdout",
     "output_type": "stream",
     "text": [
      "6.35744 8.22133 7.02257\n"
     ]
    }
   ],
   "source": [
    "# code to calculate averages per state\n",
    "\n",
    "\n",
    "Ch_Sick_all = PHEALTH[PHEALTH['PHYSHLTH'] == 30] # every chronically sick person\n",
    "\n",
    "CS_CONN = Ch_Sick_all[Ch_Sick_all['_STATE'] == 9] # split chronically sick people by state\n",
    "CS_NJ = Ch_Sick_all[Ch_Sick_all['_STATE'] == 34]\n",
    "CS_NY = Ch_Sick_all[Ch_Sick_all['_STATE'] == 36]\n",
    "\n",
    "num_cs_conn = CS_CONN['ChSick'].sum() # chronically sick number for each state\n",
    "num_cs_nj = CS_NJ['ChSick'].sum()\n",
    "num_cs_ny = CS_NY['ChSick'].sum()\n",
    "\n",
    "ttl_conn = CONNECTICUT.shape[0] \n",
    "ttl_nj = NEW_JERSEY.shape[0]\n",
    "ttl_ny = NEW_YORK.shape[0]\n",
    "\n",
    "pct_cs_conn = round(num_cs_conn / ttl_conn * 100, 5)\n",
    "pct_cs_nj = round(num_cs_nj / ttl_nj * 100, 5)\n",
    "pct_cs_ny = round(num_cs_ny / ttl_ny * 100, 5)\n",
    "\n",
    "print(pct_cs_conn, pct_cs_nj, pct_cs_ny)"
   ]
  },
  {
   "cell_type": "code",
   "execution_count": 106,
   "metadata": {},
   "outputs": [
    {
     "data": {
      "text/plain": [
       "Text(0, 0.5, 'Percentage')"
      ]
     },
     "execution_count": 106,
     "metadata": {},
     "output_type": "execute_result"
    },
    {
     "data": {
      "image/png": "[encoded data removed]",
      "text/plain": [
       "<Figure size 432x288 with 1 Axes>"
      ]
     },
     "metadata": {
      "needs_background": "light"
     },
     "output_type": "display_data"
    }
   ],
   "source": [
    "# create graphic to compare chronically sick by state\n",
    "\n",
    "compare_cs = plt.bar(['Connecticut', 'New Jersey', 'New York'], [pct_cs_conn, pct_cs_nj, pct_cs_ny], edgecolor = 'black')\n",
    "\n",
    "plt.title('Percent of State Chronically Sick')\n",
    "plt.ylabel('Percentage')"
   ]
  },
  {
   "cell_type": "markdown",
   "metadata": {},
   "source": [
    "## 6. Independent Variables (categorical)\n",
    "\n",
    "Let's take the column `SMOKDAY2` and start to prepare it so that we can see how it is possibly correlated to `PHYSHLTH`.\n",
    "\n",
    "1. Clean up the values.\n",
    "2. Calculate the descriptive statistics of the variable.\n",
    "3. Generate a histogram for the variable.\n",
    "4. Generate graphics that show how the responses to this variable might differ by state.\n",
    "5. Generate a graphic that compares the physical health of the different groups of 'smokers'."
   ]
  },
  {
   "cell_type": "code",
   "execution_count": 119,
   "metadata": {},
   "outputs": [
    {
     "name": "stdout",
     "output_type": "stream",
     "text": [
      "Number of values after changing values of 88 to 0: (34545, 3)\n",
      "Number of values after removing values of 99: (34240, 3)\n",
      "Number of values after removing values of 77: (33747, 3)\n",
      "\n",
      "The number of values before removing NaN values are: (33747, 3)\n",
      "The number of values before removing NaN values are: (13468, 3)\n",
      "The number of values after removing rows with values of 7 from SMOKDAY2 are: (13462, 3)\n",
      "The number of values after removing rows with values of 9 from SMOKDAY2 are: (13441, 3)\n"
     ]
    },
    {
     "name": "stderr",
     "output_type": "stream",
     "text": [
      "/Users/flatironschool/opt/anaconda3/lib/python3.7/site-packages/ipykernel_launcher.py:27: SettingWithCopyWarning: \n",
      "A value is trying to be set on a copy of a slice from a DataFrame\n",
      "\n",
      "See the caveats in the documentation: http://pandas.pydata.org/pandas-docs/stable/user_guide/indexing.html#returning-a-view-versus-a-copy\n"
     ]
    },
    {
     "data": {
      "text/html": [
       "<div>\n",
       "<style scoped>\n",
       "    .dataframe tbody tr th:only-of-type {\n",
       "        vertical-align: middle;\n",
       "    }\n",
       "\n",
       "    .dataframe tbody tr th {\n",
       "        vertical-align: top;\n",
       "    }\n",
       "\n",
       "    .dataframe thead th {\n",
       "        text-align: right;\n",
       "    }\n",
       "</style>\n",
       "<table border=\"1\" class=\"dataframe\">\n",
       "  <thead>\n",
       "    <tr style=\"text-align: right;\">\n",
       "      <th></th>\n",
       "      <th>SMOKDAY2</th>\n",
       "      <th>PHYSHLTH</th>\n",
       "      <th>_STATE</th>\n",
       "    </tr>\n",
       "  </thead>\n",
       "  <tbody>\n",
       "    <tr>\n",
       "      <td>49942</td>\n",
       "      <td>3.0</td>\n",
       "      <td>0.0</td>\n",
       "      <td>9.0</td>\n",
       "    </tr>\n",
       "    <tr>\n",
       "      <td>49944</td>\n",
       "      <td>3.0</td>\n",
       "      <td>0.0</td>\n",
       "      <td>9.0</td>\n",
       "    </tr>\n",
       "    <tr>\n",
       "      <td>49946</td>\n",
       "      <td>3.0</td>\n",
       "      <td>28.0</td>\n",
       "      <td>9.0</td>\n",
       "    </tr>\n",
       "    <tr>\n",
       "      <td>49951</td>\n",
       "      <td>3.0</td>\n",
       "      <td>0.0</td>\n",
       "      <td>9.0</td>\n",
       "    </tr>\n",
       "    <tr>\n",
       "      <td>49954</td>\n",
       "      <td>3.0</td>\n",
       "      <td>0.0</td>\n",
       "      <td>9.0</td>\n",
       "    </tr>\n",
       "    <tr>\n",
       "      <td>...</td>\n",
       "      <td>...</td>\n",
       "      <td>...</td>\n",
       "      <td>...</td>\n",
       "    </tr>\n",
       "    <tr>\n",
       "      <td>303768</td>\n",
       "      <td>3.0</td>\n",
       "      <td>0.0</td>\n",
       "      <td>36.0</td>\n",
       "    </tr>\n",
       "    <tr>\n",
       "      <td>303769</td>\n",
       "      <td>3.0</td>\n",
       "      <td>10.0</td>\n",
       "      <td>36.0</td>\n",
       "    </tr>\n",
       "    <tr>\n",
       "      <td>303773</td>\n",
       "      <td>3.0</td>\n",
       "      <td>2.0</td>\n",
       "      <td>36.0</td>\n",
       "    </tr>\n",
       "    <tr>\n",
       "      <td>303774</td>\n",
       "      <td>1.0</td>\n",
       "      <td>0.0</td>\n",
       "      <td>36.0</td>\n",
       "    </tr>\n",
       "    <tr>\n",
       "      <td>303776</td>\n",
       "      <td>3.0</td>\n",
       "      <td>6.0</td>\n",
       "      <td>36.0</td>\n",
       "    </tr>\n",
       "  </tbody>\n",
       "</table>\n",
       "<p>13441 rows × 3 columns</p>\n",
       "</div>"
      ],
      "text/plain": [
       "        SMOKDAY2  PHYSHLTH  _STATE\n",
       "49942        3.0       0.0     9.0\n",
       "49944        3.0       0.0     9.0\n",
       "49946        3.0      28.0     9.0\n",
       "49951        3.0       0.0     9.0\n",
       "49954        3.0       0.0     9.0\n",
       "...          ...       ...     ...\n",
       "303768       3.0       0.0    36.0\n",
       "303769       3.0      10.0    36.0\n",
       "303773       3.0       2.0    36.0\n",
       "303774       1.0       0.0    36.0\n",
       "303776       3.0       6.0    36.0\n",
       "\n",
       "[13441 rows x 3 columns]"
      ]
     },
     "execution_count": 119,
     "metadata": {},
     "output_type": "execute_result"
    }
   ],
   "source": [
    "# 1. Clean data\n",
    "\n",
    "df = pd.read_csv('case_study.csv', index_col = 0)\n",
    "SMOK2_to_HLTH = df[['SMOKDAY2', 'PHYSHLTH','_STATE']] # grab only the columns we want\n",
    "SMOK2_to_HLTH\n",
    "\n",
    "# copied and pasted from before - just changes 88 to 0 and drops 77s and 99s according to the PHYSHLTH column\n",
    "SMOK2_to_HLTH['PHYSHLTH'].replace(to_replace = 88, value = 0, inplace = True) # ones with 88 have not taken any days off\n",
    "print(f'Number of values after changing values of 88 to 0: {SMOK2_to_HLTH.shape}')\n",
    "\n",
    "index_of_99 = SMOK2_to_HLTH['PHYSHLTH'].index[SMOK2_to_HLTH['PHYSHLTH'] == 99] # which ones are 99\n",
    "SMOK2_to_HLTH.drop(index_of_99, 0, inplace = True) # drop those because they refused to answer\n",
    "print(f'Number of values after removing values of 99: {SMOK2_to_HLTH.shape}')\n",
    "\n",
    "index_of_77 = SMOK2_to_HLTH['PHYSHLTH'].index[SMOK2_to_HLTH['PHYSHLTH'] == 77] # which indices are 77\n",
    "SMOK2_to_HLTH.drop(index_of_77, 0, inplace = True) # drop those values because they don't know\n",
    "print(f'Number of values after removing values of 77: {SMOK2_to_HLTH.shape}')\n",
    "\n",
    "SMOK2_to_HLTH.head() # check what this looks like. doesn't really help anything\n",
    "\n",
    "SMOK2_to_HLTH['SMOKDAY2'].unique() # check what SMOKDAY2 has\n",
    "# it contains only array([nan,  3.,  1.,  2.,  9.,  7.])\n",
    "# which are all the options indicated on the pdf\n",
    "# we don't want missing values because that doesn't tell us anything\n",
    "\n",
    "print(f'\\nThe number of values before removing NaN values are: {SMOK2_to_HLTH.shape}')\n",
    "SMOK2_to_HLTH.dropna(axis = 0, inplace = True)\n",
    "print(f'The number of values before removing NaN values are: {SMOK2_to_HLTH.shape}')\n",
    "\n",
    "# we probably also don't want the ones who don't know (7) or refused to answer (9). \n",
    "# safer to not make assumptions. we can drop those too. only a few, relatively\n",
    "\n",
    "\n",
    "index_7 = SMOK2_to_HLTH.index[SMOK2_to_HLTH['SMOKDAY2'] == 7] # find the indices where SMOKDAY2 = 7 to drop\n",
    "SMOK2_to_HLTH.drop(index_7, 0, inplace = True)\n",
    "print(f'The number of values after removing rows with values of 7 from SMOKDAY2 are: {SMOK2_to_HLTH.shape}')\n",
    "\n",
    "index_9 = SMOK2_to_HLTH.index[SMOK2_to_HLTH['SMOKDAY2'] == 9] # find the indices where SMOKDAY2 = 7 to drop\n",
    "SMOK2_to_HLTH.drop(index_9, 0, inplace = True)\n",
    "print(f'The number of values after removing rows with values of 9 from SMOKDAY2 are: {SMOK2_to_HLTH.shape}')\n",
    "\n",
    "SMOK2_to_HLTH"
   ]
  },
  {
   "cell_type": "code",
   "execution_count": 179,
   "metadata": {},
   "outputs": [
    {
     "data": {
      "image/png": "[encoded data removed]",
      "text/plain": [
       "<Figure size 720x576 with 6 Axes>"
      ]
     },
     "metadata": {
      "needs_background": "light"
     },
     "output_type": "display_data"
    }
   ],
   "source": [
    "# splitting data by state\n",
    "## people who smoke every day\n",
    "\n",
    "CT_S2_H = SMOK2_to_HLTH[SMOK2_to_HLTH['_STATE'] == 9].drop(columns = '_STATE')\n",
    "NJ_S2_H = SMOK2_to_HLTH[SMOK2_to_HLTH['_STATE'] == 34].drop(columns = '_STATE')\n",
    "NY_S2_H = SMOK2_to_HLTH[SMOK2_to_HLTH['_STATE'] == 36].drop(columns = '_STATE')\n",
    "\n",
    "plt.figure(figsize = (10,8))\n",
    "\n",
    "plt.subplot(3,2,1)\n",
    "plt.hist(CT_S2_H['PHYSHLTH'][CT_S2_H['SMOKDAY2'] == 1], bins = 30) # people in connecticut who smoke every day\n",
    "plt.title('Connecticut Daily Smokers')\n",
    "plt.xlabel('Days Out Each Month')\n",
    "plt.ylabel('Number of People')\n",
    "\n",
    "plt.subplot(3,2,3)\n",
    "plt.hist(NJ_S2_H['PHYSHLTH'][NJ_S2_H['SMOKDAY2'] == 1], bins = 30) # people in new jersey who smoke every day\n",
    "plt.title('New Jersey Daily Smokers')\n",
    "plt.xlabel('Days Out Each Month')\n",
    "plt.ylabel('Number of People')\n",
    "\n",
    "plt.subplot(3,2,5)\n",
    "plt.hist(NY_S2_H['PHYSHLTH'][NY_S2_H['SMOKDAY2'] == 1], bins = 30) # people in new york who smoke every day\n",
    "plt.title('New York Daily Smokers')\n",
    "plt.xlabel('Days Out Each Month')\n",
    "plt.ylabel('Number of People')\n",
    "\n",
    "## people who don't smoke\n",
    "\n",
    "plt.subplot(3,2,2)\n",
    "plt.hist(CT_S2_H['PHYSHLTH'][CT_S2_H['SMOKDAY2'] == 3], bins = 30) # people in connecticut who smoke every day\n",
    "plt.title('Connecticut Non-Smokers')\n",
    "plt.xlabel('Days Out Each Month')\n",
    "plt.ylabel('Number of People')\n",
    "\n",
    "plt.subplot(3,2,4)\n",
    "plt.hist(NJ_S2_H['PHYSHLTH'][NJ_S2_H['SMOKDAY2'] == 3], bins = 30) # people in new jersey who smoke every day\n",
    "plt.title('New Jersey Non-Smokers')\n",
    "plt.xlabel('Days Out Each Month')\n",
    "plt.ylabel('Number of People')\n",
    "\n",
    "plt.subplot(3,2,6)\n",
    "plt.hist(NY_S2_H['PHYSHLTH'][NY_S2_H['SMOKDAY2'] == 3], bins = 30) # people in new york who smoke every day\n",
    "plt.title('New York Non-Smokers')\n",
    "plt.xlabel('Days Out Each Month')\n",
    "plt.ylabel('Number of People')\n",
    "\n",
    "plt.tight_layout()\n"
   ]
  },
  {
   "cell_type": "code",
   "execution_count": 186,
   "metadata": {},
   "outputs": [
    {
     "data": {
      "image/png": "[encoded data removed]",
      "text/plain": [
       "<Figure size 720x576 with 2 Axes>"
      ]
     },
     "metadata": {
      "needs_background": "light"
     },
     "output_type": "display_data"
    }
   ],
   "source": [
    "plt.figure(figsize = (10,8))\n",
    "plt.subplot(2,1,1)\n",
    "plt.hist([CT_S2_H['PHYSHLTH'][CT_S2_H['SMOKDAY2'] == 1], \n",
    "         NJ_S2_H['PHYSHLTH'][NJ_S2_H['SMOKDAY2'] == 1], \n",
    "         NY_S2_H['PHYSHLTH'][NY_S2_H['SMOKDAY2'] == 1]],\n",
    "         bins = 30, histtype = 'bar', stacked = True)\n",
    "plt.title('Daily Smokers')\n",
    "plt.legend(['CT', 'NJ', 'NY'])\n",
    "plt.xlabel('Days Out')\n",
    "plt.ylabel('Number of People')\n",
    "\n",
    "plt.subplot(2,1,2)\n",
    "plt.hist([CT_S2_H['PHYSHLTH'][CT_S2_H['SMOKDAY2'] == 3], \n",
    "         NJ_S2_H['PHYSHLTH'][NJ_S2_H['SMOKDAY2'] == 3], \n",
    "         NY_S2_H['PHYSHLTH'][NY_S2_H['SMOKDAY2'] == 3]],\n",
    "         bins = 30, histtype = 'bar', stacked = True)\n",
    "plt.title('Non-Smokers')\n",
    "plt.legend(['CT', 'NJ', 'NY'])\n",
    "plt.xlabel('Days Out')\n",
    "plt.ylabel('Number of People')\n",
    "\n",
    "plt.tight_layout()"
   ]
  },
  {
   "cell_type": "code",
   "execution_count": null,
   "metadata": {},
   "outputs": [],
   "source": [
    "# putting data into various bar graphs\n",
    "\n",
    "# graph which ones are \n"
   ]
  },
  {
   "cell_type": "markdown",
   "metadata": {},
   "source": [
    "## 7. Independent Variables (continuous):\n",
    "\n",
    "Now let's look at a continuous variable (ALCDAY5) and see how that might impact a person's health. \n",
    "\n",
    "1. Clean up the values.\n",
    "2. Calculate the descriptive statistics of the variable.\n",
    "3. Generate a histogram for the variable.\n",
    "4. Generate graphics that show how the responses to this variable might differ by state.\n",
    "5. Calculate the correlation coefficient between `PHYSHLTH` and `ALCDAY5`.\n",
    "5. Generate a graphic that shows the possible relationship between `PHYSHLTH` and `ALCDAY5`."
   ]
  },
  {
   "cell_type": "markdown",
   "metadata": {},
   "source": [
    "## 8. Additional variables: Choose two additional survey items you would like to investigate do steps  6 or 7 for those variables."
   ]
  },
  {
   "cell_type": "code",
   "execution_count": null,
   "metadata": {},
   "outputs": [],
   "source": [
    "# your code here"
   ]
  },
  {
   "cell_type": "markdown",
   "metadata": {},
   "source": [
    "## 9. Based on your initial data exploration, what are some hypotheses of what affects a person's health that you would like to further investigate?"
   ]
  },
  {
   "cell_type": "markdown",
   "metadata": {},
   "source": [
    "Type out your initial hyptotheses below:\n",
    "\n",
    "1. \n",
    "\n",
    "2. \n",
    "\n",
    "3.  "
   ]
  },
  {
   "cell_type": "markdown",
   "metadata": {},
   "source": [
    "## Bonus: Create some cool graphics.  "
   ]
  },
  {
   "cell_type": "code",
   "execution_count": null,
   "metadata": {},
   "outputs": [],
   "source": []
  }
 ],
 "metadata": {
  "kernelspec": {
   "display_name": "Python 3",
   "language": "python",
   "name": "python3"
  },
  "language_info": {
   "codemirror_mode": {
    "name": "ipython",
    "version": 3
   },
   "file_extension": ".py",
   "mimetype": "text/x-python",
   "name": "python",
   "nbconvert_exporter": "python",
   "pygments_lexer": "ipython3",
   "version": "3.7.4"
  }
 },
 "nbformat": 4,
 "nbformat_minor": 2
}
