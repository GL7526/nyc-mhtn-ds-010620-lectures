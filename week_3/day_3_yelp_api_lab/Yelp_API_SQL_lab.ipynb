{
 "cells": [
  {
   "cell_type": "markdown",
   "metadata": {},
   "source": [
    "# Yelp API - Lab\n",
    "\n",
    "\n",
    "\n",
    "## Introduction \n",
    "\n",
    "Now that we've seen how the Yelp API works, it's time to put those API and SQL skills to work in order to do some basic business analysis! Taking things a step further, you'll also independently explore how to perform pagination in order to retrieve a full results set from the Yelp API!\n",
    "\n",
    "## Objectives\n",
    "\n",
    "You will be able to:\n",
    "* Create a DB on AWS to store information from Yelp about businesses\n",
    "* Create HTTP requests to get data from Yelp API\n",
    "* Parse HTTP responses and insert the information into your DB\n",
    "* Perform pagination to retrieve troves of data!\n",
    "* Write SQL queries to answer questions about your data "
   ]
  },
  {
   "cell_type": "markdown",
   "metadata": {},
   "source": [
    "## Problem Introduction\n",
    "\n",
    "For this lab you will analyze the yelp data for a group of businesses to learn more about an industry. You will choose a type of business (Italian Restuarants, Nail Salons, Crossfit gyms) and a location to analyze. Then you will get data from the Yelp API, store that data in a SQL Database on AWS, and write queries to answer questions about the data. \n",
    "\n",
    "\n",
    "### Process:\n",
    "\n",
    "1. Read through the SQL questions and the API documentation to determine which pieces of information you need to pull from the Yelp API.\n",
    "\n",
    "2. Create a DB schema with 2 tables. One for the businesses and one for the reviews.\n",
    "\n",
    "3. Create code to:\n",
    "  - Perform a search of businesses using pagination\n",
    "  - Parse the API response for specific data points\n",
    "  - Insert the data into your AWS DB\n",
    "\n",
    "4. Use the functions above in a loop that will paginate over the results to retrieve all of the results. \n",
    "\n",
    "5. Create functions to:\n",
    "  - Retrieve the reviews data of one business\n",
    "  - Parse the reviews response for specific review data\n",
    "  - Insert the review data into the DB\n",
    "\n",
    "6. Using SQL, query all of the business IDs. Using the 3 Python functions you've created, run your business IDs through a loop to get the reviews for each business and insert them into your DB.\n",
    "\n",
    "7. Write SQL queries to answer the following questions about your data.\n",
    "\n",
    "\n",
    "Bonus Steps:  \n",
    "- Place your helper functions in a package so that your final notebook only has the major steps listed.\n",
    "- Rewrite your business search functions to be able take an argument for the type of business you are searching for.\n",
    "- Add another group of businesses to your database.\n"
   ]
  },
  {
   "cell_type": "markdown",
   "metadata": {},
   "source": [
    " \n",
    "## SQL Questions:\n",
    "\n",
    "- Which are the 5 most reviewed businesses?\n",
    "    **Lombardi's Pizza, Grimaldi's Pizza, Artichoke Basille's Pizza, L & B Spumoni Gardens, Di Fara Pizza**\n",
    "- What is the highest rating recieved in your data set and how many businesses have that rating?\n",
    "- What percentage of businesses have a rating greater than or  4.5?\n",
    "- What percentage of businesses have a rating less than 3?\n",
    "- What is the average rating of restaurants that have a price label of one dollar sign? Two dollar signs? Three dollar signs? \n",
    "- Return the text of the reviews for the most reviewed restaurant. \n",
    "- Return the name of the business with the most recent review. \n",
    "- Find the highest rated business and return text of the most recent review. If multiple business have the same rating, select the restaurant with the most reviews. \n",
    "- Find the lowest rated business and return text of the most recent review.  If multiple business have the same rating, select the restaurant with the least reviews. \n"
   ]
  },
  {
   "cell_type": "markdown",
   "metadata": {},
   "source": [
    "## Part 1 - Understanding your data and question\n",
    "\n",
    "Lok at the question and determine what data you will need to store in your database in order to answer the questions. Start to thin about your DB schema. What tables will you want to create and what columns will you ahve for those tables. \n",
    "\n",
    "Look at the API documentation, and determine what fields of the API response you will match up with the columns you want in your DB tables. \n",
    "\n",
    "\n",
    "https://www.yelp.com/developers/documentation/v3/get_started"
   ]
  },
  {
   "cell_type": "markdown",
   "metadata": {},
   "source": [
    "## Part 2 - Set up the DB\n",
    "\n",
    "Now that you are familiar with the data, create your SQL queries to create the DB and the appropriate tables. "
   ]
  },
  {
   "cell_type": "markdown",
   "metadata": {},
   "source": [
    "### Foriegn Keys\n",
    "\n",
    "For this project you will have two tables that you need to link using a foreign key. Below is some information about how to create a foriegn key.  \n",
    "\n",
    "http://www.mysqltutorial.org/mysql-foreign-key/\n",
    "\n"
   ]
  },
  {
   "cell_type": "markdown",
   "metadata": {},
   "source": [
    "### Using DB:\n",
    "    \n",
    "For this lab, you can either store the data on one DB or put in on both of the partners DBs. If you decide to put it on one DB, you want to make sure both partners have access to it.  To do this you want to add a user to your DB.  \n",
    "\n",
    "[how to add a new user](https://howchoo.com/g/mtm3zdq2nzv/how-to-add-a-mysql-user-and-grant-privileges)"
   ]
  },
  {
   "cell_type": "code",
   "execution_count": 3,
   "metadata": {},
   "outputs": [
    {
     "name": "stdout",
     "output_type": "stream",
     "text": [
      "{'businesses': [{'id': 'sUvoBG8t3eKC7WhJbnro2w', 'alias': 'the-pizza-place-hewlett', 'name': 'The Pizza Place', 'image_url': 'https://s3-media1.fl.yelpcdn.com/bphoto/19ybffZ3cvRMqzZpSWaJrw/o.jpg', 'is_closed': False, 'url': 'https://www.yelp.com/biz/the-pizza-place-hewlett?adjust_creative=4g8hNRzG0KG84ivcEs39Wg&utm_campaign=yelp_api_v3&utm_medium=api_v3_business_search&utm_source=4g8hNRzG0KG84ivcEs39Wg', 'review_count': 92, 'categories': [{'alias': 'pizza', 'title': 'Pizza'}, {'alias': 'italian', 'title': 'Italian'}], 'rating': 3.5, 'coordinates': {'latitude': 40.640716, 'longitude': -73.699516}, 'transactions': [], 'price': '$$', 'location': {'address1': '1344 Broadway', 'address2': '', 'address3': '', 'city': 'Hewlett', 'zip_code': '11557', 'country': 'US', 'state': 'NY', 'display_address': ['1344 Broadway', 'Hewlett, NY 11557']}, 'phone': '+15163745900', 'display_phone': '(516) 374-5900', 'distance': 20271.82979363579}, {'id': 'EsHcyOLHaK76bQuU7bwiTw', 'alias': 'tonys-pizzeria-and-restaurant-brooklyn-3', 'name': \"Tony's Pizzeria & Restaurant\", 'image_url': 'https://s3-media1.fl.yelpcdn.com/bphoto/wEPzpmEQ2Hd-WkeKUGe1Kg/o.jpg', 'is_closed': False, 'url': 'https://www.yelp.com/biz/tonys-pizzeria-and-restaurant-brooklyn-3?adjust_creative=4g8hNRzG0KG84ivcEs39Wg&utm_campaign=yelp_api_v3&utm_medium=api_v3_business_search&utm_source=4g8hNRzG0KG84ivcEs39Wg', 'review_count': 285, 'categories': [{'alias': 'pizza', 'title': 'Pizza'}, {'alias': 'italian', 'title': 'Italian'}], 'rating': 4.5, 'coordinates': {'latitude': 40.699286, 'longitude': -73.918724}, 'transactions': ['pickup', 'delivery'], 'price': '$', 'location': {'address1': '443 Knickerbocker Ave', 'address2': '', 'address3': '', 'city': 'Brooklyn', 'zip_code': '11237', 'country': 'US', 'state': 'NY', 'display_address': ['443 Knickerbocker Ave', 'Brooklyn, NY 11237']}, 'phone': '+17184559664', 'display_phone': '(718) 455-9664', 'distance': 5503.669556667695}, {'id': '3VJwpmmeoPlCN3J5p5miEQ', 'alias': 'brooklyns-homeslice-pizzeria-brooklyn', 'name': \"Brooklyn's Homeslice Pizzeria\", 'image_url': 'https://s3-media2.fl.yelpcdn.com/bphoto/0CxtRC4BfPobAfvBBLJH3g/o.jpg', 'is_closed': False, 'url': 'https://www.yelp.com/biz/brooklyns-homeslice-pizzeria-brooklyn?adjust_creative=4g8hNRzG0KG84ivcEs39Wg&utm_campaign=yelp_api_v3&utm_medium=api_v3_business_search&utm_source=4g8hNRzG0KG84ivcEs39Wg', 'review_count': 109, 'categories': [{'alias': 'pizza', 'title': 'Pizza'}], 'rating': 4.5, 'coordinates': {'latitude': 40.680702, 'longitude': -73.967455}, 'transactions': ['pickup', 'delivery'], 'price': '$', 'location': {'address1': '567 Vanderbilt Ave', 'address2': '', 'address3': None, 'city': 'Brooklyn', 'zip_code': '11238', 'country': 'US', 'state': 'NY', 'display_address': ['567 Vanderbilt Ave', 'Brooklyn, NY 11238']}, 'phone': '+17183999000', 'display_phone': '(718) 399-9000', 'distance': 3945.532545091288}, {'id': 'ysqgdbSrezXgVwER2kQWKA', 'alias': 'julianas-pizza-brooklyn-5', 'name': \"Juliana's Pizza\", 'image_url': 'https://s3-media2.fl.yelpcdn.com/bphoto/clscwgOF9_Ecq-Rwsq7jyQ/o.jpg', 'is_closed': False, 'url': 'https://www.yelp.com/biz/julianas-pizza-brooklyn-5?adjust_creative=4g8hNRzG0KG84ivcEs39Wg&utm_campaign=yelp_api_v3&utm_medium=api_v3_business_search&utm_source=4g8hNRzG0KG84ivcEs39Wg', 'review_count': 2157, 'categories': [{'alias': 'pizza', 'title': 'Pizza'}], 'rating': 4.5, 'coordinates': {'latitude': 40.7026153030093, 'longitude': -73.9934159993549}, 'transactions': [], 'price': '$$', 'location': {'address1': '19 Old Fulton St', 'address2': '', 'address3': '', 'city': 'Brooklyn', 'zip_code': '11201', 'country': 'US', 'state': 'NY', 'display_address': ['19 Old Fulton St', 'Brooklyn, NY 11201']}, 'phone': '+17185966700', 'display_phone': '(718) 596-6700', 'distance': 7214.079408853298}, {'id': 'AbDiDY7kYDSldaKbGpoSlg', 'alias': 'the-brooklyn-firefly-brooklyn', 'name': 'The Brooklyn Firefly', 'image_url': 'https://s3-media4.fl.yelpcdn.com/bphoto/4bTWP3GhL1kjuhlsduC71w/o.jpg', 'is_closed': False, 'url': 'https://www.yelp.com/biz/the-brooklyn-firefly-brooklyn?adjust_creative=4g8hNRzG0KG84ivcEs39Wg&utm_campaign=yelp_api_v3&utm_medium=api_v3_business_search&utm_source=4g8hNRzG0KG84ivcEs39Wg', 'review_count': 215, 'categories': [{'alias': 'pizza', 'title': 'Pizza'}, {'alias': 'jazzandblues', 'title': 'Jazz & Blues'}, {'alias': 'bars', 'title': 'Bars'}], 'rating': 4.0, 'coordinates': {'latitude': 40.63468, 'longitude': -74.02631}, 'transactions': ['pickup', 'delivery'], 'price': '$$', 'location': {'address1': '7003 3rd Ave', 'address2': '', 'address3': None, 'city': 'Brooklyn', 'zip_code': '11209', 'country': 'US', 'state': 'NY', 'display_address': ['7003 3rd Ave', 'Brooklyn, NY 11209']}, 'phone': '+17188335000', 'display_phone': '(718) 833-5000', 'distance': 7588.967605653356}, {'id': 'tZhguXirvAsEmJCbuym7BQ', 'alias': 'jojos-pizza-brooklyn', 'name': \"Jojo's Pizza\", 'image_url': 'https://s3-media2.fl.yelpcdn.com/bphoto/LOt0UBsTYWH-dVHhpph-5w/o.jpg', 'is_closed': False, 'url': 'https://www.yelp.com/biz/jojos-pizza-brooklyn?adjust_creative=4g8hNRzG0KG84ivcEs39Wg&utm_campaign=yelp_api_v3&utm_medium=api_v3_business_search&utm_source=4g8hNRzG0KG84ivcEs39Wg', 'review_count': 11, 'categories': [{'alias': 'pizza', 'title': 'Pizza'}], 'rating': 4.5, 'coordinates': {'latitude': 40.65502, 'longitude': -73.91602}, 'transactions': ['pickup', 'delivery'], 'location': {'address1': '9502 Church Ave', 'address2': '', 'address3': '', 'city': 'Brooklyn', 'zip_code': '11212', 'country': 'US', 'state': 'NY', 'display_address': ['9502 Church Ave', 'Brooklyn, NY 11212']}, 'phone': '+17184853087', 'display_phone': '(718) 485-3087', 'distance': 1992.183471807299}, {'id': 'v1DHGRNCH9247WLYoaoA9A', 'alias': 'l-industrie-pizzeria-brooklyn', 'name': \"L'industrie Pizzeria\", 'image_url': 'https://s3-media2.fl.yelpcdn.com/bphoto/SRL_RztRRUijgQwt67daGw/o.jpg', 'is_closed': False, 'url': 'https://www.yelp.com/biz/l-industrie-pizzeria-brooklyn?adjust_creative=4g8hNRzG0KG84ivcEs39Wg&utm_campaign=yelp_api_v3&utm_medium=api_v3_business_search&utm_source=4g8hNRzG0KG84ivcEs39Wg', 'review_count': 503, 'categories': [{'alias': 'pizza', 'title': 'Pizza'}], 'rating': 4.5, 'coordinates': {'latitude': 40.71162, 'longitude': -73.95783}, 'transactions': ['pickup', 'delivery'], 'price': '$', 'location': {'address1': '254 S 2nd St', 'address2': '', 'address3': '', 'city': 'Brooklyn', 'zip_code': '11211', 'country': 'US', 'state': 'NY', 'display_address': ['254 S 2nd St', 'Brooklyn, NY 11211']}, 'phone': '+17185990002', 'display_phone': '(718) 599-0002', 'distance': 6771.011722454566}, {'id': 'E2RpnwMxgDHAWcsNMevhmg', 'alias': 'cuts-and-slices-brooklyn-3', 'name': 'Cuts & Slices', 'image_url': 'https://s3-media1.fl.yelpcdn.com/bphoto/iGo7yv-6OdBDsxL2FhPKww/o.jpg', 'is_closed': False, 'url': 'https://www.yelp.com/biz/cuts-and-slices-brooklyn-3?adjust_creative=4g8hNRzG0KG84ivcEs39Wg&utm_campaign=yelp_api_v3&utm_medium=api_v3_business_search&utm_source=4g8hNRzG0KG84ivcEs39Wg', 'review_count': 103, 'categories': [{'alias': 'pizza', 'title': 'Pizza'}], 'rating': 4.5, 'coordinates': {'latitude': 40.6854737, 'longitude': -73.9203186}, 'transactions': ['pickup', 'delivery'], 'price': '$', 'location': {'address1': '93 Howard Ave', 'address2': None, 'address3': '', 'city': 'Brooklyn', 'zip_code': '11233', 'country': 'US', 'state': 'NY', 'display_address': ['93 Howard Ave', 'Brooklyn, NY 11233']}, 'phone': '+17185522652', 'display_phone': '(718) 552-2652', 'distance': 4011.643918257051}, {'id': 'c7f3V4h8kB4Pvgl3WzUKJg', 'alias': 'wood-fire-oven-pizza-brooklyn-2', 'name': 'Wood Fire Oven Pizza', 'image_url': 'https://s3-media2.fl.yelpcdn.com/bphoto/bWuHQ9oBuInc0Q2mIviAQw/o.jpg', 'is_closed': False, 'url': 'https://www.yelp.com/biz/wood-fire-oven-pizza-brooklyn-2?adjust_creative=4g8hNRzG0KG84ivcEs39Wg&utm_campaign=yelp_api_v3&utm_medium=api_v3_business_search&utm_source=4g8hNRzG0KG84ivcEs39Wg', 'review_count': 16, 'categories': [{'alias': 'pizza', 'title': 'Pizza'}], 'rating': 4.0, 'coordinates': {'latitude': 40.61239, 'longitude': -74.00072}, 'transactions': ['pickup', 'delivery'], 'location': {'address1': '7901 17th Anenue', 'address2': None, 'address3': '', 'city': 'Brooklyn', 'zip_code': '11214', 'country': 'US', 'state': 'NY', 'display_address': ['7901 17th Anenue', 'Brooklyn, NY 11214']}, 'phone': '+17189757577', 'display_phone': '(718) 975-7577', 'distance': 6819.176769583841}, {'id': 'Gr-5hjfSUO_ZAfOdwnqWpw', 'alias': 'family-pizza-brooklyn', 'name': 'Family Pizza', 'image_url': 'https://s3-media3.fl.yelpcdn.com/bphoto/7iHFI9zOWztTW0PiNagE6w/o.jpg', 'is_closed': False, 'url': 'https://www.yelp.com/biz/family-pizza-brooklyn?adjust_creative=4g8hNRzG0KG84ivcEs39Wg&utm_campaign=yelp_api_v3&utm_medium=api_v3_business_search&utm_source=4g8hNRzG0KG84ivcEs39Wg', 'review_count': 55, 'categories': [{'alias': 'pizza', 'title': 'Pizza'}], 'rating': 4.0, 'coordinates': {'latitude': 40.65585, 'longitude': -73.96008}, 'transactions': [], 'price': '$', 'location': {'address1': '720 Flatbush Ave', 'address2': '', 'address3': '', 'city': 'Brooklyn', 'zip_code': '11225', 'country': 'US', 'state': 'NY', 'display_address': ['720 Flatbush Ave', 'Brooklyn, NY 11225']}, 'phone': '+17184620639', 'display_phone': '(718) 462-0639', 'distance': 1798.4396068316894}, {'id': 'XB52IWIOK0AWx0NREpeNBw', 'alias': 'sal-and-pauls-pizzeria-brooklyn', 'name': \"Sal & Paul's Pizzeria\", 'image_url': 'https://s3-media1.fl.yelpcdn.com/bphoto/2I9k6zpge1Gen5AkbWk8Ag/o.jpg', 'is_closed': False, 'url': 'https://www.yelp.com/biz/sal-and-pauls-pizzeria-brooklyn?adjust_creative=4g8hNRzG0KG84ivcEs39Wg&utm_campaign=yelp_api_v3&utm_medium=api_v3_business_search&utm_source=4g8hNRzG0KG84ivcEs39Wg', 'review_count': 47, 'categories': [{'alias': 'pizza', 'title': 'Pizza'}], 'rating': 4.5, 'coordinates': {'latitude': 40.669419, 'longitude': -73.911059}, 'transactions': ['pickup', 'delivery'], 'price': '$', 'location': {'address1': '1686 Pitkin Ave', 'address2': '', 'address3': '', 'city': 'Brooklyn', 'zip_code': '11212', 'country': 'US', 'state': 'NY', 'display_address': ['1686 Pitkin Ave', 'Brooklyn, NY 11212']}, 'phone': '+17189220550', 'display_phone': '(718) 922-0550', 'distance': 3051.393402123398}, {'id': 'OVyxBGSZ0x6rjyGkW6zCHA', 'alias': 'taverna-pizza-staten-island', 'name': 'Taverna Pizza', 'image_url': 'https://s3-media1.fl.yelpcdn.com/bphoto/7Ypp5-dh5zs8hlz4vT0gnw/o.jpg', 'is_closed': False, 'url': 'https://www.yelp.com/biz/taverna-pizza-staten-island?adjust_creative=4g8hNRzG0KG84ivcEs39Wg&utm_campaign=yelp_api_v3&utm_medium=api_v3_business_search&utm_source=4g8hNRzG0KG84ivcEs39Wg', 'review_count': 2, 'categories': [{'alias': 'pizza', 'title': 'Pizza'}, {'alias': 'italian', 'title': 'Italian'}], 'rating': 5.0, 'coordinates': {'latitude': 40.62588, 'longitude': -74.07504}, 'transactions': [], 'location': {'address1': '663 Bay St', 'address2': None, 'address3': '', 'city': 'Staten Island', 'zip_code': '10304', 'country': 'US', 'state': 'NY', 'display_address': ['663 Bay St', 'Staten Island, NY 10304']}, 'phone': '+17185247976', 'display_phone': '(718) 524-7976', 'distance': 11819.678653299356}, {'id': 'hSgD7ERSw0DE2RMzLGFiHg', 'alias': 'daddy-greens-brooklyn', 'name': 'Daddy Greens', 'image_url': 'https://s3-media3.fl.yelpcdn.com/bphoto/e9XRyluJfMa9eFlgoX0JDQ/o.jpg', 'is_closed': False, 'url': 'https://www.yelp.com/biz/daddy-greens-brooklyn?adjust_creative=4g8hNRzG0KG84ivcEs39Wg&utm_campaign=yelp_api_v3&utm_medium=api_v3_business_search&utm_source=4g8hNRzG0KG84ivcEs39Wg', 'review_count': 365, 'categories': [{'alias': 'pizza', 'title': 'Pizza'}, {'alias': 'sandwiches', 'title': 'Sandwiches'}, {'alias': 'salad', 'title': 'Salad'}], 'rating': 4.0, 'coordinates': {'latitude': 40.67969, 'longitude': -73.93883}, 'transactions': ['pickup', 'delivery'], 'price': '$', 'location': {'address1': '1552 Fulton St', 'address2': None, 'address3': '', 'city': 'Brooklyn', 'zip_code': '11233', 'country': 'US', 'state': 'NY', 'display_address': ['1552 Fulton St', 'Brooklyn, NY 11233']}, 'phone': '+17184842142', 'display_phone': '(718) 484-2142', 'distance': 3044.554067404408}, {'id': 'C8j0q4Ma_S5hBGuAI-aaww', 'alias': 'di-fara-pizza-brooklyn', 'name': 'Di Fara Pizza', 'image_url': 'https://s3-media3.fl.yelpcdn.com/bphoto/4dfe9qpe20P-vi3qFjWd4Q/o.jpg', 'is_closed': False, 'url': 'https://www.yelp.com/biz/di-fara-pizza-brooklyn?adjust_creative=4g8hNRzG0KG84ivcEs39Wg&utm_campaign=yelp_api_v3&utm_medium=api_v3_business_search&utm_source=4g8hNRzG0KG84ivcEs39Wg', 'review_count': 3402, 'categories': [{'alias': 'pizza', 'title': 'Pizza'}], 'rating': 4.0, 'coordinates': {'latitude': 40.625093, 'longitude': -73.961531}, 'transactions': ['pickup', 'delivery'], 'price': '$$', 'location': {'address1': '1424 Ave J', 'address2': '', 'address3': '', 'city': 'Brooklyn', 'zip_code': '11230', 'country': 'US', 'state': 'NY', 'display_address': ['1424 Ave J', 'Brooklyn, NY 11230']}, 'phone': '+17182581367', 'display_phone': '(718) 258-1367', 'distance': 3559.746344303}, {'id': '_sU0oNgNGyq1JFO8AGfB2A', 'alias': 'vesuvius-pizza-brooklyn', 'name': 'Vesuvius Pizza', 'image_url': 'https://s3-media1.fl.yelpcdn.com/bphoto/-w2oDxpyfUhg7uZys-dIVw/o.jpg', 'is_closed': False, 'url': 'https://www.yelp.com/biz/vesuvius-pizza-brooklyn?adjust_creative=4g8hNRzG0KG84ivcEs39Wg&utm_campaign=yelp_api_v3&utm_medium=api_v3_business_search&utm_source=4g8hNRzG0KG84ivcEs39Wg', 'review_count': 25, 'categories': [{'alias': 'pizza', 'title': 'Pizza'}], 'rating': 3.5, 'coordinates': {'latitude': 40.6099, 'longitude': -73.95541}, 'transactions': ['pickup', 'delivery'], 'price': '$', 'location': {'address1': '1800 Kings Hwy', 'address2': '', 'address3': '', 'city': 'Brooklyn', 'zip_code': '11229', 'country': 'US', 'state': 'NY', 'display_address': ['1800 Kings Hwy', 'Brooklyn, NY 11229']}, 'phone': '+17183399300', 'display_phone': '(718) 339-9300', 'distance': 4915.356312773627}, {'id': 'b8xonwU5ZvxVauxNY07FsA', 'alias': 'brooklyn-pizza-crew-brooklyn-2', 'name': 'Brooklyn Pizza Crew', 'image_url': 'https://s3-media3.fl.yelpcdn.com/bphoto/7ZadLDDel-WGWKmj6FfiuQ/o.jpg', 'is_closed': False, 'url': 'https://www.yelp.com/biz/brooklyn-pizza-crew-brooklyn-2?adjust_creative=4g8hNRzG0KG84ivcEs39Wg&utm_campaign=yelp_api_v3&utm_medium=api_v3_business_search&utm_source=4g8hNRzG0KG84ivcEs39Wg', 'review_count': 133, 'categories': [{'alias': 'pizza', 'title': 'Pizza'}, {'alias': 'italian', 'title': 'Italian'}], 'rating': 3.5, 'coordinates': {'latitude': 40.67279, 'longitude': -73.95053}, 'transactions': ['pickup', 'delivery'], 'price': '$$', 'location': {'address1': '758 Nostrand Ave', 'address2': None, 'address3': '', 'city': 'Brooklyn', 'zip_code': '11216', 'country': 'US', 'state': 'NY', 'display_address': ['758 Nostrand Ave', 'Brooklyn, NY 11216']}, 'phone': '+17183631122', 'display_phone': '(718) 363-1122', 'distance': 2462.9696684793803}, {'id': 'MvkkAVNCFVmCWo8rXaTwBQ', 'alias': 'uncle-frankie-s-brooklyn', 'name': 'Uncle Frankie’s', 'image_url': 'https://s3-media1.fl.yelpcdn.com/bphoto/lzJ7GjouJbncfENvQVeI6Q/o.jpg', 'is_closed': False, 'url': 'https://www.yelp.com/biz/uncle-frankie-s-brooklyn?adjust_creative=4g8hNRzG0KG84ivcEs39Wg&utm_campaign=yelp_api_v3&utm_medium=api_v3_business_search&utm_source=4g8hNRzG0KG84ivcEs39Wg', 'review_count': 23, 'categories': [{'alias': 'pizza', 'title': 'Pizza'}, {'alias': 'desserts', 'title': 'Desserts'}, {'alias': 'salad', 'title': 'Salad'}], 'rating': 4.0, 'coordinates': {'latitude': 40.64852, 'longitude': -73.9787}, 'transactions': ['pickup', 'delivery'], 'location': {'address1': '3007 Fort Hamilton Pkwy', 'address2': '', 'address3': None, 'city': 'Brooklyn', 'zip_code': '11218', 'country': 'US', 'state': 'NY', 'display_address': ['3007 Fort Hamilton Pkwy', 'Brooklyn, NY 11218']}, 'phone': '+17188543462', 'display_phone': '(718) 854-3462', 'distance': 3348.843766322141}, {'id': '0o322YHC7J9ru5s_GHUM3Q', 'alias': 'mamma-roma-brooklyn', 'name': 'Mamma Roma', 'image_url': 'https://s3-media3.fl.yelpcdn.com/bphoto/yVcioRpRq0g3su_F1smDIQ/o.jpg', 'is_closed': False, 'url': 'https://www.yelp.com/biz/mamma-roma-brooklyn?adjust_creative=4g8hNRzG0KG84ivcEs39Wg&utm_campaign=yelp_api_v3&utm_medium=api_v3_business_search&utm_source=4g8hNRzG0KG84ivcEs39Wg', 'review_count': 2, 'categories': [{'alias': 'italian', 'title': 'Italian'}, {'alias': 'pizza', 'title': 'Pizza'}, {'alias': 'wine_bars', 'title': 'Wine Bars'}], 'rating': 5.0, 'coordinates': {'latitude': 40.667659, 'longitude': -73.991393}, 'transactions': ['pickup', 'delivery'], 'location': {'address1': '524 4th Ave', 'address2': '', 'address3': None, 'city': 'Brooklyn', 'zip_code': '11215', 'country': 'US', 'state': 'NY', 'display_address': ['524 4th Ave', 'Brooklyn, NY 11215']}, 'phone': '+17183691300', 'display_phone': '(718) 369-1300', 'distance': 4706.508811291653}, {'id': 'BuoZEYr6Y8o_fX2xs060SA', 'alias': 'elegante-restaurant-rockaway-beach-2', 'name': 'Elegante Restaurant', 'image_url': 'https://s3-media1.fl.yelpcdn.com/bphoto/XnExnDXx2_ZveosMThiebw/o.jpg', 'is_closed': False, 'url': 'https://www.yelp.com/biz/elegante-restaurant-rockaway-beach-2?adjust_creative=4g8hNRzG0KG84ivcEs39Wg&utm_campaign=yelp_api_v3&utm_medium=api_v3_business_search&utm_source=4g8hNRzG0KG84ivcEs39Wg', 'review_count': 82, 'categories': [{'alias': 'pizza', 'title': 'Pizza'}, {'alias': 'italian', 'title': 'Italian'}], 'rating': 4.0, 'coordinates': {'latitude': 40.5864513001092, 'longitude': -73.8155078887939}, 'transactions': [], 'price': '$', 'location': {'address1': '9201 Rockaway Beach Blvd', 'address2': '', 'address3': '', 'city': 'Rockaway Beach', 'zip_code': '11693', 'country': 'US', 'state': 'NY', 'display_address': ['9201 Rockaway Beach Blvd', 'Rockaway Beach, NY 11693']}, 'phone': '+17186343914', 'display_phone': '(718) 634-3914', 'distance': 12764.72560252341}, {'id': 'xrgzB0pvsxeGEIboE6I2gg', 'alias': 'patsys-pizzeria-brooklyn-2', 'name': \"Patsy's Pizzeria\", 'image_url': 'https://s3-media4.fl.yelpcdn.com/bphoto/1n5xL5ojLR-_zseirQKaMw/o.jpg', 'is_closed': False, 'url': 'https://www.yelp.com/biz/patsys-pizzeria-brooklyn-2?adjust_creative=4g8hNRzG0KG84ivcEs39Wg&utm_campaign=yelp_api_v3&utm_medium=api_v3_business_search&utm_source=4g8hNRzG0KG84ivcEs39Wg', 'review_count': 512, 'categories': [{'alias': 'pizza', 'title': 'Pizza'}, {'alias': 'italian', 'title': 'Italian'}], 'rating': 4.5, 'coordinates': {'latitude': 40.6818695, 'longitude': -73.976181}, 'transactions': ['pickup', 'delivery'], 'price': '$$', 'location': {'address1': '450 Dean St', 'address2': '', 'address3': '', 'city': 'Brooklyn', 'zip_code': '11217', 'country': 'US', 'state': 'NY', 'display_address': ['450 Dean St', 'Brooklyn, NY 11217']}, 'phone': '+17186222268', 'display_phone': '(718) 622-2268', 'distance': 4520.468918310525}], 'total': 9900, 'region': {'center': {'longitude': -73.93936157226562, 'latitude': 40.652330148320374}}}\n"
     ]
    }
   ],
   "source": [
    "import requests\n",
    "import json\n",
    "\n",
    "#your key here\n",
    "API_KEY= '66ue-48REEvJ8Z5uwViSbvYw4FZUxppsrq2yLn6zIYdVIwLkcmfhbMgZPa4uDiim_oAARI2iU2yrQVoa50JjTAIPHpLLp650fgxTm8U3QhRVB63nHqAeag2wUfMpXnYx'\n",
    "SEARCH_LIMIT = 50\n",
    "currentOffset = 0\n",
    "\n",
    "headers = {'Authorization': 'bearer %s'% API_KEY}\n",
    "\n",
    "def businessCallGET(args):\n",
    "    businessEndpoint = 'https://api.yelp.com/v3/businesses/search'\n",
    "    return requests.get(businessEndpoint, params=args, headers=headers)\n",
    "\n",
    "params={'term':'pizza place','location':'Brooklyn NY', 'limit': SEARCH_LIMIT, 'offset': currentOffset}\n",
    "data = businessCallGET(params).json()\n",
    "\n",
    "print(data)\n"
   ]
  },
  {
   "cell_type": "code",
   "execution_count": 32,
   "metadata": {
    "scrolled": true
   },
   "outputs": [
    {
     "data": {
      "text/plain": [
       "{'id': 'xrgzB0pvsxeGEIboE6I2gg',\n",
       " 'alias': 'patsys-pizzeria-brooklyn-2',\n",
       " 'name': \"Patsy's Pizzeria\",\n",
       " 'image_url': 'https://s3-media4.fl.yelpcdn.com/bphoto/1n5xL5ojLR-_zseirQKaMw/o.jpg',\n",
       " 'is_closed': False,\n",
       " 'url': 'https://www.yelp.com/biz/patsys-pizzeria-brooklyn-2?adjust_creative=4g8hNRzG0KG84ivcEs39Wg&utm_campaign=yelp_api_v3&utm_medium=api_v3_business_search&utm_source=4g8hNRzG0KG84ivcEs39Wg',\n",
       " 'review_count': 512,\n",
       " 'categories': [{'alias': 'pizza', 'title': 'Pizza'},\n",
       "  {'alias': 'italian', 'title': 'Italian'}],\n",
       " 'rating': 4.5,\n",
       " 'coordinates': {'latitude': 40.6818695, 'longitude': -73.976181},\n",
       " 'transactions': ['pickup', 'delivery'],\n",
       " 'price': '$$',\n",
       " 'location': {'address1': '450 Dean St',\n",
       "  'address2': '',\n",
       "  'address3': '',\n",
       "  'city': 'Brooklyn',\n",
       "  'zip_code': '11217',\n",
       "  'country': 'US',\n",
       "  'state': 'NY',\n",
       "  'display_address': ['450 Dean St', 'Brooklyn, NY 11217']},\n",
       " 'phone': '+17186222268',\n",
       " 'display_phone': '(718) 622-2268',\n",
       " 'distance': 4520.468918310525}"
      ]
     },
     "execution_count": 32,
     "metadata": {},
     "output_type": "execute_result"
    }
   ],
   "source": [
    "import pandas as pd\n",
    "\n",
    "data.keys()\n",
    "data['businesses'][19]"
   ]
  },
  {
   "cell_type": "code",
   "execution_count": 2,
   "metadata": {},
   "outputs": [
    {
     "name": "stdout",
     "output_type": "stream",
     "text": [
      "400\n"
     ]
    }
   ],
   "source": [
    "import requests\n",
    "import json\n",
    "\n",
    "response = requests.get('https://api.yelp.com/v3/businesses/search')\n",
    "print(response.status_code)\n",
    "\n",
    "# 200 — everything went okay, and the result has been returned (if any)\n",
    "# 301 — the server is redirecting you to a different endpoint. This can happen when a company switches domain names, or an endpoint name is changed.\n",
    "# 401 — the server thinks you’re not authenticated. This happens when you don’t send the right credentials to access an API (we’ll talk about authentication in a later post).\n",
    "# 400 — the server thinks you made a bad request. This can happen when you don’t send along the right data, among other things.\n",
    "# 403 — the resource you’re trying to access is forbidden — you don’t have the right permissions to see it.\n",
    "# 404 — the resource you tried to access wasn’t found on the server."
   ]
  },
  {
   "cell_type": "code",
   "execution_count": null,
   "metadata": {},
   "outputs": [],
   "source": [
    "## Connect to DB server on AWS\n",
    "\n",
    "import client_id_api_key_info.py\n",
    "\n",
    "def businessCallGET(args):\n",
    "    businessEndpoint = 'https://api.yelp.com/v3/businesses/search'\n",
    "    return requests.get(businessEndpoint, params=args).content\n",
    "\n",
    "# client_id = '4g8hNRzG0KG84ivcEs39Wg' #Your client ID goes here (as a string)\n",
    "# api_key = '66ue-48REEvJ8Z5uwViSbvYw4FZUxppsrq2yLn6zIYdVIwLkcmfhbMgZPa4uDiim_oAARI2iU2yrQVoa50JjTAIPHpLLp650fgxTm8U3QhRVB63nHqAeag2wUfMpXnYx' #Your api key goes here (as a string)\n",
    "\n"
   ]
  },
  {
   "cell_type": "code",
   "execution_count": null,
   "metadata": {},
   "outputs": [],
   "source": [
    "import sqlite3\n",
    "conn = sqlite3.connect('data') # put in what the data is called here\n",
    "curs = conn.cursor()\n",
    "\n"
   ]
  },
  {
   "cell_type": "code",
   "execution_count": 33,
   "metadata": {},
   "outputs": [
    {
     "ename": "KeyError",
     "evalue": "'k5'",
     "output_type": "error",
     "traceback": [
      "\u001b[0;31m---------------------------------------------------------------------------\u001b[0m",
      "\u001b[0;31mKeyError\u001b[0m                                  Traceback (most recent call last)",
      "\u001b[0;32m<ipython-input-33-d21398b2edf4>\u001b[0m in \u001b[0;36m<module>\u001b[0;34m\u001b[0m\n\u001b[1;32m      1\u001b[0m \u001b[0ma\u001b[0m \u001b[0;34m=\u001b[0m \u001b[0;34m{\u001b[0m\u001b[0;34m'k1'\u001b[0m\u001b[0;34m:\u001b[0m\u001b[0;34m'v1'\u001b[0m\u001b[0;34m,\u001b[0m \u001b[0;34m'k2'\u001b[0m\u001b[0;34m:\u001b[0m\u001b[0;34m'v2'\u001b[0m\u001b[0;34m}\u001b[0m\u001b[0;34m\u001b[0m\u001b[0;34m\u001b[0m\u001b[0m\n\u001b[0;32m----> 2\u001b[0;31m \u001b[0ma\u001b[0m\u001b[0;34m[\u001b[0m\u001b[0;34m'k5'\u001b[0m\u001b[0;34m]\u001b[0m\u001b[0;34m\u001b[0m\u001b[0;34m\u001b[0m\u001b[0m\n\u001b[0m",
      "\u001b[0;31mKeyError\u001b[0m: 'k5'"
     ]
    }
   ],
   "source": [
    "a = {'k1':'v1', 'k2':'v2'}\n",
    "a['k5']\n"
   ]
  },
  {
   "cell_type": "code",
   "execution_count": null,
   "metadata": {},
   "outputs": [],
   "source": [
    "## Create new DB "
   ]
  },
  {
   "cell_type": "code",
   "execution_count": null,
   "metadata": {},
   "outputs": [],
   "source": [
    "# Create a table for the Businesses"
   ]
  },
  {
   "cell_type": "code",
   "execution_count": null,
   "metadata": {},
   "outputs": [],
   "source": [
    "# Create a table for the reviews"
   ]
  },
  {
   "cell_type": "markdown",
   "metadata": {},
   "source": [
    "## Part 3 - Create ETL pipeline for the business data from the API\n",
    "\n",
    "Now that you know what data you need from the API, you want to write code that will execute a api call, parse those results and then insert the results into the DB.  \n",
    "\n",
    "It is helpful to break this up into three different functions (*api call, parse results, and insert into DB*) and then you can write a function/script that pull the other three functions together. \n",
    "\n",
    "Let's first do this for the Business endpoint."
   ]
  },
  {
   "cell_type": "code",
   "execution_count": null,
   "metadata": {},
   "outputs": [],
   "source": [
    "# Write a function to make a call to the yelp API"
   ]
  },
  {
   "cell_type": "code",
   "execution_count": null,
   "metadata": {},
   "outputs": [],
   "source": [
    "# write a function to parse the API response \n",
    "# so that you can easily insert the data in to the DB"
   ]
  },
  {
   "cell_type": "code",
   "execution_count": 1,
   "metadata": {},
   "outputs": [],
   "source": [
    "# Write a function to take your parsed data and insert it into the DB"
   ]
  },
  {
   "cell_type": "code",
   "execution_count": null,
   "metadata": {},
   "outputs": [],
   "source": [
    "# Write a script that combines the three functions above into a single process."
   ]
  },
  {
   "cell_type": "markdown",
   "metadata": {},
   "source": [
    "## Part 4 -  Create ETL pipeline for the restaurant review data from the API\n",
    "\n",
    "You've done this for the Businesses, now you need to do this for reviews. You will follow the same process, but your functions will be specific to reviews."
   ]
  },
  {
   "cell_type": "code",
   "execution_count": null,
   "metadata": {},
   "outputs": [],
   "source": [
    "# write a SQL query to pull back all of the business ids \n",
    "# you will need these ids to pull back the reviews for each restaurant"
   ]
  },
  {
   "cell_type": "code",
   "execution_count": null,
   "metadata": {},
   "outputs": [],
   "source": [
    "# write a function that takes a business id \n",
    "# and makes a call to the API for reivews\n"
   ]
  },
  {
   "cell_type": "code",
   "execution_count": null,
   "metadata": {},
   "outputs": [],
   "source": [
    "# Write a function to parse out the relevant information from the reviews"
   ]
  },
  {
   "cell_type": "code",
   "execution_count": null,
   "metadata": {},
   "outputs": [],
   "source": [
    "# write a function to insert the parsed data into the reviews table"
   ]
  },
  {
   "cell_type": "code",
   "execution_count": null,
   "metadata": {},
   "outputs": [],
   "source": [
    "# combine the functions above into a single script  "
   ]
  },
  {
   "cell_type": "markdown",
   "metadata": {},
   "source": [
    "## Part 5 -  Write SQL queries that will answer the questions posed. \n",
    "\n",
    "Now that your data is in the DB, you can answer the questions. Write SQL querires that will answer the questions. **Do not use Pandas in this lab**"
   ]
  },
  {
   "cell_type": "code",
   "execution_count": null,
   "metadata": {},
   "outputs": [],
   "source": [
    "# create connection"
   ]
  },
  {
   "cell_type": "code",
   "execution_count": null,
   "metadata": {},
   "outputs": [],
   "source": [
    "# execute SQL queries"
   ]
  },
  {
   "cell_type": "code",
   "execution_count": null,
   "metadata": {},
   "outputs": [],
   "source": []
  },
  {
   "cell_type": "markdown",
   "metadata": {},
   "source": [
    "# Extra Reference help"
   ]
  },
  {
   "cell_type": "markdown",
   "metadata": {},
   "source": [
    "###  Pagination\n",
    "\n",
    "Returning to the Yelp API, the [documentation](https://www.yelp.com/developers/documentation/v3/business_search) also provides us details regarding the API limits. These often include details about the number of requests a user is allowed to make within a specified time limit and the maximum number of results to be returned. In this case, we are told that any request has a maximum of 50 results per request and defaults to 20. Furthermore, any search will be limited to a total of 1000 results. To retrieve all 1000 of these results, we would have to page through the results piece by piece, retriving 50 at a time. Processes such as these are often refered to as pagination.\n",
    "\n",
    "Now that you have an initial response, you can examine the contents of the json container. For example, you might start with ```response.json().keys()```. Here, you'll see a key for `'total'`, which tells you the full number of matching results given your query parameters. Write a loop (or ideally a function) which then makes successive API calls using the offset parameter to retrieve all of the results (or 5000 for a particularly large result set) for the original query. As you do this, be mindful of how you store the data. \n",
    "\n",
    "**Note: be mindful of the API rate limits. You can only make 5000 requests per day, and APIs can make requests too fast. Start prototyping small before running a loop that could be faulty. You can also use time.sleep(n) to add delays. For more details see https://www.yelp.com/developers/documentation/v3/rate_limiting.**"
   ]
  },
  {
   "cell_type": "markdown",
   "metadata": {},
   "source": [
    "***Below is sample code that you can use to help you deal with the pagination parameter and bring all of the functions together.***\n",
    "\n",
    "\n",
    "***Also, something might cause your code to break while it is running. You don't want to constantly repull the same data when this happens, so you should insert the data into the database as you call and parse it, not after you have all of the data***\n"
   ]
  },
  {
   "cell_type": "code",
   "execution_count": null,
   "metadata": {},
   "outputs": [],
   "source": [
    "def yelp_call(url_params, api_key):\n",
    "    # your code to make the yelp call\n",
    "    return data"
   ]
  },
  {
   "cell_type": "code",
   "execution_count": null,
   "metadata": {},
   "outputs": [],
   "source": [
    "def parse_results(results):\n",
    "    # your code to parse the result to make them easier to insert into the DB\n",
    "    return parsed_results"
   ]
  },
  {
   "cell_type": "code",
   "execution_count": null,
   "metadata": {},
   "outputs": [],
   "source": [
    "def db_insert(cnx, cursor, parsed results):\n",
    "    # your code to insert and commit the results\n",
    "    # I would create the connection and cursor outside of this function and then pass it through"
   ]
  },
  {
   "cell_type": "code",
   "execution_count": null,
   "metadata": {},
   "outputs": [],
   "source": [
    "# create a variable  to keep track of which result you are in. \n",
    "cur = 0\n",
    "\n",
    "#set up a while loop to go through and grab the result \n",
    "while cur < num and cur < 1000:\n",
    "    #set the offset parameter to be where you currently are in the results \n",
    "    url_params['offset'] = cur\n",
    "    #make your API call with the new offset number\n",
    "    results = yelp_call(url_params, api_key)\n",
    "    \n",
    "    #after you get your results you can now use your function to parse those results\n",
    "    parsed_results = parse_results(results)\n",
    "    \n",
    "    # use your function to insert your parsed results into the db\n",
    "    db_insert(parsed_results)\n",
    "    #increment the counter by 50 to move on to the next results\n",
    "    cur += 50"
   ]
  },
  {
   "cell_type": "code",
   "execution_count": null,
   "metadata": {},
   "outputs": [],
   "source": []
  }
 ],
 "metadata": {
  "kernelspec": {
   "display_name": "Python 3",
   "language": "python",
   "name": "python3"
  },
  "language_info": {
   "codemirror_mode": {
    "name": "ipython",
    "version": 3
   },
   "file_extension": ".py",
   "mimetype": "text/x-python",
   "name": "python",
   "nbconvert_exporter": "python",
   "pygments_lexer": "ipython3",
   "version": "3.7.4"
  },
  "toc": {
   "base_numbering": 1,
   "nav_menu": {},
   "number_sections": false,
   "sideBar": true,
   "skip_h1_title": false,
   "title_cell": "Table of Contents",
   "title_sidebar": "Contents",
   "toc_cell": false,
   "toc_position": {},
   "toc_section_display": true,
   "toc_window_display": false
  }
 },
 "nbformat": 4,
 "nbformat_minor": 2
}
