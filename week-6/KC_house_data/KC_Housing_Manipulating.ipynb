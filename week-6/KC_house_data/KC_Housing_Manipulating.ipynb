{
 "cells": [
  {
   "cell_type": "markdown",
   "metadata": {},
   "source": [
    "column descriptions:\n",
    "https://www.slideshare.net/PawanShivhare1/predicting-king-county-house-prices"
   ]
  },
  {
   "cell_type": "markdown",
   "metadata": {},
   "source": [
    "# Import everything"
   ]
  },
  {
   "cell_type": "code",
   "execution_count": 1,
   "metadata": {},
   "outputs": [],
   "source": [
    "import numpy as np\n",
    "import pandas as pd\n",
    "import statsmodels.api as sm\n",
    "from statsmodels.formula.api import ols\n",
    "import matplotlib.pyplot as plt\n",
    "import seaborn as sns\n",
    "%matplotlib inline"
   ]
  },
  {
   "cell_type": "code",
   "execution_count": 2,
   "metadata": {},
   "outputs": [],
   "source": [
    "data_set = pd.read_csv('kc_house_data_train.csv', index_col = 0) # read the data"
   ]
  },
  {
   "cell_type": "code",
   "execution_count": 3,
   "metadata": {},
   "outputs": [
    {
     "data": {
      "text/html": [
       "<div>\n",
       "<style scoped>\n",
       "    .dataframe tbody tr th:only-of-type {\n",
       "        vertical-align: middle;\n",
       "    }\n",
       "\n",
       "    .dataframe tbody tr th {\n",
       "        vertical-align: top;\n",
       "    }\n",
       "\n",
       "    .dataframe thead th {\n",
       "        text-align: right;\n",
       "    }\n",
       "</style>\n",
       "<table border=\"1\" class=\"dataframe\">\n",
       "  <thead>\n",
       "    <tr style=\"text-align: right;\">\n",
       "      <th></th>\n",
       "      <th>id</th>\n",
       "      <th>date</th>\n",
       "      <th>price</th>\n",
       "      <th>bedrooms</th>\n",
       "      <th>bathrooms</th>\n",
       "      <th>sqft_living</th>\n",
       "      <th>sqft_lot</th>\n",
       "      <th>floors</th>\n",
       "      <th>waterfront</th>\n",
       "      <th>view</th>\n",
       "      <th>...</th>\n",
       "      <th>grade</th>\n",
       "      <th>sqft_above</th>\n",
       "      <th>sqft_basement</th>\n",
       "      <th>yr_built</th>\n",
       "      <th>yr_renovated</th>\n",
       "      <th>zipcode</th>\n",
       "      <th>lat</th>\n",
       "      <th>long</th>\n",
       "      <th>sqft_living15</th>\n",
       "      <th>sqft_lot15</th>\n",
       "    </tr>\n",
       "  </thead>\n",
       "  <tbody>\n",
       "    <tr>\n",
       "      <td>0</td>\n",
       "      <td>2591820310</td>\n",
       "      <td>20141006T000000</td>\n",
       "      <td>365000.0</td>\n",
       "      <td>4</td>\n",
       "      <td>2.25</td>\n",
       "      <td>2070</td>\n",
       "      <td>8893</td>\n",
       "      <td>2.0</td>\n",
       "      <td>0</td>\n",
       "      <td>0</td>\n",
       "      <td>...</td>\n",
       "      <td>8</td>\n",
       "      <td>2070</td>\n",
       "      <td>0</td>\n",
       "      <td>1986</td>\n",
       "      <td>0</td>\n",
       "      <td>98058</td>\n",
       "      <td>47.4388</td>\n",
       "      <td>-122.162</td>\n",
       "      <td>2390</td>\n",
       "      <td>7700</td>\n",
       "    </tr>\n",
       "    <tr>\n",
       "      <td>1</td>\n",
       "      <td>7974200820</td>\n",
       "      <td>20140821T000000</td>\n",
       "      <td>865000.0</td>\n",
       "      <td>5</td>\n",
       "      <td>3.00</td>\n",
       "      <td>2900</td>\n",
       "      <td>6730</td>\n",
       "      <td>1.0</td>\n",
       "      <td>0</td>\n",
       "      <td>0</td>\n",
       "      <td>...</td>\n",
       "      <td>8</td>\n",
       "      <td>1830</td>\n",
       "      <td>1070</td>\n",
       "      <td>1977</td>\n",
       "      <td>0</td>\n",
       "      <td>98115</td>\n",
       "      <td>47.6784</td>\n",
       "      <td>-122.285</td>\n",
       "      <td>2370</td>\n",
       "      <td>6283</td>\n",
       "    </tr>\n",
       "    <tr>\n",
       "      <td>2</td>\n",
       "      <td>7701450110</td>\n",
       "      <td>20140815T000000</td>\n",
       "      <td>1038000.0</td>\n",
       "      <td>4</td>\n",
       "      <td>2.50</td>\n",
       "      <td>3770</td>\n",
       "      <td>10893</td>\n",
       "      <td>2.0</td>\n",
       "      <td>0</td>\n",
       "      <td>2</td>\n",
       "      <td>...</td>\n",
       "      <td>11</td>\n",
       "      <td>3770</td>\n",
       "      <td>0</td>\n",
       "      <td>1997</td>\n",
       "      <td>0</td>\n",
       "      <td>98006</td>\n",
       "      <td>47.5646</td>\n",
       "      <td>-122.129</td>\n",
       "      <td>3710</td>\n",
       "      <td>9685</td>\n",
       "    </tr>\n",
       "    <tr>\n",
       "      <td>3</td>\n",
       "      <td>9522300010</td>\n",
       "      <td>20150331T000000</td>\n",
       "      <td>1490000.0</td>\n",
       "      <td>3</td>\n",
       "      <td>3.50</td>\n",
       "      <td>4560</td>\n",
       "      <td>14608</td>\n",
       "      <td>2.0</td>\n",
       "      <td>0</td>\n",
       "      <td>2</td>\n",
       "      <td>...</td>\n",
       "      <td>12</td>\n",
       "      <td>4560</td>\n",
       "      <td>0</td>\n",
       "      <td>1990</td>\n",
       "      <td>0</td>\n",
       "      <td>98034</td>\n",
       "      <td>47.6995</td>\n",
       "      <td>-122.228</td>\n",
       "      <td>4050</td>\n",
       "      <td>14226</td>\n",
       "    </tr>\n",
       "    <tr>\n",
       "      <td>4</td>\n",
       "      <td>9510861140</td>\n",
       "      <td>20140714T000000</td>\n",
       "      <td>711000.0</td>\n",
       "      <td>3</td>\n",
       "      <td>2.50</td>\n",
       "      <td>2550</td>\n",
       "      <td>5376</td>\n",
       "      <td>2.0</td>\n",
       "      <td>0</td>\n",
       "      <td>0</td>\n",
       "      <td>...</td>\n",
       "      <td>9</td>\n",
       "      <td>2550</td>\n",
       "      <td>0</td>\n",
       "      <td>2004</td>\n",
       "      <td>0</td>\n",
       "      <td>98052</td>\n",
       "      <td>47.6647</td>\n",
       "      <td>-122.083</td>\n",
       "      <td>2250</td>\n",
       "      <td>4050</td>\n",
       "    </tr>\n",
       "  </tbody>\n",
       "</table>\n",
       "<p>5 rows × 21 columns</p>\n",
       "</div>"
      ],
      "text/plain": [
       "           id             date      price  bedrooms  bathrooms  sqft_living  \\\n",
       "0  2591820310  20141006T000000   365000.0         4       2.25         2070   \n",
       "1  7974200820  20140821T000000   865000.0         5       3.00         2900   \n",
       "2  7701450110  20140815T000000  1038000.0         4       2.50         3770   \n",
       "3  9522300010  20150331T000000  1490000.0         3       3.50         4560   \n",
       "4  9510861140  20140714T000000   711000.0         3       2.50         2550   \n",
       "\n",
       "   sqft_lot  floors  waterfront  view  ...  grade  sqft_above  sqft_basement  \\\n",
       "0      8893     2.0           0     0  ...      8        2070              0   \n",
       "1      6730     1.0           0     0  ...      8        1830           1070   \n",
       "2     10893     2.0           0     2  ...     11        3770              0   \n",
       "3     14608     2.0           0     2  ...     12        4560              0   \n",
       "4      5376     2.0           0     0  ...      9        2550              0   \n",
       "\n",
       "   yr_built  yr_renovated  zipcode      lat     long  sqft_living15  \\\n",
       "0      1986             0    98058  47.4388 -122.162           2390   \n",
       "1      1977             0    98115  47.6784 -122.285           2370   \n",
       "2      1997             0    98006  47.5646 -122.129           3710   \n",
       "3      1990             0    98034  47.6995 -122.228           4050   \n",
       "4      2004             0    98052  47.6647 -122.083           2250   \n",
       "\n",
       "   sqft_lot15  \n",
       "0        7700  \n",
       "1        6283  \n",
       "2        9685  \n",
       "3       14226  \n",
       "4        4050  \n",
       "\n",
       "[5 rows x 21 columns]"
      ]
     },
     "execution_count": 3,
     "metadata": {},
     "output_type": "execute_result"
    }
   ],
   "source": [
    "data_set.head()"
   ]
  },
  {
   "cell_type": "markdown",
   "metadata": {},
   "source": [
    "# All columns of independent variables. Dropped id and price"
   ]
  },
  {
   "cell_type": "code",
   "execution_count": 4,
   "metadata": {},
   "outputs": [
    {
     "data": {
      "text/plain": [
       "id               17176\n",
       "date               371\n",
       "price             3534\n",
       "bedrooms            13\n",
       "bathrooms           30\n",
       "sqft_living        947\n",
       "sqft_lot          8428\n",
       "floors               6\n",
       "waterfront           2\n",
       "view                 5\n",
       "condition            5\n",
       "grade               12\n",
       "sqft_above         867\n",
       "sqft_basement      290\n",
       "yr_built           116\n",
       "yr_renovated        69\n",
       "zipcode             70\n",
       "lat               4837\n",
       "long               733\n",
       "sqft_living15      714\n",
       "sqft_lot15        7582\n",
       "dtype: int64"
      ]
     },
     "execution_count": 4,
     "metadata": {},
     "output_type": "execute_result"
    }
   ],
   "source": [
    "data_set.columns\n",
    "all_cols = list(data_set.columns)\n",
    "all_cols.remove('id')\n",
    "\n",
    "price_col = data_set['price']\n",
    "all_cols.remove('price')\n",
    "\n",
    "data_set.nunique() # check number of unique values for each column, some like zipcode look categorical but"
   ]
  },
  {
   "cell_type": "markdown",
   "metadata": {},
   "source": [
    "# Change date from str to datetime.date type"
   ]
  },
  {
   "cell_type": "code",
   "execution_count": 5,
   "metadata": {},
   "outputs": [
    {
     "name": "stderr",
     "output_type": "stream",
     "text": [
      "/Users/flatironschool/opt/anaconda3/lib/python3.7/site-packages/ipykernel_launcher.py:4: UserWarning: Pandas doesn't allow columns to be created via a new attribute name - see https://pandas.pydata.org/pandas-docs/stable/indexing.html#attribute-access\n",
      "  after removing the cwd from sys.path.\n"
     ]
    },
    {
     "data": {
      "text/plain": [
       "datetime.date"
      ]
     },
     "execution_count": 5,
     "metadata": {},
     "output_type": "execute_result"
    }
   ],
   "source": [
    "from datetime import date\n",
    "\n",
    "data_set['date'] = data_set.date.apply(lambda x: x[0:4]+'-'+x[4:6]+'-'+x[6:8])\n",
    "data_set.date_time = data_set.date.apply(lambda x: date.fromisoformat(x))\n",
    "type(data_set.date_time[0])"
   ]
  },
  {
   "cell_type": "markdown",
   "metadata": {},
   "source": [
    "# Find the number of days passed -> just drop this, very sure there is no correlation"
   ]
  },
  {
   "cell_type": "code",
   "execution_count": 6,
   "metadata": {},
   "outputs": [
    {
     "data": {
      "text/plain": [
       "0        157\n",
       "1        111\n",
       "2        105\n",
       "3        333\n",
       "4         73\n",
       "        ... \n",
       "17285    305\n",
       "17286     18\n",
       "17287     12\n",
       "17288    216\n",
       "17289    259\n",
       "Name: date2, Length: 17290, dtype: int64"
      ]
     },
     "execution_count": 6,
     "metadata": {},
     "output_type": "execute_result"
    }
   ],
   "source": [
    "import copy\n",
    "min_date = copy.deepcopy(min(data_set.date_time))\n",
    "data_set['date2'] = data_set.date_time.apply(lambda x: (x - min_date).days)\n",
    "data_set.date2"
   ]
  },
  {
   "cell_type": "code",
   "execution_count": 7,
   "metadata": {
    "scrolled": false
   },
   "outputs": [
    {
     "data": {
      "text/html": [
       "<table class=\"simpletable\">\n",
       "<caption>OLS Regression Results</caption>\n",
       "<tr>\n",
       "  <th>Dep. Variable:</th>          <td>price</td>      <th>  R-squared:         </th>  <td>   0.000</td>  \n",
       "</tr>\n",
       "<tr>\n",
       "  <th>Model:</th>                   <td>OLS</td>       <th>  Adj. R-squared:    </th>  <td>   0.000</td>  \n",
       "</tr>\n",
       "<tr>\n",
       "  <th>Method:</th>             <td>Least Squares</td>  <th>  F-statistic:       </th>  <td>   1.294</td>  \n",
       "</tr>\n",
       "<tr>\n",
       "  <th>Date:</th>             <td>Thu, 20 Feb 2020</td> <th>  Prob (F-statistic):</th>   <td> 0.255</td>   \n",
       "</tr>\n",
       "<tr>\n",
       "  <th>Time:</th>                 <td>14:57:25</td>     <th>  Log-Likelihood:    </th> <td>-2.4637e+05</td>\n",
       "</tr>\n",
       "<tr>\n",
       "  <th>No. Observations:</th>      <td> 17290</td>      <th>  AIC:               </th>  <td>4.927e+05</td> \n",
       "</tr>\n",
       "<tr>\n",
       "  <th>Df Residuals:</th>          <td> 17288</td>      <th>  BIC:               </th>  <td>4.928e+05</td> \n",
       "</tr>\n",
       "<tr>\n",
       "  <th>Df Model:</th>              <td>     1</td>      <th>                     </th>      <td> </td>     \n",
       "</tr>\n",
       "<tr>\n",
       "  <th>Covariance Type:</th>      <td>nonrobust</td>    <th>                     </th>      <td> </td>     \n",
       "</tr>\n",
       "</table>\n",
       "<table class=\"simpletable\">\n",
       "<tr>\n",
       "      <td></td>         <th>coef</th>     <th>std err</th>      <th>t</th>      <th>P>|t|</th>  <th>[0.025</th>    <th>0.975]</th>  \n",
       "</tr>\n",
       "<tr>\n",
       "  <th>Intercept</th> <td> 5.459e+05</td> <td> 5338.636</td> <td>  102.251</td> <td> 0.000</td> <td> 5.35e+05</td> <td> 5.56e+05</td>\n",
       "</tr>\n",
       "<tr>\n",
       "  <th>date2</th>     <td>  -28.5574</td> <td>   25.101</td> <td>   -1.138</td> <td> 0.255</td> <td>  -77.758</td> <td>   20.643</td>\n",
       "</tr>\n",
       "</table>\n",
       "<table class=\"simpletable\">\n",
       "<tr>\n",
       "  <th>Omnibus:</th>       <td>16029.007</td> <th>  Durbin-Watson:     </th>  <td>   2.011</td>  \n",
       "</tr>\n",
       "<tr>\n",
       "  <th>Prob(Omnibus):</th>  <td> 0.000</td>   <th>  Jarque-Bera (JB):  </th> <td>1120852.789</td>\n",
       "</tr>\n",
       "<tr>\n",
       "  <th>Skew:</th>           <td> 4.282</td>   <th>  Prob(JB):          </th>  <td>    0.00</td>  \n",
       "</tr>\n",
       "<tr>\n",
       "  <th>Kurtosis:</th>       <td>41.503</td>   <th>  Cond. No.          </th>  <td>    400.</td>  \n",
       "</tr>\n",
       "</table><br/><br/>Warnings:<br/>[1] Standard Errors assume that the covariance matrix of the errors is correctly specified."
      ],
      "text/plain": [
       "<class 'statsmodels.iolib.summary.Summary'>\n",
       "\"\"\"\n",
       "                            OLS Regression Results                            \n",
       "==============================================================================\n",
       "Dep. Variable:                  price   R-squared:                       0.000\n",
       "Model:                            OLS   Adj. R-squared:                  0.000\n",
       "Method:                 Least Squares   F-statistic:                     1.294\n",
       "Date:                Thu, 20 Feb 2020   Prob (F-statistic):              0.255\n",
       "Time:                        14:57:25   Log-Likelihood:            -2.4637e+05\n",
       "No. Observations:               17290   AIC:                         4.927e+05\n",
       "Df Residuals:                   17288   BIC:                         4.928e+05\n",
       "Df Model:                           1                                         \n",
       "Covariance Type:            nonrobust                                         \n",
       "==============================================================================\n",
       "                 coef    std err          t      P>|t|      [0.025      0.975]\n",
       "------------------------------------------------------------------------------\n",
       "Intercept   5.459e+05   5338.636    102.251      0.000    5.35e+05    5.56e+05\n",
       "date2        -28.5574     25.101     -1.138      0.255     -77.758      20.643\n",
       "==============================================================================\n",
       "Omnibus:                    16029.007   Durbin-Watson:                   2.011\n",
       "Prob(Omnibus):                  0.000   Jarque-Bera (JB):          1120852.789\n",
       "Skew:                           4.282   Prob(JB):                         0.00\n",
       "Kurtosis:                      41.503   Cond. No.                         400.\n",
       "==============================================================================\n",
       "\n",
       "Warnings:\n",
       "[1] Standard Errors assume that the covariance matrix of the errors is correctly specified.\n",
       "\"\"\""
      ]
     },
     "execution_count": 7,
     "metadata": {},
     "output_type": "execute_result"
    },
    {
     "data": {
      "image/png": "[encoded data removed]",
      "text/plain": [
       "<Figure size 360x360 with 1 Axes>"
      ]
     },
     "metadata": {
      "needs_background": "light"
     },
     "output_type": "display_data"
    }
   ],
   "source": [
    "#### Plot price by date (days from earliest house sold)\n",
    "### We see that we have only about a year of data so we can't really split by year/month\n",
    "\n",
    "# data_set.plot(x = 'date2', y = 'price', kind = 'scatter')\n",
    "\n",
    "sns.lmplot(x='date2', y='price', data=data_set,fit_reg=True) # above is just without regression line\n",
    "\n",
    "ols(formula = 'price~date2', data = data_set).fit().summary()"
   ]
  },
  {
   "cell_type": "markdown",
   "metadata": {},
   "source": [
    "# Check what model was like before dropping from all_cols and after"
   ]
  },
  {
   "cell_type": "code",
   "execution_count": 8,
   "metadata": {},
   "outputs": [
    {
     "data": {
      "text/plain": [
       "(19,\n",
       " ['bedrooms',\n",
       "  'bathrooms',\n",
       "  'sqft_living',\n",
       "  'sqft_lot',\n",
       "  'floors',\n",
       "  'waterfront',\n",
       "  'view',\n",
       "  'condition',\n",
       "  'grade',\n",
       "  'sqft_above',\n",
       "  'sqft_basement',\n",
       "  'yr_built',\n",
       "  'yr_renovated',\n",
       "  'zipcode',\n",
       "  'lat',\n",
       "  'long',\n",
       "  'sqft_living15',\n",
       "  'sqft_lot15',\n",
       "  'date2'])"
      ]
     },
     "execution_count": 8,
     "metadata": {},
     "output_type": "execute_result"
    }
   ],
   "source": [
    "all_cols.remove('date')\n",
    "all_cols.append('date2')\n",
    "len(all_cols), all_cols"
   ]
  },
  {
   "cell_type": "markdown",
   "metadata": {},
   "source": [
    "# Before dropping #R^2 = 0.699"
   ]
  },
  {
   "cell_type": "code",
   "execution_count": 9,
   "metadata": {},
   "outputs": [
    {
     "data": {
      "text/html": [
       "<table class=\"simpletable\">\n",
       "<caption>OLS Regression Results</caption>\n",
       "<tr>\n",
       "  <th>Dep. Variable:</th>          <td>price</td>      <th>  R-squared:         </th>  <td>   0.699</td>  \n",
       "</tr>\n",
       "<tr>\n",
       "  <th>Model:</th>                   <td>OLS</td>       <th>  Adj. R-squared:    </th>  <td>   0.699</td>  \n",
       "</tr>\n",
       "<tr>\n",
       "  <th>Method:</th>             <td>Least Squares</td>  <th>  F-statistic:       </th>  <td>   2232.</td>  \n",
       "</tr>\n",
       "<tr>\n",
       "  <th>Date:</th>             <td>Thu, 20 Feb 2020</td> <th>  Prob (F-statistic):</th>   <td>  0.00</td>   \n",
       "</tr>\n",
       "<tr>\n",
       "  <th>Time:</th>                 <td>14:57:32</td>     <th>  Log-Likelihood:    </th> <td>-2.3598e+05</td>\n",
       "</tr>\n",
       "<tr>\n",
       "  <th>No. Observations:</th>      <td> 17290</td>      <th>  AIC:               </th>  <td>4.720e+05</td> \n",
       "</tr>\n",
       "<tr>\n",
       "  <th>Df Residuals:</th>          <td> 17271</td>      <th>  BIC:               </th>  <td>4.721e+05</td> \n",
       "</tr>\n",
       "<tr>\n",
       "  <th>Df Model:</th>              <td>    18</td>      <th>                     </th>      <td> </td>     \n",
       "</tr>\n",
       "<tr>\n",
       "  <th>Covariance Type:</th>      <td>nonrobust</td>    <th>                     </th>      <td> </td>     \n",
       "</tr>\n",
       "</table>\n",
       "<table class=\"simpletable\">\n",
       "<tr>\n",
       "        <td></td>           <th>coef</th>     <th>std err</th>      <th>t</th>      <th>P>|t|</th>  <th>[0.025</th>    <th>0.975]</th>  \n",
       "</tr>\n",
       "<tr>\n",
       "  <th>Intercept</th>     <td>  4.39e+06</td> <td> 3.32e+06</td> <td>    1.322</td> <td> 0.186</td> <td>-2.12e+06</td> <td> 1.09e+07</td>\n",
       "</tr>\n",
       "<tr>\n",
       "  <th>bedrooms</th>      <td>-3.642e+04</td> <td> 2112.484</td> <td>  -17.241</td> <td> 0.000</td> <td>-4.06e+04</td> <td>-3.23e+04</td>\n",
       "</tr>\n",
       "<tr>\n",
       "  <th>bathrooms</th>     <td> 4.156e+04</td> <td> 3693.753</td> <td>   11.251</td> <td> 0.000</td> <td> 3.43e+04</td> <td> 4.88e+04</td>\n",
       "</tr>\n",
       "<tr>\n",
       "  <th>sqft_living</th>   <td>  114.1703</td> <td>    2.569</td> <td>   44.446</td> <td> 0.000</td> <td>  109.135</td> <td>  119.205</td>\n",
       "</tr>\n",
       "<tr>\n",
       "  <th>sqft_lot</th>      <td>    0.1013</td> <td>    0.052</td> <td>    1.943</td> <td> 0.052</td> <td>   -0.001</td> <td>    0.204</td>\n",
       "</tr>\n",
       "<tr>\n",
       "  <th>floors</th>        <td> 5939.0777</td> <td> 4086.973</td> <td>    1.453</td> <td> 0.146</td> <td>-2071.803</td> <td> 1.39e+04</td>\n",
       "</tr>\n",
       "<tr>\n",
       "  <th>waterfront</th>    <td> 5.938e+05</td> <td> 1.93e+04</td> <td>   30.813</td> <td> 0.000</td> <td> 5.56e+05</td> <td> 6.32e+05</td>\n",
       "</tr>\n",
       "<tr>\n",
       "  <th>view</th>          <td> 5.226e+04</td> <td> 2411.750</td> <td>   21.670</td> <td> 0.000</td> <td> 4.75e+04</td> <td>  5.7e+04</td>\n",
       "</tr>\n",
       "<tr>\n",
       "  <th>condition</th>     <td> 2.758e+04</td> <td> 2670.378</td> <td>   10.328</td> <td> 0.000</td> <td> 2.23e+04</td> <td> 3.28e+04</td>\n",
       "</tr>\n",
       "<tr>\n",
       "  <th>grade</th>         <td> 9.565e+04</td> <td> 2454.593</td> <td>   38.969</td> <td> 0.000</td> <td> 9.08e+04</td> <td>    1e+05</td>\n",
       "</tr>\n",
       "<tr>\n",
       "  <th>sqft_above</th>    <td>   73.0900</td> <td>    2.573</td> <td>   28.407</td> <td> 0.000</td> <td>   68.047</td> <td>   78.133</td>\n",
       "</tr>\n",
       "<tr>\n",
       "  <th>sqft_basement</th> <td>   41.0816</td> <td>    3.003</td> <td>   13.681</td> <td> 0.000</td> <td>   35.196</td> <td>   46.967</td>\n",
       "</tr>\n",
       "<tr>\n",
       "  <th>yr_built</th>      <td>-2656.2555</td> <td>   82.409</td> <td>  -32.232</td> <td> 0.000</td> <td>-2817.786</td> <td>-2494.725</td>\n",
       "</tr>\n",
       "<tr>\n",
       "  <th>yr_renovated</th>  <td>   18.2150</td> <td>    4.168</td> <td>    4.370</td> <td> 0.000</td> <td>   10.045</td> <td>   26.385</td>\n",
       "</tr>\n",
       "<tr>\n",
       "  <th>zipcode</th>       <td> -566.3760</td> <td>   37.453</td> <td>  -15.123</td> <td> 0.000</td> <td> -639.787</td> <td> -492.965</td>\n",
       "</tr>\n",
       "<tr>\n",
       "  <th>lat</th>           <td> 6.045e+05</td> <td> 1.22e+04</td> <td>   49.492</td> <td> 0.000</td> <td> 5.81e+05</td> <td> 6.28e+05</td>\n",
       "</tr>\n",
       "<tr>\n",
       "  <th>long</th>          <td>-2.203e+05</td> <td> 1.49e+04</td> <td>  -14.825</td> <td> 0.000</td> <td>-2.49e+05</td> <td>-1.91e+05</td>\n",
       "</tr>\n",
       "<tr>\n",
       "  <th>sqft_living15</th> <td>   22.3879</td> <td>    3.922</td> <td>    5.709</td> <td> 0.000</td> <td>   14.701</td> <td>   30.075</td>\n",
       "</tr>\n",
       "<tr>\n",
       "  <th>sqft_lot15</th>    <td>   -0.3174</td> <td>    0.082</td> <td>   -3.882</td> <td> 0.000</td> <td>   -0.478</td> <td>   -0.157</td>\n",
       "</tr>\n",
       "<tr>\n",
       "  <th>date2</th>         <td>  112.8816</td> <td>   13.824</td> <td>    8.166</td> <td> 0.000</td> <td>   85.786</td> <td>  139.977</td>\n",
       "</tr>\n",
       "</table>\n",
       "<table class=\"simpletable\">\n",
       "<tr>\n",
       "  <th>Omnibus:</th>       <td>15336.639</td> <th>  Durbin-Watson:     </th>  <td>   1.997</td>  \n",
       "</tr>\n",
       "<tr>\n",
       "  <th>Prob(Omnibus):</th>  <td> 0.000</td>   <th>  Jarque-Bera (JB):  </th> <td>1751123.566</td>\n",
       "</tr>\n",
       "<tr>\n",
       "  <th>Skew:</th>           <td> 3.785</td>   <th>  Prob(JB):          </th>  <td>    0.00</td>  \n",
       "</tr>\n",
       "<tr>\n",
       "  <th>Kurtosis:</th>       <td>51.717</td>   <th>  Cond. No.          </th>  <td>4.30e+17</td>  \n",
       "</tr>\n",
       "</table><br/><br/>Warnings:<br/>[1] Standard Errors assume that the covariance matrix of the errors is correctly specified.<br/>[2] The smallest eigenvalue is 9.5e-22. This might indicate that there are<br/>strong multicollinearity problems or that the design matrix is singular."
      ],
      "text/plain": [
       "<class 'statsmodels.iolib.summary.Summary'>\n",
       "\"\"\"\n",
       "                            OLS Regression Results                            \n",
       "==============================================================================\n",
       "Dep. Variable:                  price   R-squared:                       0.699\n",
       "Model:                            OLS   Adj. R-squared:                  0.699\n",
       "Method:                 Least Squares   F-statistic:                     2232.\n",
       "Date:                Thu, 20 Feb 2020   Prob (F-statistic):               0.00\n",
       "Time:                        14:57:32   Log-Likelihood:            -2.3598e+05\n",
       "No. Observations:               17290   AIC:                         4.720e+05\n",
       "Df Residuals:                   17271   BIC:                         4.721e+05\n",
       "Df Model:                          18                                         \n",
       "Covariance Type:            nonrobust                                         \n",
       "=================================================================================\n",
       "                    coef    std err          t      P>|t|      [0.025      0.975]\n",
       "---------------------------------------------------------------------------------\n",
       "Intercept       4.39e+06   3.32e+06      1.322      0.186   -2.12e+06    1.09e+07\n",
       "bedrooms      -3.642e+04   2112.484    -17.241      0.000   -4.06e+04   -3.23e+04\n",
       "bathrooms      4.156e+04   3693.753     11.251      0.000    3.43e+04    4.88e+04\n",
       "sqft_living     114.1703      2.569     44.446      0.000     109.135     119.205\n",
       "sqft_lot          0.1013      0.052      1.943      0.052      -0.001       0.204\n",
       "floors         5939.0777   4086.973      1.453      0.146   -2071.803    1.39e+04\n",
       "waterfront     5.938e+05   1.93e+04     30.813      0.000    5.56e+05    6.32e+05\n",
       "view           5.226e+04   2411.750     21.670      0.000    4.75e+04     5.7e+04\n",
       "condition      2.758e+04   2670.378     10.328      0.000    2.23e+04    3.28e+04\n",
       "grade          9.565e+04   2454.593     38.969      0.000    9.08e+04       1e+05\n",
       "sqft_above       73.0900      2.573     28.407      0.000      68.047      78.133\n",
       "sqft_basement    41.0816      3.003     13.681      0.000      35.196      46.967\n",
       "yr_built      -2656.2555     82.409    -32.232      0.000   -2817.786   -2494.725\n",
       "yr_renovated     18.2150      4.168      4.370      0.000      10.045      26.385\n",
       "zipcode        -566.3760     37.453    -15.123      0.000    -639.787    -492.965\n",
       "lat            6.045e+05   1.22e+04     49.492      0.000    5.81e+05    6.28e+05\n",
       "long          -2.203e+05   1.49e+04    -14.825      0.000   -2.49e+05   -1.91e+05\n",
       "sqft_living15    22.3879      3.922      5.709      0.000      14.701      30.075\n",
       "sqft_lot15       -0.3174      0.082     -3.882      0.000      -0.478      -0.157\n",
       "date2           112.8816     13.824      8.166      0.000      85.786     139.977\n",
       "==============================================================================\n",
       "Omnibus:                    15336.639   Durbin-Watson:                   1.997\n",
       "Prob(Omnibus):                  0.000   Jarque-Bera (JB):          1751123.566\n",
       "Skew:                           3.785   Prob(JB):                         0.00\n",
       "Kurtosis:                      51.717   Cond. No.                     4.30e+17\n",
       "==============================================================================\n",
       "\n",
       "Warnings:\n",
       "[1] Standard Errors assume that the covariance matrix of the errors is correctly specified.\n",
       "[2] The smallest eigenvalue is 9.5e-22. This might indicate that there are\n",
       "strong multicollinearity problems or that the design matrix is singular.\n",
       "\"\"\""
      ]
     },
     "execution_count": 9,
     "metadata": {},
     "output_type": "execute_result"
    }
   ],
   "source": [
    "predict_this = 'price'\n",
    "ind_vars = '+'.join(all_cols)\n",
    "ols(formula = predict_this+'~'+ind_vars, data = data_set).fit().summary()"
   ]
  },
  {
   "cell_type": "markdown",
   "metadata": {},
   "source": [
    "# Drop date from all_cols (the functional column is date2 which was not ever added to all_cols)"
   ]
  },
  {
   "cell_type": "code",
   "execution_count": 10,
   "metadata": {},
   "outputs": [
    {
     "ename": "ValueError",
     "evalue": "list.remove(x): x not in list",
     "output_type": "error",
     "traceback": [
      "\u001b[0;31m---------------------------------------------------------------------------\u001b[0m",
      "\u001b[0;31mValueError\u001b[0m                                Traceback (most recent call last)",
      "\u001b[0;32m<ipython-input-10-d9e06ef58dc4>\u001b[0m in \u001b[0;36m<module>\u001b[0;34m\u001b[0m\n\u001b[0;32m----> 1\u001b[0;31m \u001b[0mall_cols\u001b[0m\u001b[0;34m.\u001b[0m\u001b[0mremove\u001b[0m\u001b[0;34m(\u001b[0m\u001b[0;34m'date'\u001b[0m\u001b[0;34m)\u001b[0m\u001b[0;34m\u001b[0m\u001b[0;34m\u001b[0m\u001b[0m\n\u001b[0m",
      "\u001b[0;31mValueError\u001b[0m: list.remove(x): x not in list"
     ]
    }
   ],
   "source": [
    "all_cols.remove('date')"
   ]
  },
  {
   "cell_type": "code",
   "execution_count": 11,
   "metadata": {},
   "outputs": [],
   "source": [
    "all_cols.remove('date2')"
   ]
  },
  {
   "cell_type": "code",
   "execution_count": 12,
   "metadata": {},
   "outputs": [
    {
     "data": {
      "text/plain": [
       "(18,\n",
       " ['bedrooms',\n",
       "  'bathrooms',\n",
       "  'sqft_living',\n",
       "  'sqft_lot',\n",
       "  'floors',\n",
       "  'waterfront',\n",
       "  'view',\n",
       "  'condition',\n",
       "  'grade',\n",
       "  'sqft_above',\n",
       "  'sqft_basement',\n",
       "  'yr_built',\n",
       "  'yr_renovated',\n",
       "  'zipcode',\n",
       "  'lat',\n",
       "  'long',\n",
       "  'sqft_living15',\n",
       "  'sqft_lot15'])"
      ]
     },
     "execution_count": 12,
     "metadata": {},
     "output_type": "execute_result"
    }
   ],
   "source": [
    "len(all_cols), all_cols"
   ]
  },
  {
   "cell_type": "markdown",
   "metadata": {},
   "source": [
    "# After dropping #R^2 = 0.698"
   ]
  },
  {
   "cell_type": "code",
   "execution_count": 13,
   "metadata": {},
   "outputs": [
    {
     "data": {
      "text/html": [
       "<table class=\"simpletable\">\n",
       "<caption>OLS Regression Results</caption>\n",
       "<tr>\n",
       "  <th>Dep. Variable:</th>          <td>price</td>      <th>  R-squared:         </th>  <td>   0.698</td>  \n",
       "</tr>\n",
       "<tr>\n",
       "  <th>Model:</th>                   <td>OLS</td>       <th>  Adj. R-squared:    </th>  <td>   0.698</td>  \n",
       "</tr>\n",
       "<tr>\n",
       "  <th>Method:</th>             <td>Least Squares</td>  <th>  F-statistic:       </th>  <td>   2350.</td>  \n",
       "</tr>\n",
       "<tr>\n",
       "  <th>Date:</th>             <td>Thu, 20 Feb 2020</td> <th>  Prob (F-statistic):</th>   <td>  0.00</td>   \n",
       "</tr>\n",
       "<tr>\n",
       "  <th>Time:</th>                 <td>14:57:51</td>     <th>  Log-Likelihood:    </th> <td>-2.3601e+05</td>\n",
       "</tr>\n",
       "<tr>\n",
       "  <th>No. Observations:</th>      <td> 17290</td>      <th>  AIC:               </th>  <td>4.721e+05</td> \n",
       "</tr>\n",
       "<tr>\n",
       "  <th>Df Residuals:</th>          <td> 17272</td>      <th>  BIC:               </th>  <td>4.722e+05</td> \n",
       "</tr>\n",
       "<tr>\n",
       "  <th>Df Model:</th>              <td>    17</td>      <th>                     </th>      <td> </td>     \n",
       "</tr>\n",
       "<tr>\n",
       "  <th>Covariance Type:</th>      <td>nonrobust</td>    <th>                     </th>      <td> </td>     \n",
       "</tr>\n",
       "</table>\n",
       "<table class=\"simpletable\">\n",
       "<tr>\n",
       "        <td></td>           <th>coef</th>     <th>std err</th>      <th>t</th>      <th>P>|t|</th>  <th>[0.025</th>    <th>0.975]</th>  \n",
       "</tr>\n",
       "<tr>\n",
       "  <th>Intercept</th>     <td> 4.567e+06</td> <td> 3.33e+06</td> <td>    1.372</td> <td> 0.170</td> <td>-1.96e+06</td> <td> 1.11e+07</td>\n",
       "</tr>\n",
       "<tr>\n",
       "  <th>bedrooms</th>      <td>-3.627e+04</td> <td> 2116.413</td> <td>  -17.137</td> <td> 0.000</td> <td>-4.04e+04</td> <td>-3.21e+04</td>\n",
       "</tr>\n",
       "<tr>\n",
       "  <th>bathrooms</th>     <td> 4.126e+04</td> <td> 3700.592</td> <td>   11.150</td> <td> 0.000</td> <td>  3.4e+04</td> <td> 4.85e+04</td>\n",
       "</tr>\n",
       "<tr>\n",
       "  <th>sqft_living</th>   <td>  114.2295</td> <td>    2.574</td> <td>   44.384</td> <td> 0.000</td> <td>  109.185</td> <td>  119.274</td>\n",
       "</tr>\n",
       "<tr>\n",
       "  <th>sqft_lot</th>      <td>    0.1044</td> <td>    0.052</td> <td>    1.998</td> <td> 0.046</td> <td>    0.002</td> <td>    0.207</td>\n",
       "</tr>\n",
       "<tr>\n",
       "  <th>floors</th>        <td> 5600.2941</td> <td> 4094.525</td> <td>    1.368</td> <td> 0.171</td> <td>-2425.390</td> <td> 1.36e+04</td>\n",
       "</tr>\n",
       "<tr>\n",
       "  <th>waterfront</th>    <td> 5.947e+05</td> <td> 1.93e+04</td> <td>   30.803</td> <td> 0.000</td> <td> 5.57e+05</td> <td> 6.33e+05</td>\n",
       "</tr>\n",
       "<tr>\n",
       "  <th>view</th>          <td> 5.252e+04</td> <td> 2416.118</td> <td>   21.739</td> <td> 0.000</td> <td> 4.78e+04</td> <td> 5.73e+04</td>\n",
       "</tr>\n",
       "<tr>\n",
       "  <th>condition</th>     <td> 2.627e+04</td> <td> 2670.585</td> <td>    9.835</td> <td> 0.000</td> <td>  2.1e+04</td> <td> 3.15e+04</td>\n",
       "</tr>\n",
       "<tr>\n",
       "  <th>grade</th>         <td> 9.527e+04</td> <td> 2458.796</td> <td>   38.745</td> <td> 0.000</td> <td> 9.04e+04</td> <td>    1e+05</td>\n",
       "</tr>\n",
       "<tr>\n",
       "  <th>sqft_above</th>    <td>   73.1255</td> <td>    2.578</td> <td>   28.366</td> <td> 0.000</td> <td>   68.073</td> <td>   78.178</td>\n",
       "</tr>\n",
       "<tr>\n",
       "  <th>sqft_basement</th> <td>   41.1029</td> <td>    3.008</td> <td>   13.663</td> <td> 0.000</td> <td>   35.206</td> <td>   47.000</td>\n",
       "</tr>\n",
       "<tr>\n",
       "  <th>yr_built</th>      <td>-2653.6616</td> <td>   82.565</td> <td>  -32.140</td> <td> 0.000</td> <td>-2815.498</td> <td>-2491.825</td>\n",
       "</tr>\n",
       "<tr>\n",
       "  <th>yr_renovated</th>  <td>   17.4437</td> <td>    4.175</td> <td>    4.178</td> <td> 0.000</td> <td>    9.260</td> <td>   25.627</td>\n",
       "</tr>\n",
       "<tr>\n",
       "  <th>zipcode</th>       <td> -567.4119</td> <td>   37.523</td> <td>  -15.122</td> <td> 0.000</td> <td> -640.962</td> <td> -493.862</td>\n",
       "</tr>\n",
       "<tr>\n",
       "  <th>lat</th>           <td> 6.021e+05</td> <td> 1.22e+04</td> <td>   49.222</td> <td> 0.000</td> <td> 5.78e+05</td> <td> 6.26e+05</td>\n",
       "</tr>\n",
       "<tr>\n",
       "  <th>long</th>          <td>-2.208e+05</td> <td> 1.49e+04</td> <td>  -14.830</td> <td> 0.000</td> <td> -2.5e+05</td> <td>-1.92e+05</td>\n",
       "</tr>\n",
       "<tr>\n",
       "  <th>sqft_living15</th> <td>   22.0718</td> <td>    3.929</td> <td>    5.618</td> <td> 0.000</td> <td>   14.371</td> <td>   29.773</td>\n",
       "</tr>\n",
       "<tr>\n",
       "  <th>sqft_lot15</th>    <td>   -0.3200</td> <td>    0.082</td> <td>   -3.907</td> <td> 0.000</td> <td>   -0.481</td> <td>   -0.159</td>\n",
       "</tr>\n",
       "</table>\n",
       "<table class=\"simpletable\">\n",
       "<tr>\n",
       "  <th>Omnibus:</th>       <td>15315.583</td> <th>  Durbin-Watson:     </th>  <td>   1.997</td>  \n",
       "</tr>\n",
       "<tr>\n",
       "  <th>Prob(Omnibus):</th>  <td> 0.000</td>   <th>  Jarque-Bera (JB):  </th> <td>1731673.987</td>\n",
       "</tr>\n",
       "<tr>\n",
       "  <th>Skew:</th>           <td> 3.780</td>   <th>  Prob(JB):          </th>  <td>    0.00</td>  \n",
       "</tr>\n",
       "<tr>\n",
       "  <th>Kurtosis:</th>       <td>51.441</td>   <th>  Cond. No.          </th>  <td>4.25e+17</td>  \n",
       "</tr>\n",
       "</table><br/><br/>Warnings:<br/>[1] Standard Errors assume that the covariance matrix of the errors is correctly specified.<br/>[2] The smallest eigenvalue is 9.71e-22. This might indicate that there are<br/>strong multicollinearity problems or that the design matrix is singular."
      ],
      "text/plain": [
       "<class 'statsmodels.iolib.summary.Summary'>\n",
       "\"\"\"\n",
       "                            OLS Regression Results                            \n",
       "==============================================================================\n",
       "Dep. Variable:                  price   R-squared:                       0.698\n",
       "Model:                            OLS   Adj. R-squared:                  0.698\n",
       "Method:                 Least Squares   F-statistic:                     2350.\n",
       "Date:                Thu, 20 Feb 2020   Prob (F-statistic):               0.00\n",
       "Time:                        14:57:51   Log-Likelihood:            -2.3601e+05\n",
       "No. Observations:               17290   AIC:                         4.721e+05\n",
       "Df Residuals:                   17272   BIC:                         4.722e+05\n",
       "Df Model:                          17                                         \n",
       "Covariance Type:            nonrobust                                         \n",
       "=================================================================================\n",
       "                    coef    std err          t      P>|t|      [0.025      0.975]\n",
       "---------------------------------------------------------------------------------\n",
       "Intercept      4.567e+06   3.33e+06      1.372      0.170   -1.96e+06    1.11e+07\n",
       "bedrooms      -3.627e+04   2116.413    -17.137      0.000   -4.04e+04   -3.21e+04\n",
       "bathrooms      4.126e+04   3700.592     11.150      0.000     3.4e+04    4.85e+04\n",
       "sqft_living     114.2295      2.574     44.384      0.000     109.185     119.274\n",
       "sqft_lot          0.1044      0.052      1.998      0.046       0.002       0.207\n",
       "floors         5600.2941   4094.525      1.368      0.171   -2425.390    1.36e+04\n",
       "waterfront     5.947e+05   1.93e+04     30.803      0.000    5.57e+05    6.33e+05\n",
       "view           5.252e+04   2416.118     21.739      0.000    4.78e+04    5.73e+04\n",
       "condition      2.627e+04   2670.585      9.835      0.000     2.1e+04    3.15e+04\n",
       "grade          9.527e+04   2458.796     38.745      0.000    9.04e+04       1e+05\n",
       "sqft_above       73.1255      2.578     28.366      0.000      68.073      78.178\n",
       "sqft_basement    41.1029      3.008     13.663      0.000      35.206      47.000\n",
       "yr_built      -2653.6616     82.565    -32.140      0.000   -2815.498   -2491.825\n",
       "yr_renovated     17.4437      4.175      4.178      0.000       9.260      25.627\n",
       "zipcode        -567.4119     37.523    -15.122      0.000    -640.962    -493.862\n",
       "lat            6.021e+05   1.22e+04     49.222      0.000    5.78e+05    6.26e+05\n",
       "long          -2.208e+05   1.49e+04    -14.830      0.000    -2.5e+05   -1.92e+05\n",
       "sqft_living15    22.0718      3.929      5.618      0.000      14.371      29.773\n",
       "sqft_lot15       -0.3200      0.082     -3.907      0.000      -0.481      -0.159\n",
       "==============================================================================\n",
       "Omnibus:                    15315.583   Durbin-Watson:                   1.997\n",
       "Prob(Omnibus):                  0.000   Jarque-Bera (JB):          1731673.987\n",
       "Skew:                           3.780   Prob(JB):                         0.00\n",
       "Kurtosis:                      51.441   Cond. No.                     4.25e+17\n",
       "==============================================================================\n",
       "\n",
       "Warnings:\n",
       "[1] Standard Errors assume that the covariance matrix of the errors is correctly specified.\n",
       "[2] The smallest eigenvalue is 9.71e-22. This might indicate that there are\n",
       "strong multicollinearity problems or that the design matrix is singular.\n",
       "\"\"\""
      ]
     },
     "execution_count": 13,
     "metadata": {},
     "output_type": "execute_result"
    }
   ],
   "source": [
    "predict_this = 'price'\n",
    "ind_vars = '+'.join(all_cols)\n",
    "ind_vars\n",
    "ols(formula = predict_this+'~'+ind_vars, data = data_set).fit().summary()"
   ]
  },
  {
   "cell_type": "code",
   "execution_count": 14,
   "metadata": {},
   "outputs": [
    {
     "name": "stdout",
     "output_type": "stream",
     "text": [
      "<class 'pandas.core.frame.DataFrame'>\n",
      "Int64Index: 17290 entries, 0 to 17289\n",
      "Data columns (total 18 columns):\n",
      "bedrooms         17290 non-null int64\n",
      "bathrooms        17290 non-null float64\n",
      "sqft_living      17290 non-null int64\n",
      "sqft_lot         17290 non-null int64\n",
      "floors           17290 non-null float64\n",
      "waterfront       17290 non-null int64\n",
      "view             17290 non-null int64\n",
      "condition        17290 non-null int64\n",
      "grade            17290 non-null int64\n",
      "sqft_above       17290 non-null int64\n",
      "sqft_basement    17290 non-null int64\n",
      "yr_built         17290 non-null int64\n",
      "yr_renovated     17290 non-null int64\n",
      "zipcode          17290 non-null int64\n",
      "lat              17290 non-null float64\n",
      "long             17290 non-null float64\n",
      "sqft_living15    17290 non-null int64\n",
      "sqft_lot15       17290 non-null int64\n",
      "dtypes: float64(4), int64(14)\n",
      "memory usage: 3.1 MB\n"
     ]
    }
   ],
   "source": [
    "data_set[all_cols].info()"
   ]
  },
  {
   "cell_type": "code",
   "execution_count": 15,
   "metadata": {},
   "outputs": [
    {
     "data": {
      "text/plain": [
       "(18,\n",
       " ['bedrooms',\n",
       "  'bathrooms',\n",
       "  'sqft_living',\n",
       "  'sqft_lot',\n",
       "  'floors',\n",
       "  'waterfront',\n",
       "  'view',\n",
       "  'condition',\n",
       "  'grade',\n",
       "  'sqft_above',\n",
       "  'sqft_basement',\n",
       "  'yr_built',\n",
       "  'yr_renovated',\n",
       "  'zipcode',\n",
       "  'lat',\n",
       "  'long',\n",
       "  'sqft_living15',\n",
       "  'sqft_lot15'])"
      ]
     },
     "execution_count": 15,
     "metadata": {},
     "output_type": "execute_result"
    }
   ],
   "source": [
    "len(all_cols), all_cols"
   ]
  },
  {
   "cell_type": "markdown",
   "metadata": {},
   "source": [
    "# Check the scatter plots of each"
   ]
  },
  {
   "cell_type": "code",
   "execution_count": 16,
   "metadata": {},
   "outputs": [
    {
     "data": {
      "image/png": "[encoded data removed]",
      "text/plain": [
       "<Figure size 360x360 with 1 Axes>"
      ]
     },
     "metadata": {
      "needs_background": "light"
     },
     "output_type": "display_data"
    },
    {
     "data": {
      "image/png": "[encoded data removed]",
      "text/plain": [
       "<Figure size 360x360 with 1 Axes>"
      ]
     },
     "metadata": {
      "needs_background": "light"
     },
     "output_type": "display_data"
    },
    {
     "data": {
      "image/png": "[encoded data removed]",
      "text/plain": [
       "<Figure size 360x360 with 1 Axes>"
      ]
     },
     "metadata": {
      "needs_background": "light"
     },
     "output_type": "display_data"
    },
    {
     "data": {
      "image/png": "[encoded data removed]",
      "text/plain": [
       "<Figure size 360x360 with 1 Axes>"
      ]
     },
     "metadata": {
      "needs_background": "light"
     },
     "output_type": "display_data"
    },
    {
     "data": {
      "image/png": "[encoded data removed]",
      "text/plain": [
       "<Figure size 360x360 with 1 Axes>"
      ]
     },
     "metadata": {
      "needs_background": "light"
     },
     "output_type": "display_data"
    },
    {
     "data": {
      "image/png": "[encoded data removed]",
      "text/plain": [
       "<Figure size 360x360 with 1 Axes>"
      ]
     },
     "metadata": {
      "needs_background": "light"
     },
     "output_type": "display_data"
    },
    {
     "data": {
      "image/png": "[encoded data removed]",
      "text/plain": [
       "<Figure size 360x360 with 1 Axes>"
      ]
     },
     "metadata": {
      "needs_background": "light"
     },
     "output_type": "display_data"
    },
    {
     "data": {
      "image/png": "[encoded data removed]",
      "text/plain": [
       "<Figure size 360x360 with 1 Axes>"
      ]
     },
     "metadata": {
      "needs_background": "light"
     },
     "output_type": "display_data"
    },
    {
     "data": {
      "image/png": "[encoded data removed]",
      "text/plain": [
       "<Figure size 360x360 with 1 Axes>"
      ]
     },
     "metadata": {
      "needs_background": "light"
     },
     "output_type": "display_data"
    },
    {
     "data": {
      "image/png": "[encoded data removed]",
      "text/plain": [
       "<Figure size 360x360 with 1 Axes>"
      ]
     },
     "metadata": {
      "needs_background": "light"
     },
     "output_type": "display_data"
    },
    {
     "data": {
      "image/png": "[encoded data removed]",
      "text/plain": [
       "<Figure size 360x360 with 1 Axes>"
      ]
     },
     "metadata": {
      "needs_background": "light"
     },
     "output_type": "display_data"
    },
    {
     "data": {
      "image/png": "[encoded data removed]",
      "text/plain": [
       "<Figure size 360x360 with 1 Axes>"
      ]
     },
     "metadata": {
      "needs_background": "light"
     },
     "output_type": "display_data"
    },
    {
     "data": {
      "image/png": "[encoded data removed]",
      "text/plain": [
       "<Figure size 360x360 with 1 Axes>"
      ]
     },
     "metadata": {
      "needs_background": "light"
     },
     "output_type": "display_data"
    },
    {
     "data": {
      "image/png": "[encoded data removed]",
      "text/plain": [
       "<Figure size 360x360 with 1 Axes>"
      ]
     },
     "metadata": {
      "needs_background": "light"
     },
     "output_type": "display_data"
    },
    {
     "data": {
      "image/png": "[encoded data removed]",
      "text/plain": [
       "<Figure size 360x360 with 1 Axes>"
      ]
     },
     "metadata": {
      "needs_background": "light"
     },
     "output_type": "display_data"
    },
    {
     "data": {
      "image/png": "[encoded data removed]",
      "text/plain": [
       "<Figure size 360x360 with 1 Axes>"
      ]
     },
     "metadata": {
      "needs_background": "light"
     },
     "output_type": "display_data"
    },
    {
     "data": {
      "image/png": "[encoded data removed]",
      "text/plain": [
       "<Figure size 360x360 with 1 Axes>"
      ]
     },
     "metadata": {
      "needs_background": "light"
     },
     "output_type": "display_data"
    },
    {
     "data": {
      "image/png": "[encoded data removed]",
      "text/plain": [
       "<Figure size 360x360 with 1 Axes>"
      ]
     },
     "metadata": {
      "needs_background": "light"
     },
     "output_type": "display_data"
    }
   ],
   "source": [
    "# Check the scatter plots of each\n",
    "\n",
    "for ind_var in all_cols:\n",
    "    sns.lmplot(x=ind_var, y='price', data=data_set,fit_reg=True)\n",
    "#     data_set.plot.scatter(x = ind_var, y = 'price', alpha = 0.4)\n",
    "    plt.title(f'{ind_var}')\n"
   ]
  },
  {
   "cell_type": "markdown",
   "metadata": {},
   "source": [
    "# Remove outliers"
   ]
  },
  {
   "cell_type": "code",
   "execution_count": 17,
   "metadata": {},
   "outputs": [
    {
     "data": {
      "text/plain": [
       "Int64Index([6903, 7519, 10366], dtype='int64')"
      ]
     },
     "execution_count": 17,
     "metadata": {},
     "output_type": "execute_result"
    }
   ],
   "source": [
    "# Find indices of outliers in price\n",
    "remove_price = data_set.index[(data_set['price'] > 6000000)]\n",
    "remove_price"
   ]
  },
  {
   "cell_type": "code",
   "execution_count": 18,
   "metadata": {},
   "outputs": [
    {
     "data": {
      "text/html": [
       "<div>\n",
       "<style scoped>\n",
       "    .dataframe tbody tr th:only-of-type {\n",
       "        vertical-align: middle;\n",
       "    }\n",
       "\n",
       "    .dataframe tbody tr th {\n",
       "        vertical-align: top;\n",
       "    }\n",
       "\n",
       "    .dataframe thead th {\n",
       "        text-align: right;\n",
       "    }\n",
       "</style>\n",
       "<table border=\"1\" class=\"dataframe\">\n",
       "  <thead>\n",
       "    <tr style=\"text-align: right;\">\n",
       "      <th></th>\n",
       "      <th>id</th>\n",
       "      <th>date</th>\n",
       "      <th>price</th>\n",
       "      <th>bedrooms</th>\n",
       "      <th>bathrooms</th>\n",
       "      <th>sqft_living</th>\n",
       "      <th>sqft_lot</th>\n",
       "      <th>floors</th>\n",
       "      <th>waterfront</th>\n",
       "      <th>view</th>\n",
       "      <th>...</th>\n",
       "      <th>sqft_above</th>\n",
       "      <th>sqft_basement</th>\n",
       "      <th>yr_built</th>\n",
       "      <th>yr_renovated</th>\n",
       "      <th>zipcode</th>\n",
       "      <th>lat</th>\n",
       "      <th>long</th>\n",
       "      <th>sqft_living15</th>\n",
       "      <th>sqft_lot15</th>\n",
       "      <th>date2</th>\n",
       "    </tr>\n",
       "  </thead>\n",
       "  <tbody>\n",
       "    <tr>\n",
       "      <td>6904</td>\n",
       "      <td>5608000010</td>\n",
       "      <td>2014-08-11</td>\n",
       "      <td>1385000.0</td>\n",
       "      <td>4</td>\n",
       "      <td>3.5</td>\n",
       "      <td>4010</td>\n",
       "      <td>15365</td>\n",
       "      <td>2.0</td>\n",
       "      <td>0</td>\n",
       "      <td>1</td>\n",
       "      <td>...</td>\n",
       "      <td>4010</td>\n",
       "      <td>0</td>\n",
       "      <td>2006</td>\n",
       "      <td>0</td>\n",
       "      <td>98027</td>\n",
       "      <td>47.5528</td>\n",
       "      <td>-122.093</td>\n",
       "      <td>3550</td>\n",
       "      <td>13429</td>\n",
       "      <td>101</td>\n",
       "    </tr>\n",
       "    <tr>\n",
       "      <td>7521</td>\n",
       "      <td>2767601100</td>\n",
       "      <td>2014-10-27</td>\n",
       "      <td>513000.0</td>\n",
       "      <td>4</td>\n",
       "      <td>2.0</td>\n",
       "      <td>2090</td>\n",
       "      <td>4000</td>\n",
       "      <td>1.0</td>\n",
       "      <td>0</td>\n",
       "      <td>0</td>\n",
       "      <td>...</td>\n",
       "      <td>1480</td>\n",
       "      <td>610</td>\n",
       "      <td>1951</td>\n",
       "      <td>0</td>\n",
       "      <td>98107</td>\n",
       "      <td>47.6751</td>\n",
       "      <td>-122.379</td>\n",
       "      <td>1510</td>\n",
       "      <td>5000</td>\n",
       "      <td>178</td>\n",
       "    </tr>\n",
       "    <tr>\n",
       "      <td>10369</td>\n",
       "      <td>4154302075</td>\n",
       "      <td>2015-01-16</td>\n",
       "      <td>200000.0</td>\n",
       "      <td>2</td>\n",
       "      <td>1.0</td>\n",
       "      <td>830</td>\n",
       "      <td>7200</td>\n",
       "      <td>1.0</td>\n",
       "      <td>0</td>\n",
       "      <td>0</td>\n",
       "      <td>...</td>\n",
       "      <td>830</td>\n",
       "      <td>0</td>\n",
       "      <td>1920</td>\n",
       "      <td>0</td>\n",
       "      <td>98118</td>\n",
       "      <td>47.5604</td>\n",
       "      <td>-122.275</td>\n",
       "      <td>1150</td>\n",
       "      <td>6600</td>\n",
       "      <td>259</td>\n",
       "    </tr>\n",
       "  </tbody>\n",
       "</table>\n",
       "<p>3 rows × 22 columns</p>\n",
       "</div>"
      ],
      "text/plain": [
       "               id        date      price  bedrooms  bathrooms  sqft_living  \\\n",
       "6904   5608000010  2014-08-11  1385000.0         4        3.5         4010   \n",
       "7521   2767601100  2014-10-27   513000.0         4        2.0         2090   \n",
       "10369  4154302075  2015-01-16   200000.0         2        1.0          830   \n",
       "\n",
       "       sqft_lot  floors  waterfront  view  ...  sqft_above  sqft_basement  \\\n",
       "6904      15365     2.0           0     1  ...        4010              0   \n",
       "7521       4000     1.0           0     0  ...        1480            610   \n",
       "10369      7200     1.0           0     0  ...         830              0   \n",
       "\n",
       "       yr_built  yr_renovated  zipcode      lat     long  sqft_living15  \\\n",
       "6904       2006             0    98027  47.5528 -122.093           3550   \n",
       "7521       1951             0    98107  47.6751 -122.379           1510   \n",
       "10369      1920             0    98118  47.5604 -122.275           1150   \n",
       "\n",
       "       sqft_lot15  date2  \n",
       "6904        13429    101  \n",
       "7521         5000    178  \n",
       "10369        6600    259  \n",
       "\n",
       "[3 rows x 22 columns]"
      ]
     },
     "execution_count": 18,
     "metadata": {},
     "output_type": "execute_result"
    }
   ],
   "source": [
    "# Remove outliers\n",
    "data_set.drop(remove_price, inplace = True)\n",
    "data_set.iloc[remove_price]"
   ]
  },
  {
   "cell_type": "code",
   "execution_count": 19,
   "metadata": {},
   "outputs": [
    {
     "data": {
      "text/plain": [
       "Int64Index([8597], dtype='int64')"
      ]
     },
     "execution_count": 19,
     "metadata": {},
     "output_type": "execute_result"
    }
   ],
   "source": [
    "# Find house that has 30+ bedrooms\n",
    "\n",
    "remove_bedroom = data_set.index[(data_set['bedrooms'] > 15)]\n",
    "remove_bedroom"
   ]
  },
  {
   "cell_type": "code",
   "execution_count": 20,
   "metadata": {},
   "outputs": [
    {
     "data": {
      "text/html": [
       "<div>\n",
       "<style scoped>\n",
       "    .dataframe tbody tr th:only-of-type {\n",
       "        vertical-align: middle;\n",
       "    }\n",
       "\n",
       "    .dataframe tbody tr th {\n",
       "        vertical-align: top;\n",
       "    }\n",
       "\n",
       "    .dataframe thead th {\n",
       "        text-align: right;\n",
       "    }\n",
       "</style>\n",
       "<table border=\"1\" class=\"dataframe\">\n",
       "  <thead>\n",
       "    <tr style=\"text-align: right;\">\n",
       "      <th></th>\n",
       "      <th>id</th>\n",
       "      <th>date</th>\n",
       "      <th>price</th>\n",
       "      <th>bedrooms</th>\n",
       "      <th>bathrooms</th>\n",
       "      <th>sqft_living</th>\n",
       "      <th>sqft_lot</th>\n",
       "      <th>floors</th>\n",
       "      <th>waterfront</th>\n",
       "      <th>view</th>\n",
       "      <th>...</th>\n",
       "      <th>sqft_above</th>\n",
       "      <th>sqft_basement</th>\n",
       "      <th>yr_built</th>\n",
       "      <th>yr_renovated</th>\n",
       "      <th>zipcode</th>\n",
       "      <th>lat</th>\n",
       "      <th>long</th>\n",
       "      <th>sqft_living15</th>\n",
       "      <th>sqft_lot15</th>\n",
       "      <th>date2</th>\n",
       "    </tr>\n",
       "  </thead>\n",
       "  <tbody>\n",
       "    <tr>\n",
       "      <td>8600</td>\n",
       "      <td>1311800040</td>\n",
       "      <td>2014-12-20</td>\n",
       "      <td>260000.0</td>\n",
       "      <td>4</td>\n",
       "      <td>2.75</td>\n",
       "      <td>2240</td>\n",
       "      <td>7200</td>\n",
       "      <td>1.0</td>\n",
       "      <td>0</td>\n",
       "      <td>0</td>\n",
       "      <td>...</td>\n",
       "      <td>1140</td>\n",
       "      <td>1100</td>\n",
       "      <td>1967</td>\n",
       "      <td>0</td>\n",
       "      <td>98001</td>\n",
       "      <td>47.3357</td>\n",
       "      <td>-122.275</td>\n",
       "      <td>1580</td>\n",
       "      <td>7416</td>\n",
       "      <td>232</td>\n",
       "    </tr>\n",
       "  </tbody>\n",
       "</table>\n",
       "<p>1 rows × 22 columns</p>\n",
       "</div>"
      ],
      "text/plain": [
       "              id        date     price  bedrooms  bathrooms  sqft_living  \\\n",
       "8600  1311800040  2014-12-20  260000.0         4       2.75         2240   \n",
       "\n",
       "      sqft_lot  floors  waterfront  view  ...  sqft_above  sqft_basement  \\\n",
       "8600      7200     1.0           0     0  ...        1140           1100   \n",
       "\n",
       "      yr_built  yr_renovated  zipcode      lat     long  sqft_living15  \\\n",
       "8600      1967             0    98001  47.3357 -122.275           1580   \n",
       "\n",
       "      sqft_lot15  date2  \n",
       "8600        7416    232  \n",
       "\n",
       "[1 rows x 22 columns]"
      ]
     },
     "execution_count": 20,
     "metadata": {},
     "output_type": "execute_result"
    }
   ],
   "source": [
    "# Remove bedroom\n",
    "\n",
    "data_set.drop(remove_bedroom, inplace = True)\n",
    "data_set.iloc[remove_bedroom]"
   ]
  },
  {
   "cell_type": "code",
   "execution_count": 21,
   "metadata": {},
   "outputs": [],
   "source": [
    "# waterfront is already categorized and dummied"
   ]
  },
  {
   "cell_type": "markdown",
   "metadata": {},
   "source": [
    "# Categorical List"
   ]
  },
  {
   "cell_type": "code",
   "execution_count": 22,
   "metadata": {},
   "outputs": [],
   "source": [
    "categorical = ['view', 'condition', 'zipcode']\n",
    "dummies1 = pd.get_dummies(data_set, prefix = categorical, columns = categorical, drop_first = True)\n",
    "len(dummies1.columns), list(dummies1.columns);\n",
    "# find contin vars & ones that need log/transf out of those\n",
    "# new col using lat/long & yr blt -> yrs old if you have time"
   ]
  },
  {
   "cell_type": "code",
   "execution_count": 23,
   "metadata": {
    "scrolled": true
   },
   "outputs": [
    {
     "data": {
      "text/html": [
       "<div>\n",
       "<style scoped>\n",
       "    .dataframe tbody tr th:only-of-type {\n",
       "        vertical-align: middle;\n",
       "    }\n",
       "\n",
       "    .dataframe tbody tr th {\n",
       "        vertical-align: top;\n",
       "    }\n",
       "\n",
       "    .dataframe thead th {\n",
       "        text-align: right;\n",
       "    }\n",
       "</style>\n",
       "<table border=\"1\" class=\"dataframe\">\n",
       "  <thead>\n",
       "    <tr style=\"text-align: right;\">\n",
       "      <th></th>\n",
       "      <th>id</th>\n",
       "      <th>date</th>\n",
       "      <th>price</th>\n",
       "      <th>bedrooms</th>\n",
       "      <th>bathrooms</th>\n",
       "      <th>sqft_living</th>\n",
       "      <th>sqft_lot</th>\n",
       "      <th>floors</th>\n",
       "      <th>waterfront</th>\n",
       "      <th>grade</th>\n",
       "      <th>...</th>\n",
       "      <th>zipcode_98146</th>\n",
       "      <th>zipcode_98148</th>\n",
       "      <th>zipcode_98155</th>\n",
       "      <th>zipcode_98166</th>\n",
       "      <th>zipcode_98168</th>\n",
       "      <th>zipcode_98177</th>\n",
       "      <th>zipcode_98178</th>\n",
       "      <th>zipcode_98188</th>\n",
       "      <th>zipcode_98198</th>\n",
       "      <th>zipcode_98199</th>\n",
       "    </tr>\n",
       "  </thead>\n",
       "  <tbody>\n",
       "    <tr>\n",
       "      <td>0</td>\n",
       "      <td>2591820310</td>\n",
       "      <td>2014-10-06</td>\n",
       "      <td>365000.0</td>\n",
       "      <td>4</td>\n",
       "      <td>2.25</td>\n",
       "      <td>2070</td>\n",
       "      <td>8893</td>\n",
       "      <td>2.0</td>\n",
       "      <td>0</td>\n",
       "      <td>8</td>\n",
       "      <td>...</td>\n",
       "      <td>0</td>\n",
       "      <td>0</td>\n",
       "      <td>0</td>\n",
       "      <td>0</td>\n",
       "      <td>0</td>\n",
       "      <td>0</td>\n",
       "      <td>0</td>\n",
       "      <td>0</td>\n",
       "      <td>0</td>\n",
       "      <td>0</td>\n",
       "    </tr>\n",
       "    <tr>\n",
       "      <td>1</td>\n",
       "      <td>7974200820</td>\n",
       "      <td>2014-08-21</td>\n",
       "      <td>865000.0</td>\n",
       "      <td>5</td>\n",
       "      <td>3.00</td>\n",
       "      <td>2900</td>\n",
       "      <td>6730</td>\n",
       "      <td>1.0</td>\n",
       "      <td>0</td>\n",
       "      <td>8</td>\n",
       "      <td>...</td>\n",
       "      <td>0</td>\n",
       "      <td>0</td>\n",
       "      <td>0</td>\n",
       "      <td>0</td>\n",
       "      <td>0</td>\n",
       "      <td>0</td>\n",
       "      <td>0</td>\n",
       "      <td>0</td>\n",
       "      <td>0</td>\n",
       "      <td>0</td>\n",
       "    </tr>\n",
       "    <tr>\n",
       "      <td>2</td>\n",
       "      <td>7701450110</td>\n",
       "      <td>2014-08-15</td>\n",
       "      <td>1038000.0</td>\n",
       "      <td>4</td>\n",
       "      <td>2.50</td>\n",
       "      <td>3770</td>\n",
       "      <td>10893</td>\n",
       "      <td>2.0</td>\n",
       "      <td>0</td>\n",
       "      <td>11</td>\n",
       "      <td>...</td>\n",
       "      <td>0</td>\n",
       "      <td>0</td>\n",
       "      <td>0</td>\n",
       "      <td>0</td>\n",
       "      <td>0</td>\n",
       "      <td>0</td>\n",
       "      <td>0</td>\n",
       "      <td>0</td>\n",
       "      <td>0</td>\n",
       "      <td>0</td>\n",
       "    </tr>\n",
       "    <tr>\n",
       "      <td>3</td>\n",
       "      <td>9522300010</td>\n",
       "      <td>2015-03-31</td>\n",
       "      <td>1490000.0</td>\n",
       "      <td>3</td>\n",
       "      <td>3.50</td>\n",
       "      <td>4560</td>\n",
       "      <td>14608</td>\n",
       "      <td>2.0</td>\n",
       "      <td>0</td>\n",
       "      <td>12</td>\n",
       "      <td>...</td>\n",
       "      <td>0</td>\n",
       "      <td>0</td>\n",
       "      <td>0</td>\n",
       "      <td>0</td>\n",
       "      <td>0</td>\n",
       "      <td>0</td>\n",
       "      <td>0</td>\n",
       "      <td>0</td>\n",
       "      <td>0</td>\n",
       "      <td>0</td>\n",
       "    </tr>\n",
       "    <tr>\n",
       "      <td>4</td>\n",
       "      <td>9510861140</td>\n",
       "      <td>2014-07-14</td>\n",
       "      <td>711000.0</td>\n",
       "      <td>3</td>\n",
       "      <td>2.50</td>\n",
       "      <td>2550</td>\n",
       "      <td>5376</td>\n",
       "      <td>2.0</td>\n",
       "      <td>0</td>\n",
       "      <td>9</td>\n",
       "      <td>...</td>\n",
       "      <td>0</td>\n",
       "      <td>0</td>\n",
       "      <td>0</td>\n",
       "      <td>0</td>\n",
       "      <td>0</td>\n",
       "      <td>0</td>\n",
       "      <td>0</td>\n",
       "      <td>0</td>\n",
       "      <td>0</td>\n",
       "      <td>0</td>\n",
       "    </tr>\n",
       "  </tbody>\n",
       "</table>\n",
       "<p>5 rows × 96 columns</p>\n",
       "</div>"
      ],
      "text/plain": [
       "           id        date      price  bedrooms  bathrooms  sqft_living  \\\n",
       "0  2591820310  2014-10-06   365000.0         4       2.25         2070   \n",
       "1  7974200820  2014-08-21   865000.0         5       3.00         2900   \n",
       "2  7701450110  2014-08-15  1038000.0         4       2.50         3770   \n",
       "3  9522300010  2015-03-31  1490000.0         3       3.50         4560   \n",
       "4  9510861140  2014-07-14   711000.0         3       2.50         2550   \n",
       "\n",
       "   sqft_lot  floors  waterfront  grade  ...  zipcode_98146  zipcode_98148  \\\n",
       "0      8893     2.0           0      8  ...              0              0   \n",
       "1      6730     1.0           0      8  ...              0              0   \n",
       "2     10893     2.0           0     11  ...              0              0   \n",
       "3     14608     2.0           0     12  ...              0              0   \n",
       "4      5376     2.0           0      9  ...              0              0   \n",
       "\n",
       "   zipcode_98155  zipcode_98166  zipcode_98168  zipcode_98177  zipcode_98178  \\\n",
       "0              0              0              0              0              0   \n",
       "1              0              0              0              0              0   \n",
       "2              0              0              0              0              0   \n",
       "3              0              0              0              0              0   \n",
       "4              0              0              0              0              0   \n",
       "\n",
       "   zipcode_98188  zipcode_98198  zipcode_98199  \n",
       "0              0              0              0  \n",
       "1              0              0              0  \n",
       "2              0              0              0  \n",
       "3              0              0              0  \n",
       "4              0              0              0  \n",
       "\n",
       "[5 rows x 96 columns]"
      ]
     },
     "execution_count": 23,
     "metadata": {},
     "output_type": "execute_result"
    }
   ],
   "source": [
    "dummies1.head()"
   ]
  },
  {
   "cell_type": "code",
   "execution_count": 24,
   "metadata": {},
   "outputs": [],
   "source": [
    "from sklearn.preprocessing import StandardScaler"
   ]
  },
  {
   "cell_type": "markdown",
   "metadata": {},
   "source": [
    "# Dummied"
   ]
  },
  {
   "cell_type": "code",
   "execution_count": 26,
   "metadata": {},
   "outputs": [],
   "source": [
    "predict_this = 'price'\n",
    "all_cols = list(dummies1.columns)\n",
    "all_cols.remove('id')\n",
    "all_cols.remove('date')\n",
    "all_cols.remove('price')\n",
    "ind_vars = '+'.join(all_cols)\n",
    "ind_vars\n",
    "a = ols(formula = predict_this+'~'+ind_vars, data = dummies1).fit()"
   ]
  },
  {
   "cell_type": "code",
   "execution_count": 27,
   "metadata": {},
   "outputs": [
    {
     "data": {
      "text/html": [
       "<table class=\"simpletable\">\n",
       "<caption>OLS Regression Results</caption>\n",
       "<tr>\n",
       "  <th>Dep. Variable:</th>          <td>price</td>      <th>  R-squared:         </th>  <td>   0.815</td>  \n",
       "</tr>\n",
       "<tr>\n",
       "  <th>Model:</th>                   <td>OLS</td>       <th>  Adj. R-squared:    </th>  <td>   0.814</td>  \n",
       "</tr>\n",
       "<tr>\n",
       "  <th>Method:</th>             <td>Least Squares</td>  <th>  F-statistic:       </th>  <td>   825.0</td>  \n",
       "</tr>\n",
       "<tr>\n",
       "  <th>Date:</th>             <td>Thu, 20 Feb 2020</td> <th>  Prob (F-statistic):</th>   <td>  0.00</td>   \n",
       "</tr>\n",
       "<tr>\n",
       "  <th>Time:</th>                 <td>14:58:51</td>     <th>  Log-Likelihood:    </th> <td>-2.3122e+05</td>\n",
       "</tr>\n",
       "<tr>\n",
       "  <th>No. Observations:</th>      <td> 17286</td>      <th>  AIC:               </th>  <td>4.626e+05</td> \n",
       "</tr>\n",
       "<tr>\n",
       "  <th>Df Residuals:</th>          <td> 17193</td>      <th>  BIC:               </th>  <td>4.633e+05</td> \n",
       "</tr>\n",
       "<tr>\n",
       "  <th>Df Model:</th>              <td>    92</td>      <th>                     </th>      <td> </td>     \n",
       "</tr>\n",
       "<tr>\n",
       "  <th>Covariance Type:</th>      <td>nonrobust</td>    <th>                     </th>      <td> </td>     \n",
       "</tr>\n",
       "</table>\n",
       "<table class=\"simpletable\">\n",
       "<tr>\n",
       "        <td></td>           <th>coef</th>     <th>std err</th>      <th>t</th>      <th>P>|t|</th>  <th>[0.025</th>    <th>0.975]</th>  \n",
       "</tr>\n",
       "<tr>\n",
       "  <th>Intercept</th>     <td>-2.364e+07</td> <td> 6.61e+06</td> <td>   -3.576</td> <td> 0.000</td> <td>-3.66e+07</td> <td>-1.07e+07</td>\n",
       "</tr>\n",
       "<tr>\n",
       "  <th>bedrooms</th>      <td>-2.605e+04</td> <td> 1724.462</td> <td>  -15.107</td> <td> 0.000</td> <td>-2.94e+04</td> <td>-2.27e+04</td>\n",
       "</tr>\n",
       "<tr>\n",
       "  <th>bathrooms</th>     <td> 2.335e+04</td> <td> 2863.600</td> <td>    8.154</td> <td> 0.000</td> <td> 1.77e+04</td> <td>  2.9e+04</td>\n",
       "</tr>\n",
       "<tr>\n",
       "  <th>sqft_living</th>   <td>  106.2901</td> <td>    2.012</td> <td>   52.834</td> <td> 0.000</td> <td>  102.347</td> <td>  110.233</td>\n",
       "</tr>\n",
       "<tr>\n",
       "  <th>sqft_lot</th>      <td>    0.2293</td> <td>    0.040</td> <td>    5.728</td> <td> 0.000</td> <td>    0.151</td> <td>    0.308</td>\n",
       "</tr>\n",
       "<tr>\n",
       "  <th>floors</th>        <td>-4.226e+04</td> <td> 3433.503</td> <td>  -12.309</td> <td> 0.000</td> <td> -4.9e+04</td> <td>-3.55e+04</td>\n",
       "</tr>\n",
       "<tr>\n",
       "  <th>waterfront</th>    <td> 5.467e+05</td> <td> 1.71e+04</td> <td>   32.031</td> <td> 0.000</td> <td> 5.13e+05</td> <td>  5.8e+05</td>\n",
       "</tr>\n",
       "<tr>\n",
       "  <th>grade</th>         <td> 6.021e+04</td> <td> 1984.916</td> <td>   30.334</td> <td> 0.000</td> <td> 5.63e+04</td> <td> 6.41e+04</td>\n",
       "</tr>\n",
       "<tr>\n",
       "  <th>sqft_above</th>    <td>   90.4703</td> <td>    2.071</td> <td>   43.693</td> <td> 0.000</td> <td>   86.412</td> <td>   94.529</td>\n",
       "</tr>\n",
       "<tr>\n",
       "  <th>sqft_basement</th> <td>   15.6926</td> <td>    2.361</td> <td>    6.647</td> <td> 0.000</td> <td>   11.065</td> <td>   20.320</td>\n",
       "</tr>\n",
       "<tr>\n",
       "  <th>yr_built</th>      <td> -702.7073</td> <td>   71.369</td> <td>   -9.846</td> <td> 0.000</td> <td> -842.599</td> <td> -562.816</td>\n",
       "</tr>\n",
       "<tr>\n",
       "  <th>yr_renovated</th>  <td>   15.3177</td> <td>    3.226</td> <td>    4.748</td> <td> 0.000</td> <td>    8.994</td> <td>   21.642</td>\n",
       "</tr>\n",
       "<tr>\n",
       "  <th>lat</th>           <td> 1.843e+05</td> <td> 6.87e+04</td> <td>    2.683</td> <td> 0.007</td> <td> 4.97e+04</td> <td> 3.19e+05</td>\n",
       "</tr>\n",
       "<tr>\n",
       "  <th>long</th>          <td> -1.29e+05</td> <td> 4.89e+04</td> <td>   -2.637</td> <td> 0.008</td> <td>-2.25e+05</td> <td>-3.31e+04</td>\n",
       "</tr>\n",
       "<tr>\n",
       "  <th>sqft_living15</th> <td>   18.4298</td> <td>    3.154</td> <td>    5.843</td> <td> 0.000</td> <td>   12.248</td> <td>   24.612</td>\n",
       "</tr>\n",
       "<tr>\n",
       "  <th>sqft_lot15</th>    <td>   -0.0484</td> <td>    0.065</td> <td>   -0.748</td> <td> 0.454</td> <td>   -0.175</td> <td>    0.078</td>\n",
       "</tr>\n",
       "<tr>\n",
       "  <th>date2</th>         <td>  117.3846</td> <td>   10.589</td> <td>   11.085</td> <td> 0.000</td> <td>   96.629</td> <td>  138.141</td>\n",
       "</tr>\n",
       "<tr>\n",
       "  <th>view_1</th>        <td> 7.221e+04</td> <td> 9958.529</td> <td>    7.251</td> <td> 0.000</td> <td> 5.27e+04</td> <td> 9.17e+04</td>\n",
       "</tr>\n",
       "<tr>\n",
       "  <th>view_2</th>        <td>  6.58e+04</td> <td> 6038.153</td> <td>   10.897</td> <td> 0.000</td> <td>  5.4e+04</td> <td> 7.76e+04</td>\n",
       "</tr>\n",
       "<tr>\n",
       "  <th>view_3</th>        <td> 1.372e+05</td> <td> 8301.779</td> <td>   16.521</td> <td> 0.000</td> <td> 1.21e+05</td> <td> 1.53e+05</td>\n",
       "</tr>\n",
       "<tr>\n",
       "  <th>view_4</th>        <td> 3.443e+05</td> <td> 1.24e+04</td> <td>   27.683</td> <td> 0.000</td> <td>  3.2e+05</td> <td> 3.69e+05</td>\n",
       "</tr>\n",
       "<tr>\n",
       "  <th>condition_2</th>   <td> 5.549e+04</td> <td> 3.47e+04</td> <td>    1.599</td> <td> 0.110</td> <td>-1.25e+04</td> <td> 1.24e+05</td>\n",
       "</tr>\n",
       "<tr>\n",
       "  <th>condition_3</th>   <td> 4.354e+04</td> <td> 3.22e+04</td> <td>    1.352</td> <td> 0.177</td> <td>-1.96e+04</td> <td> 1.07e+05</td>\n",
       "</tr>\n",
       "<tr>\n",
       "  <th>condition_4</th>   <td> 6.356e+04</td> <td> 3.22e+04</td> <td>    1.973</td> <td> 0.049</td> <td>  410.873</td> <td> 1.27e+05</td>\n",
       "</tr>\n",
       "<tr>\n",
       "  <th>condition_5</th>   <td> 1.108e+05</td> <td> 3.24e+04</td> <td>    3.419</td> <td> 0.001</td> <td> 4.73e+04</td> <td> 1.74e+05</td>\n",
       "</tr>\n",
       "<tr>\n",
       "  <th>zipcode_98002</th> <td>  3.63e+04</td> <td> 1.59e+04</td> <td>    2.289</td> <td> 0.022</td> <td> 5221.659</td> <td> 6.74e+04</td>\n",
       "</tr>\n",
       "<tr>\n",
       "  <th>zipcode_98003</th> <td>-2.201e+04</td> <td> 1.41e+04</td> <td>   -1.559</td> <td> 0.119</td> <td>-4.97e+04</td> <td> 5667.657</td>\n",
       "</tr>\n",
       "<tr>\n",
       "  <th>zipcode_98004</th> <td> 7.329e+05</td> <td> 2.56e+04</td> <td>   28.597</td> <td> 0.000</td> <td> 6.83e+05</td> <td> 7.83e+05</td>\n",
       "</tr>\n",
       "<tr>\n",
       "  <th>zipcode_98005</th> <td>  2.47e+05</td> <td> 2.71e+04</td> <td>    9.115</td> <td> 0.000</td> <td> 1.94e+05</td> <td>    3e+05</td>\n",
       "</tr>\n",
       "<tr>\n",
       "  <th>zipcode_98006</th> <td> 2.326e+05</td> <td> 2.23e+04</td> <td>   10.419</td> <td> 0.000</td> <td> 1.89e+05</td> <td> 2.76e+05</td>\n",
       "</tr>\n",
       "<tr>\n",
       "  <th>zipcode_98007</th> <td> 2.083e+05</td> <td> 2.78e+04</td> <td>    7.480</td> <td> 0.000</td> <td> 1.54e+05</td> <td> 2.63e+05</td>\n",
       "</tr>\n",
       "<tr>\n",
       "  <th>zipcode_98008</th> <td> 2.106e+05</td> <td> 2.66e+04</td> <td>    7.907</td> <td> 0.000</td> <td> 1.58e+05</td> <td> 2.63e+05</td>\n",
       "</tr>\n",
       "<tr>\n",
       "  <th>zipcode_98010</th> <td> 9.673e+04</td> <td> 2.44e+04</td> <td>    3.966</td> <td> 0.000</td> <td> 4.89e+04</td> <td> 1.45e+05</td>\n",
       "</tr>\n",
       "<tr>\n",
       "  <th>zipcode_98011</th> <td> 4.993e+04</td> <td> 3.46e+04</td> <td>    1.441</td> <td> 0.150</td> <td> -1.8e+04</td> <td> 1.18e+05</td>\n",
       "</tr>\n",
       "<tr>\n",
       "  <th>zipcode_98014</th> <td> 9.304e+04</td> <td> 3.81e+04</td> <td>    2.444</td> <td> 0.015</td> <td> 1.84e+04</td> <td> 1.68e+05</td>\n",
       "</tr>\n",
       "<tr>\n",
       "  <th>zipcode_98019</th> <td> 4.423e+04</td> <td> 3.75e+04</td> <td>    1.179</td> <td> 0.239</td> <td>-2.93e+04</td> <td> 1.18e+05</td>\n",
       "</tr>\n",
       "<tr>\n",
       "  <th>zipcode_98022</th> <td> 4.298e+04</td> <td> 2.08e+04</td> <td>    2.070</td> <td> 0.038</td> <td> 2276.692</td> <td> 8.37e+04</td>\n",
       "</tr>\n",
       "<tr>\n",
       "  <th>zipcode_98023</th> <td> -4.63e+04</td> <td> 1.29e+04</td> <td>   -3.583</td> <td> 0.000</td> <td>-7.16e+04</td> <td> -2.1e+04</td>\n",
       "</tr>\n",
       "<tr>\n",
       "  <th>zipcode_98024</th> <td> 1.607e+05</td> <td> 3.34e+04</td> <td>    4.806</td> <td> 0.000</td> <td> 9.51e+04</td> <td> 2.26e+05</td>\n",
       "</tr>\n",
       "<tr>\n",
       "  <th>zipcode_98027</th> <td> 1.576e+05</td> <td> 2.29e+04</td> <td>    6.893</td> <td> 0.000</td> <td> 1.13e+05</td> <td> 2.02e+05</td>\n",
       "</tr>\n",
       "<tr>\n",
       "  <th>zipcode_98028</th> <td> 4.239e+04</td> <td> 3.38e+04</td> <td>    1.254</td> <td> 0.210</td> <td>-2.39e+04</td> <td> 1.09e+05</td>\n",
       "</tr>\n",
       "<tr>\n",
       "  <th>zipcode_98029</th> <td> 1.921e+05</td> <td> 2.61e+04</td> <td>    7.360</td> <td> 0.000</td> <td> 1.41e+05</td> <td> 2.43e+05</td>\n",
       "</tr>\n",
       "<tr>\n",
       "  <th>zipcode_98030</th> <td>-1306.9422</td> <td> 1.56e+04</td> <td>   -0.084</td> <td> 0.933</td> <td>-3.18e+04</td> <td> 2.92e+04</td>\n",
       "</tr>\n",
       "<tr>\n",
       "  <th>zipcode_98031</th> <td> 4406.3424</td> <td> 1.62e+04</td> <td>    0.272</td> <td> 0.785</td> <td>-2.73e+04</td> <td> 3.61e+04</td>\n",
       "</tr>\n",
       "<tr>\n",
       "  <th>zipcode_98032</th> <td>  566.2845</td> <td> 1.85e+04</td> <td>    0.031</td> <td> 0.976</td> <td>-3.58e+04</td> <td> 3.69e+04</td>\n",
       "</tr>\n",
       "<tr>\n",
       "  <th>zipcode_98033</th> <td> 3.027e+05</td> <td> 2.89e+04</td> <td>   10.463</td> <td> 0.000</td> <td> 2.46e+05</td> <td> 3.59e+05</td>\n",
       "</tr>\n",
       "<tr>\n",
       "  <th>zipcode_98034</th> <td> 1.352e+05</td> <td>  3.1e+04</td> <td>    4.359</td> <td> 0.000</td> <td> 7.44e+04</td> <td> 1.96e+05</td>\n",
       "</tr>\n",
       "<tr>\n",
       "  <th>zipcode_98038</th> <td> 4.609e+04</td> <td> 1.74e+04</td> <td>    2.653</td> <td> 0.008</td> <td>  1.2e+04</td> <td> 8.02e+04</td>\n",
       "</tr>\n",
       "<tr>\n",
       "  <th>zipcode_98039</th> <td> 1.218e+06</td> <td> 3.43e+04</td> <td>   35.519</td> <td> 0.000</td> <td> 1.15e+06</td> <td> 1.28e+06</td>\n",
       "</tr>\n",
       "<tr>\n",
       "  <th>zipcode_98040</th> <td> 4.685e+05</td> <td> 2.26e+04</td> <td>   20.765</td> <td> 0.000</td> <td> 4.24e+05</td> <td> 5.13e+05</td>\n",
       "</tr>\n",
       "<tr>\n",
       "  <th>zipcode_98042</th> <td> 1.582e+04</td> <td> 1.49e+04</td> <td>    1.063</td> <td> 0.288</td> <td>-1.34e+04</td> <td>  4.5e+04</td>\n",
       "</tr>\n",
       "<tr>\n",
       "  <th>zipcode_98045</th> <td>  1.31e+05</td> <td> 3.18e+04</td> <td>    4.120</td> <td> 0.000</td> <td> 6.87e+04</td> <td> 1.93e+05</td>\n",
       "</tr>\n",
       "<tr>\n",
       "  <th>zipcode_98052</th> <td> 1.778e+05</td> <td> 2.95e+04</td> <td>    6.027</td> <td> 0.000</td> <td>  1.2e+05</td> <td> 2.36e+05</td>\n",
       "</tr>\n",
       "<tr>\n",
       "  <th>zipcode_98053</th> <td> 1.537e+05</td> <td> 3.16e+04</td> <td>    4.864</td> <td> 0.000</td> <td> 9.18e+04</td> <td> 2.16e+05</td>\n",
       "</tr>\n",
       "<tr>\n",
       "  <th>zipcode_98055</th> <td> 2.776e+04</td> <td>  1.8e+04</td> <td>    1.544</td> <td> 0.123</td> <td>-7492.103</td> <td>  6.3e+04</td>\n",
       "</tr>\n",
       "<tr>\n",
       "  <th>zipcode_98056</th> <td> 6.831e+04</td> <td> 1.94e+04</td> <td>    3.523</td> <td> 0.000</td> <td> 3.03e+04</td> <td> 1.06e+05</td>\n",
       "</tr>\n",
       "<tr>\n",
       "  <th>zipcode_98058</th> <td> 2.063e+04</td> <td> 1.68e+04</td> <td>    1.227</td> <td> 0.220</td> <td>-1.23e+04</td> <td> 5.36e+04</td>\n",
       "</tr>\n",
       "<tr>\n",
       "  <th>zipcode_98059</th> <td> 6.433e+04</td> <td> 1.91e+04</td> <td>    3.369</td> <td> 0.001</td> <td> 2.69e+04</td> <td> 1.02e+05</td>\n",
       "</tr>\n",
       "<tr>\n",
       "  <th>zipcode_98065</th> <td> 9.607e+04</td> <td> 2.94e+04</td> <td>    3.269</td> <td> 0.001</td> <td> 3.85e+04</td> <td> 1.54e+05</td>\n",
       "</tr>\n",
       "<tr>\n",
       "  <th>zipcode_98070</th> <td>-3.423e+04</td> <td> 2.23e+04</td> <td>   -1.537</td> <td> 0.124</td> <td>-7.79e+04</td> <td> 9428.346</td>\n",
       "</tr>\n",
       "<tr>\n",
       "  <th>zipcode_98072</th> <td> 8.464e+04</td> <td> 3.46e+04</td> <td>    2.449</td> <td> 0.014</td> <td> 1.69e+04</td> <td> 1.52e+05</td>\n",
       "</tr>\n",
       "<tr>\n",
       "  <th>zipcode_98074</th> <td> 1.413e+05</td> <td> 2.79e+04</td> <td>    5.058</td> <td> 0.000</td> <td> 8.65e+04</td> <td> 1.96e+05</td>\n",
       "</tr>\n",
       "<tr>\n",
       "  <th>zipcode_98075</th> <td> 1.431e+05</td> <td> 2.69e+04</td> <td>    5.325</td> <td> 0.000</td> <td> 9.04e+04</td> <td> 1.96e+05</td>\n",
       "</tr>\n",
       "<tr>\n",
       "  <th>zipcode_98077</th> <td> 5.607e+04</td> <td> 3.59e+04</td> <td>    1.563</td> <td> 0.118</td> <td>-1.43e+04</td> <td> 1.26e+05</td>\n",
       "</tr>\n",
       "<tr>\n",
       "  <th>zipcode_98092</th> <td>-2.617e+04</td> <td> 1.41e+04</td> <td>   -1.860</td> <td> 0.063</td> <td>-5.38e+04</td> <td> 1411.302</td>\n",
       "</tr>\n",
       "<tr>\n",
       "  <th>zipcode_98102</th> <td> 3.991e+05</td> <td> 3.01e+04</td> <td>   13.242</td> <td> 0.000</td> <td>  3.4e+05</td> <td> 4.58e+05</td>\n",
       "</tr>\n",
       "<tr>\n",
       "  <th>zipcode_98103</th> <td>  2.67e+05</td> <td>  2.8e+04</td> <td>    9.535</td> <td> 0.000</td> <td> 2.12e+05</td> <td> 3.22e+05</td>\n",
       "</tr>\n",
       "<tr>\n",
       "  <th>zipcode_98105</th> <td> 4.022e+05</td> <td> 2.89e+04</td> <td>   13.911</td> <td> 0.000</td> <td> 3.46e+05</td> <td> 4.59e+05</td>\n",
       "</tr>\n",
       "<tr>\n",
       "  <th>zipcode_98106</th> <td> 9.623e+04</td> <td> 2.08e+04</td> <td>    4.626</td> <td> 0.000</td> <td> 5.55e+04</td> <td> 1.37e+05</td>\n",
       "</tr>\n",
       "<tr>\n",
       "  <th>zipcode_98107</th> <td> 2.702e+05</td> <td> 2.89e+04</td> <td>    9.364</td> <td> 0.000</td> <td> 2.14e+05</td> <td> 3.27e+05</td>\n",
       "</tr>\n",
       "<tr>\n",
       "  <th>zipcode_98108</th> <td> 8.246e+04</td> <td> 2.29e+04</td> <td>    3.606</td> <td> 0.000</td> <td> 3.76e+04</td> <td> 1.27e+05</td>\n",
       "</tr>\n",
       "<tr>\n",
       "  <th>zipcode_98109</th> <td>   4.3e+05</td> <td> 2.98e+04</td> <td>   14.405</td> <td> 0.000</td> <td> 3.71e+05</td> <td> 4.88e+05</td>\n",
       "</tr>\n",
       "<tr>\n",
       "  <th>zipcode_98112</th> <td> 5.734e+05</td> <td> 2.64e+04</td> <td>   21.725</td> <td> 0.000</td> <td> 5.22e+05</td> <td> 6.25e+05</td>\n",
       "</tr>\n",
       "<tr>\n",
       "  <th>zipcode_98115</th> <td> 2.546e+05</td> <td> 2.84e+04</td> <td>    8.950</td> <td> 0.000</td> <td> 1.99e+05</td> <td>  3.1e+05</td>\n",
       "</tr>\n",
       "<tr>\n",
       "  <th>zipcode_98116</th> <td> 2.234e+05</td> <td> 2.31e+04</td> <td>    9.652</td> <td> 0.000</td> <td> 1.78e+05</td> <td> 2.69e+05</td>\n",
       "</tr>\n",
       "<tr>\n",
       "  <th>zipcode_98117</th> <td> 2.405e+05</td> <td> 2.88e+04</td> <td>    8.351</td> <td> 0.000</td> <td> 1.84e+05</td> <td> 2.97e+05</td>\n",
       "</tr>\n",
       "<tr>\n",
       "  <th>zipcode_98118</th> <td> 1.321e+05</td> <td> 2.02e+04</td> <td>    6.528</td> <td> 0.000</td> <td> 9.24e+04</td> <td> 1.72e+05</td>\n",
       "</tr>\n",
       "<tr>\n",
       "  <th>zipcode_98119</th> <td> 4.256e+05</td> <td> 2.81e+04</td> <td>   15.154</td> <td> 0.000</td> <td> 3.71e+05</td> <td> 4.81e+05</td>\n",
       "</tr>\n",
       "<tr>\n",
       "  <th>zipcode_98122</th> <td> 2.726e+05</td> <td>  2.5e+04</td> <td>   10.889</td> <td> 0.000</td> <td> 2.24e+05</td> <td> 3.22e+05</td>\n",
       "</tr>\n",
       "<tr>\n",
       "  <th>zipcode_98125</th> <td> 1.186e+05</td> <td> 3.07e+04</td> <td>    3.865</td> <td> 0.000</td> <td> 5.85e+04</td> <td> 1.79e+05</td>\n",
       "</tr>\n",
       "<tr>\n",
       "  <th>zipcode_98126</th> <td> 1.459e+05</td> <td> 2.13e+04</td> <td>    6.840</td> <td> 0.000</td> <td> 1.04e+05</td> <td> 1.88e+05</td>\n",
       "</tr>\n",
       "<tr>\n",
       "  <th>zipcode_98133</th> <td> 8.016e+04</td> <td> 3.17e+04</td> <td>    2.528</td> <td> 0.011</td> <td>  1.8e+04</td> <td> 1.42e+05</td>\n",
       "</tr>\n",
       "<tr>\n",
       "  <th>zipcode_98136</th> <td> 1.957e+05</td> <td> 2.18e+04</td> <td>    8.981</td> <td> 0.000</td> <td> 1.53e+05</td> <td> 2.38e+05</td>\n",
       "</tr>\n",
       "<tr>\n",
       "  <th>zipcode_98144</th> <td> 2.399e+05</td> <td> 2.33e+04</td> <td>   10.280</td> <td> 0.000</td> <td> 1.94e+05</td> <td> 2.86e+05</td>\n",
       "</tr>\n",
       "<tr>\n",
       "  <th>zipcode_98146</th> <td> 6.052e+04</td> <td> 1.93e+04</td> <td>    3.133</td> <td> 0.002</td> <td> 2.27e+04</td> <td> 9.84e+04</td>\n",
       "</tr>\n",
       "<tr>\n",
       "  <th>zipcode_98148</th> <td> 3.312e+04</td> <td> 2.72e+04</td> <td>    1.219</td> <td> 0.223</td> <td>-2.01e+04</td> <td> 8.64e+04</td>\n",
       "</tr>\n",
       "<tr>\n",
       "  <th>zipcode_98155</th> <td> 6.463e+04</td> <td>  3.3e+04</td> <td>    1.959</td> <td> 0.050</td> <td>  -29.746</td> <td> 1.29e+05</td>\n",
       "</tr>\n",
       "<tr>\n",
       "  <th>zipcode_98166</th> <td> 1.972e+04</td> <td> 1.78e+04</td> <td>    1.109</td> <td> 0.267</td> <td>-1.51e+04</td> <td> 5.46e+04</td>\n",
       "</tr>\n",
       "<tr>\n",
       "  <th>zipcode_98168</th> <td> 4.145e+04</td> <td> 1.89e+04</td> <td>    2.198</td> <td> 0.028</td> <td> 4485.854</td> <td> 7.84e+04</td>\n",
       "</tr>\n",
       "<tr>\n",
       "  <th>zipcode_98177</th> <td> 1.264e+05</td> <td>  3.3e+04</td> <td>    3.836</td> <td> 0.000</td> <td> 6.18e+04</td> <td> 1.91e+05</td>\n",
       "</tr>\n",
       "<tr>\n",
       "  <th>zipcode_98178</th> <td> 1.415e+04</td> <td> 1.94e+04</td> <td>    0.729</td> <td> 0.466</td> <td>-2.39e+04</td> <td> 5.22e+04</td>\n",
       "</tr>\n",
       "<tr>\n",
       "  <th>zipcode_98188</th> <td> 1.707e+04</td> <td>    2e+04</td> <td>    0.854</td> <td> 0.393</td> <td>-2.21e+04</td> <td> 5.63e+04</td>\n",
       "</tr>\n",
       "<tr>\n",
       "  <th>zipcode_98198</th> <td>-1.602e+04</td> <td> 1.53e+04</td> <td>   -1.049</td> <td> 0.294</td> <td>-4.59e+04</td> <td> 1.39e+04</td>\n",
       "</tr>\n",
       "<tr>\n",
       "  <th>zipcode_98199</th> <td> 3.074e+05</td> <td> 2.73e+04</td> <td>   11.275</td> <td> 0.000</td> <td> 2.54e+05</td> <td> 3.61e+05</td>\n",
       "</tr>\n",
       "</table>\n",
       "<table class=\"simpletable\">\n",
       "<tr>\n",
       "  <th>Omnibus:</th>       <td>13288.655</td> <th>  Durbin-Watson:     </th>  <td>   2.002</td> \n",
       "</tr>\n",
       "<tr>\n",
       "  <th>Prob(Omnibus):</th>  <td> 0.000</td>   <th>  Jarque-Bera (JB):  </th> <td>974963.991</td>\n",
       "</tr>\n",
       "<tr>\n",
       "  <th>Skew:</th>           <td> 3.113</td>   <th>  Prob(JB):          </th>  <td>    0.00</td> \n",
       "</tr>\n",
       "<tr>\n",
       "  <th>Kurtosis:</th>       <td>39.261</td>   <th>  Cond. No.          </th>  <td>2.25e+15</td> \n",
       "</tr>\n",
       "</table><br/><br/>Warnings:<br/>[1] Standard Errors assume that the covariance matrix of the errors is correctly specified.<br/>[2] The smallest eigenvalue is 8.92e-18. This might indicate that there are<br/>strong multicollinearity problems or that the design matrix is singular."
      ],
      "text/plain": [
       "<class 'statsmodels.iolib.summary.Summary'>\n",
       "\"\"\"\n",
       "                            OLS Regression Results                            \n",
       "==============================================================================\n",
       "Dep. Variable:                  price   R-squared:                       0.815\n",
       "Model:                            OLS   Adj. R-squared:                  0.814\n",
       "Method:                 Least Squares   F-statistic:                     825.0\n",
       "Date:                Thu, 20 Feb 2020   Prob (F-statistic):               0.00\n",
       "Time:                        14:58:51   Log-Likelihood:            -2.3122e+05\n",
       "No. Observations:               17286   AIC:                         4.626e+05\n",
       "Df Residuals:                   17193   BIC:                         4.633e+05\n",
       "Df Model:                          92                                         \n",
       "Covariance Type:            nonrobust                                         \n",
       "=================================================================================\n",
       "                    coef    std err          t      P>|t|      [0.025      0.975]\n",
       "---------------------------------------------------------------------------------\n",
       "Intercept     -2.364e+07   6.61e+06     -3.576      0.000   -3.66e+07   -1.07e+07\n",
       "bedrooms      -2.605e+04   1724.462    -15.107      0.000   -2.94e+04   -2.27e+04\n",
       "bathrooms      2.335e+04   2863.600      8.154      0.000    1.77e+04     2.9e+04\n",
       "sqft_living     106.2901      2.012     52.834      0.000     102.347     110.233\n",
       "sqft_lot          0.2293      0.040      5.728      0.000       0.151       0.308\n",
       "floors        -4.226e+04   3433.503    -12.309      0.000    -4.9e+04   -3.55e+04\n",
       "waterfront     5.467e+05   1.71e+04     32.031      0.000    5.13e+05     5.8e+05\n",
       "grade          6.021e+04   1984.916     30.334      0.000    5.63e+04    6.41e+04\n",
       "sqft_above       90.4703      2.071     43.693      0.000      86.412      94.529\n",
       "sqft_basement    15.6926      2.361      6.647      0.000      11.065      20.320\n",
       "yr_built       -702.7073     71.369     -9.846      0.000    -842.599    -562.816\n",
       "yr_renovated     15.3177      3.226      4.748      0.000       8.994      21.642\n",
       "lat            1.843e+05   6.87e+04      2.683      0.007    4.97e+04    3.19e+05\n",
       "long           -1.29e+05   4.89e+04     -2.637      0.008   -2.25e+05   -3.31e+04\n",
       "sqft_living15    18.4298      3.154      5.843      0.000      12.248      24.612\n",
       "sqft_lot15       -0.0484      0.065     -0.748      0.454      -0.175       0.078\n",
       "date2           117.3846     10.589     11.085      0.000      96.629     138.141\n",
       "view_1         7.221e+04   9958.529      7.251      0.000    5.27e+04    9.17e+04\n",
       "view_2          6.58e+04   6038.153     10.897      0.000     5.4e+04    7.76e+04\n",
       "view_3         1.372e+05   8301.779     16.521      0.000    1.21e+05    1.53e+05\n",
       "view_4         3.443e+05   1.24e+04     27.683      0.000     3.2e+05    3.69e+05\n",
       "condition_2    5.549e+04   3.47e+04      1.599      0.110   -1.25e+04    1.24e+05\n",
       "condition_3    4.354e+04   3.22e+04      1.352      0.177   -1.96e+04    1.07e+05\n",
       "condition_4    6.356e+04   3.22e+04      1.973      0.049     410.873    1.27e+05\n",
       "condition_5    1.108e+05   3.24e+04      3.419      0.001    4.73e+04    1.74e+05\n",
       "zipcode_98002   3.63e+04   1.59e+04      2.289      0.022    5221.659    6.74e+04\n",
       "zipcode_98003 -2.201e+04   1.41e+04     -1.559      0.119   -4.97e+04    5667.657\n",
       "zipcode_98004  7.329e+05   2.56e+04     28.597      0.000    6.83e+05    7.83e+05\n",
       "zipcode_98005   2.47e+05   2.71e+04      9.115      0.000    1.94e+05       3e+05\n",
       "zipcode_98006  2.326e+05   2.23e+04     10.419      0.000    1.89e+05    2.76e+05\n",
       "zipcode_98007  2.083e+05   2.78e+04      7.480      0.000    1.54e+05    2.63e+05\n",
       "zipcode_98008  2.106e+05   2.66e+04      7.907      0.000    1.58e+05    2.63e+05\n",
       "zipcode_98010  9.673e+04   2.44e+04      3.966      0.000    4.89e+04    1.45e+05\n",
       "zipcode_98011  4.993e+04   3.46e+04      1.441      0.150    -1.8e+04    1.18e+05\n",
       "zipcode_98014  9.304e+04   3.81e+04      2.444      0.015    1.84e+04    1.68e+05\n",
       "zipcode_98019  4.423e+04   3.75e+04      1.179      0.239   -2.93e+04    1.18e+05\n",
       "zipcode_98022  4.298e+04   2.08e+04      2.070      0.038    2276.692    8.37e+04\n",
       "zipcode_98023  -4.63e+04   1.29e+04     -3.583      0.000   -7.16e+04    -2.1e+04\n",
       "zipcode_98024  1.607e+05   3.34e+04      4.806      0.000    9.51e+04    2.26e+05\n",
       "zipcode_98027  1.576e+05   2.29e+04      6.893      0.000    1.13e+05    2.02e+05\n",
       "zipcode_98028  4.239e+04   3.38e+04      1.254      0.210   -2.39e+04    1.09e+05\n",
       "zipcode_98029  1.921e+05   2.61e+04      7.360      0.000    1.41e+05    2.43e+05\n",
       "zipcode_98030 -1306.9422   1.56e+04     -0.084      0.933   -3.18e+04    2.92e+04\n",
       "zipcode_98031  4406.3424   1.62e+04      0.272      0.785   -2.73e+04    3.61e+04\n",
       "zipcode_98032   566.2845   1.85e+04      0.031      0.976   -3.58e+04    3.69e+04\n",
       "zipcode_98033  3.027e+05   2.89e+04     10.463      0.000    2.46e+05    3.59e+05\n",
       "zipcode_98034  1.352e+05    3.1e+04      4.359      0.000    7.44e+04    1.96e+05\n",
       "zipcode_98038  4.609e+04   1.74e+04      2.653      0.008     1.2e+04    8.02e+04\n",
       "zipcode_98039  1.218e+06   3.43e+04     35.519      0.000    1.15e+06    1.28e+06\n",
       "zipcode_98040  4.685e+05   2.26e+04     20.765      0.000    4.24e+05    5.13e+05\n",
       "zipcode_98042  1.582e+04   1.49e+04      1.063      0.288   -1.34e+04     4.5e+04\n",
       "zipcode_98045   1.31e+05   3.18e+04      4.120      0.000    6.87e+04    1.93e+05\n",
       "zipcode_98052  1.778e+05   2.95e+04      6.027      0.000     1.2e+05    2.36e+05\n",
       "zipcode_98053  1.537e+05   3.16e+04      4.864      0.000    9.18e+04    2.16e+05\n",
       "zipcode_98055  2.776e+04    1.8e+04      1.544      0.123   -7492.103     6.3e+04\n",
       "zipcode_98056  6.831e+04   1.94e+04      3.523      0.000    3.03e+04    1.06e+05\n",
       "zipcode_98058  2.063e+04   1.68e+04      1.227      0.220   -1.23e+04    5.36e+04\n",
       "zipcode_98059  6.433e+04   1.91e+04      3.369      0.001    2.69e+04    1.02e+05\n",
       "zipcode_98065  9.607e+04   2.94e+04      3.269      0.001    3.85e+04    1.54e+05\n",
       "zipcode_98070 -3.423e+04   2.23e+04     -1.537      0.124   -7.79e+04    9428.346\n",
       "zipcode_98072  8.464e+04   3.46e+04      2.449      0.014    1.69e+04    1.52e+05\n",
       "zipcode_98074  1.413e+05   2.79e+04      5.058      0.000    8.65e+04    1.96e+05\n",
       "zipcode_98075  1.431e+05   2.69e+04      5.325      0.000    9.04e+04    1.96e+05\n",
       "zipcode_98077  5.607e+04   3.59e+04      1.563      0.118   -1.43e+04    1.26e+05\n",
       "zipcode_98092 -2.617e+04   1.41e+04     -1.860      0.063   -5.38e+04    1411.302\n",
       "zipcode_98102  3.991e+05   3.01e+04     13.242      0.000     3.4e+05    4.58e+05\n",
       "zipcode_98103   2.67e+05    2.8e+04      9.535      0.000    2.12e+05    3.22e+05\n",
       "zipcode_98105  4.022e+05   2.89e+04     13.911      0.000    3.46e+05    4.59e+05\n",
       "zipcode_98106  9.623e+04   2.08e+04      4.626      0.000    5.55e+04    1.37e+05\n",
       "zipcode_98107  2.702e+05   2.89e+04      9.364      0.000    2.14e+05    3.27e+05\n",
       "zipcode_98108  8.246e+04   2.29e+04      3.606      0.000    3.76e+04    1.27e+05\n",
       "zipcode_98109    4.3e+05   2.98e+04     14.405      0.000    3.71e+05    4.88e+05\n",
       "zipcode_98112  5.734e+05   2.64e+04     21.725      0.000    5.22e+05    6.25e+05\n",
       "zipcode_98115  2.546e+05   2.84e+04      8.950      0.000    1.99e+05     3.1e+05\n",
       "zipcode_98116  2.234e+05   2.31e+04      9.652      0.000    1.78e+05    2.69e+05\n",
       "zipcode_98117  2.405e+05   2.88e+04      8.351      0.000    1.84e+05    2.97e+05\n",
       "zipcode_98118  1.321e+05   2.02e+04      6.528      0.000    9.24e+04    1.72e+05\n",
       "zipcode_98119  4.256e+05   2.81e+04     15.154      0.000    3.71e+05    4.81e+05\n",
       "zipcode_98122  2.726e+05    2.5e+04     10.889      0.000    2.24e+05    3.22e+05\n",
       "zipcode_98125  1.186e+05   3.07e+04      3.865      0.000    5.85e+04    1.79e+05\n",
       "zipcode_98126  1.459e+05   2.13e+04      6.840      0.000    1.04e+05    1.88e+05\n",
       "zipcode_98133  8.016e+04   3.17e+04      2.528      0.011     1.8e+04    1.42e+05\n",
       "zipcode_98136  1.957e+05   2.18e+04      8.981      0.000    1.53e+05    2.38e+05\n",
       "zipcode_98144  2.399e+05   2.33e+04     10.280      0.000    1.94e+05    2.86e+05\n",
       "zipcode_98146  6.052e+04   1.93e+04      3.133      0.002    2.27e+04    9.84e+04\n",
       "zipcode_98148  3.312e+04   2.72e+04      1.219      0.223   -2.01e+04    8.64e+04\n",
       "zipcode_98155  6.463e+04    3.3e+04      1.959      0.050     -29.746    1.29e+05\n",
       "zipcode_98166  1.972e+04   1.78e+04      1.109      0.267   -1.51e+04    5.46e+04\n",
       "zipcode_98168  4.145e+04   1.89e+04      2.198      0.028    4485.854    7.84e+04\n",
       "zipcode_98177  1.264e+05    3.3e+04      3.836      0.000    6.18e+04    1.91e+05\n",
       "zipcode_98178  1.415e+04   1.94e+04      0.729      0.466   -2.39e+04    5.22e+04\n",
       "zipcode_98188  1.707e+04      2e+04      0.854      0.393   -2.21e+04    5.63e+04\n",
       "zipcode_98198 -1.602e+04   1.53e+04     -1.049      0.294   -4.59e+04    1.39e+04\n",
       "zipcode_98199  3.074e+05   2.73e+04     11.275      0.000    2.54e+05    3.61e+05\n",
       "==============================================================================\n",
       "Omnibus:                    13288.655   Durbin-Watson:                   2.002\n",
       "Prob(Omnibus):                  0.000   Jarque-Bera (JB):           974963.991\n",
       "Skew:                           3.113   Prob(JB):                         0.00\n",
       "Kurtosis:                      39.261   Cond. No.                     2.25e+15\n",
       "==============================================================================\n",
       "\n",
       "Warnings:\n",
       "[1] Standard Errors assume that the covariance matrix of the errors is correctly specified.\n",
       "[2] The smallest eigenvalue is 8.92e-18. This might indicate that there are\n",
       "strong multicollinearity problems or that the design matrix is singular.\n",
       "\"\"\""
      ]
     },
     "execution_count": 27,
     "metadata": {},
     "output_type": "execute_result"
    }
   ],
   "source": [
    "a.summary()"
   ]
  },
  {
   "cell_type": "markdown",
   "metadata": {},
   "source": [
    "# SKLEARN STUFF"
   ]
  },
  {
   "cell_type": "code",
   "execution_count": 28,
   "metadata": {},
   "outputs": [],
   "source": [
    "from sklearn.linear_model import LinearRegression"
   ]
  },
  {
   "cell_type": "code",
   "execution_count": 29,
   "metadata": {},
   "outputs": [
    {
     "data": {
      "text/plain": [
       "LinearRegression(copy_X=True, fit_intercept=True, n_jobs=None, normalize=False)"
      ]
     },
     "execution_count": 29,
     "metadata": {},
     "output_type": "execute_result"
    }
   ],
   "source": [
    "lin_reg = LinearRegression() # lin_reg object\n",
    "lin_reg.fit(X = dummies1[all_cols], y = dummies1['price']) # fit lin_reg object"
   ]
  },
  {
   "cell_type": "code",
   "execution_count": 42,
   "metadata": {},
   "outputs": [],
   "source": [
    "test_data = pd.read_csv('kc_house_data_test_features.csv', index_col = 'Unnamed: 0')"
   ]
  },
  {
   "cell_type": "markdown",
   "metadata": {},
   "source": [
    "# Before you can predict, transform/change all data to useable forms"
   ]
  },
  {
   "cell_type": "code",
   "execution_count": 43,
   "metadata": {},
   "outputs": [
    {
     "data": {
      "text/html": [
       "<div>\n",
       "<style scoped>\n",
       "    .dataframe tbody tr th:only-of-type {\n",
       "        vertical-align: middle;\n",
       "    }\n",
       "\n",
       "    .dataframe tbody tr th {\n",
       "        vertical-align: top;\n",
       "    }\n",
       "\n",
       "    .dataframe thead th {\n",
       "        text-align: right;\n",
       "    }\n",
       "</style>\n",
       "<table border=\"1\" class=\"dataframe\">\n",
       "  <thead>\n",
       "    <tr style=\"text-align: right;\">\n",
       "      <th></th>\n",
       "      <th>id</th>\n",
       "      <th>date</th>\n",
       "      <th>bedrooms</th>\n",
       "      <th>bathrooms</th>\n",
       "      <th>sqft_living</th>\n",
       "      <th>sqft_lot</th>\n",
       "      <th>floors</th>\n",
       "      <th>waterfront</th>\n",
       "      <th>view</th>\n",
       "      <th>condition</th>\n",
       "      <th>grade</th>\n",
       "      <th>sqft_above</th>\n",
       "      <th>sqft_basement</th>\n",
       "      <th>yr_built</th>\n",
       "      <th>yr_renovated</th>\n",
       "      <th>zipcode</th>\n",
       "      <th>lat</th>\n",
       "      <th>long</th>\n",
       "      <th>sqft_living15</th>\n",
       "      <th>sqft_lot15</th>\n",
       "    </tr>\n",
       "  </thead>\n",
       "  <tbody>\n",
       "    <tr>\n",
       "      <td>0</td>\n",
       "      <td>1974300020</td>\n",
       "      <td>20140827T000000</td>\n",
       "      <td>4</td>\n",
       "      <td>2.50</td>\n",
       "      <td>2270</td>\n",
       "      <td>11500</td>\n",
       "      <td>1.0</td>\n",
       "      <td>0</td>\n",
       "      <td>0</td>\n",
       "      <td>3</td>\n",
       "      <td>8</td>\n",
       "      <td>1540</td>\n",
       "      <td>730</td>\n",
       "      <td>1967</td>\n",
       "      <td>0</td>\n",
       "      <td>98034</td>\n",
       "      <td>47.7089</td>\n",
       "      <td>-122.241</td>\n",
       "      <td>2020</td>\n",
       "      <td>10918</td>\n",
       "    </tr>\n",
       "    <tr>\n",
       "      <td>1</td>\n",
       "      <td>1974300020</td>\n",
       "      <td>20150218T000000</td>\n",
       "      <td>4</td>\n",
       "      <td>2.50</td>\n",
       "      <td>2270</td>\n",
       "      <td>11500</td>\n",
       "      <td>1.0</td>\n",
       "      <td>0</td>\n",
       "      <td>0</td>\n",
       "      <td>3</td>\n",
       "      <td>8</td>\n",
       "      <td>1540</td>\n",
       "      <td>730</td>\n",
       "      <td>1967</td>\n",
       "      <td>0</td>\n",
       "      <td>98034</td>\n",
       "      <td>47.7089</td>\n",
       "      <td>-122.241</td>\n",
       "      <td>2020</td>\n",
       "      <td>10918</td>\n",
       "    </tr>\n",
       "    <tr>\n",
       "      <td>2</td>\n",
       "      <td>3630020380</td>\n",
       "      <td>20141107T000000</td>\n",
       "      <td>3</td>\n",
       "      <td>2.50</td>\n",
       "      <td>1470</td>\n",
       "      <td>1779</td>\n",
       "      <td>2.0</td>\n",
       "      <td>0</td>\n",
       "      <td>0</td>\n",
       "      <td>3</td>\n",
       "      <td>8</td>\n",
       "      <td>1160</td>\n",
       "      <td>310</td>\n",
       "      <td>2005</td>\n",
       "      <td>0</td>\n",
       "      <td>98029</td>\n",
       "      <td>47.5472</td>\n",
       "      <td>-121.998</td>\n",
       "      <td>1470</td>\n",
       "      <td>1576</td>\n",
       "    </tr>\n",
       "    <tr>\n",
       "      <td>3</td>\n",
       "      <td>1771000290</td>\n",
       "      <td>20141203T000000</td>\n",
       "      <td>3</td>\n",
       "      <td>1.75</td>\n",
       "      <td>1280</td>\n",
       "      <td>16200</td>\n",
       "      <td>1.0</td>\n",
       "      <td>0</td>\n",
       "      <td>0</td>\n",
       "      <td>3</td>\n",
       "      <td>8</td>\n",
       "      <td>1030</td>\n",
       "      <td>250</td>\n",
       "      <td>1976</td>\n",
       "      <td>0</td>\n",
       "      <td>98077</td>\n",
       "      <td>47.7427</td>\n",
       "      <td>-122.071</td>\n",
       "      <td>1160</td>\n",
       "      <td>10565</td>\n",
       "    </tr>\n",
       "    <tr>\n",
       "      <td>4</td>\n",
       "      <td>5126310470</td>\n",
       "      <td>20150115T000000</td>\n",
       "      <td>4</td>\n",
       "      <td>2.75</td>\n",
       "      <td>2830</td>\n",
       "      <td>8126</td>\n",
       "      <td>2.0</td>\n",
       "      <td>0</td>\n",
       "      <td>0</td>\n",
       "      <td>3</td>\n",
       "      <td>8</td>\n",
       "      <td>2830</td>\n",
       "      <td>0</td>\n",
       "      <td>2005</td>\n",
       "      <td>0</td>\n",
       "      <td>98059</td>\n",
       "      <td>47.4863</td>\n",
       "      <td>-122.140</td>\n",
       "      <td>2830</td>\n",
       "      <td>7916</td>\n",
       "    </tr>\n",
       "  </tbody>\n",
       "</table>\n",
       "</div>"
      ],
      "text/plain": [
       "           id             date  bedrooms  bathrooms  sqft_living  sqft_lot  \\\n",
       "0  1974300020  20140827T000000         4       2.50         2270     11500   \n",
       "1  1974300020  20150218T000000         4       2.50         2270     11500   \n",
       "2  3630020380  20141107T000000         3       2.50         1470      1779   \n",
       "3  1771000290  20141203T000000         3       1.75         1280     16200   \n",
       "4  5126310470  20150115T000000         4       2.75         2830      8126   \n",
       "\n",
       "   floors  waterfront  view  condition  grade  sqft_above  sqft_basement  \\\n",
       "0     1.0           0     0          3      8        1540            730   \n",
       "1     1.0           0     0          3      8        1540            730   \n",
       "2     2.0           0     0          3      8        1160            310   \n",
       "3     1.0           0     0          3      8        1030            250   \n",
       "4     2.0           0     0          3      8        2830              0   \n",
       "\n",
       "   yr_built  yr_renovated  zipcode      lat     long  sqft_living15  \\\n",
       "0      1967             0    98034  47.7089 -122.241           2020   \n",
       "1      1967             0    98034  47.7089 -122.241           2020   \n",
       "2      2005             0    98029  47.5472 -121.998           1470   \n",
       "3      1976             0    98077  47.7427 -122.071           1160   \n",
       "4      2005             0    98059  47.4863 -122.140           2830   \n",
       "\n",
       "   sqft_lot15  \n",
       "0       10918  \n",
       "1       10918  \n",
       "2        1576  \n",
       "3       10565  \n",
       "4        7916  "
      ]
     },
     "execution_count": 43,
     "metadata": {},
     "output_type": "execute_result"
    }
   ],
   "source": [
    "test_data.head()"
   ]
  },
  {
   "cell_type": "code",
   "execution_count": 44,
   "metadata": {},
   "outputs": [
    {
     "name": "stderr",
     "output_type": "stream",
     "text": [
      "/Users/flatironschool/opt/anaconda3/lib/python3.7/site-packages/ipykernel_launcher.py:4: UserWarning: Pandas doesn't allow columns to be created via a new attribute name - see https://pandas.pydata.org/pandas-docs/stable/indexing.html#attribute-access\n",
      "  after removing the cwd from sys.path.\n"
     ]
    },
    {
     "data": {
      "text/plain": [
       "datetime.date"
      ]
     },
     "execution_count": 44,
     "metadata": {},
     "output_type": "execute_result"
    }
   ],
   "source": [
    "from datetime import date\n",
    "\n",
    "test_data['date'] = test_data.date.apply(lambda x: x[0:4]+'-'+x[4:6]+'-'+x[6:8])\n",
    "test_data.date_time = test_data.date.apply(lambda x: date.fromisoformat(x))\n",
    "type(test_data.date_time[0])"
   ]
  },
  {
   "cell_type": "code",
   "execution_count": 45,
   "metadata": {},
   "outputs": [
    {
     "data": {
      "text/plain": [
       "0       117\n",
       "1       292\n",
       "2       189\n",
       "3       215\n",
       "4       258\n",
       "       ... \n",
       "4318     19\n",
       "4319    297\n",
       "4320     52\n",
       "4321    259\n",
       "4322    166\n",
       "Name: date2, Length: 4323, dtype: int64"
      ]
     },
     "execution_count": 45,
     "metadata": {},
     "output_type": "execute_result"
    }
   ],
   "source": [
    "import copy\n",
    "min_date = copy.deepcopy(min(test_data.date_time))\n",
    "test_data['date2'] = test_data.date_time.apply(lambda x: (x - min_date).days)\n",
    "test_data.date2"
   ]
  },
  {
   "cell_type": "code",
   "execution_count": 46,
   "metadata": {},
   "outputs": [],
   "source": [
    "categorical2 = ['view', 'condition', 'zipcode']\n",
    "dummies2 = pd.get_dummies(test_data, prefix = categorical, columns = categorical, drop_first = True)\n",
    "len(dummies2.columns), list(dummies2.columns);"
   ]
  },
  {
   "cell_type": "code",
   "execution_count": 51,
   "metadata": {},
   "outputs": [
    {
     "data": {
      "text/plain": [
       "'bedrooms+bathrooms+sqft_living+sqft_lot+floors+waterfront+grade+sqft_above+sqft_basement+yr_built+yr_renovated+lat+long+sqft_living15+sqft_lot15+date2+view_1+view_2+view_3+view_4+condition_2+condition_3+condition_4+condition_5+zipcode_98002+zipcode_98003+zipcode_98004+zipcode_98005+zipcode_98006+zipcode_98007+zipcode_98008+zipcode_98010+zipcode_98011+zipcode_98014+zipcode_98019+zipcode_98022+zipcode_98023+zipcode_98024+zipcode_98027+zipcode_98028+zipcode_98029+zipcode_98030+zipcode_98031+zipcode_98032+zipcode_98033+zipcode_98034+zipcode_98038+zipcode_98039+zipcode_98040+zipcode_98042+zipcode_98045+zipcode_98052+zipcode_98053+zipcode_98055+zipcode_98056+zipcode_98058+zipcode_98059+zipcode_98065+zipcode_98070+zipcode_98072+zipcode_98074+zipcode_98075+zipcode_98077+zipcode_98092+zipcode_98102+zipcode_98103+zipcode_98105+zipcode_98106+zipcode_98107+zipcode_98108+zipcode_98109+zipcode_98112+zipcode_98115+zipcode_98116+zipcode_98117+zipcode_98118+zipcode_98119+zipcode_98122+zipcode_98125+zipcode_98126+zipcode_98133+zipcode_98136+zipcode_98144+zipcode_98146+zipcode_98148+zipcode_98155+zipcode_98166+zipcode_98168+zipcode_98177+zipcode_98178+zipcode_98188+zipcode_98198+zipcode_98199'"
      ]
     },
     "execution_count": 51,
     "metadata": {},
     "output_type": "execute_result"
    }
   ],
   "source": [
    "\n",
    "all_cols2 = list(dummies2.columns)\n",
    "all_cols2.remove('id')\n",
    "all_cols2.remove('date')\n",
    "ind_vars2 = '+'.join(all_cols2)\n",
    "ind_vars2"
   ]
  },
  {
   "cell_type": "code",
   "execution_count": null,
   "metadata": {},
   "outputs": [],
   "source": []
  },
  {
   "cell_type": "code",
   "execution_count": 54,
   "metadata": {
    "scrolled": true
   },
   "outputs": [],
   "source": [
    "predicted_y = lin_reg.predict(dummies2[all_cols2]) # use lin_reg object that's fitted\n",
    "# obs_y = test_data['price']"
   ]
  },
  {
   "cell_type": "code",
   "execution_count": 55,
   "metadata": {},
   "outputs": [
    {
     "data": {
      "text/plain": [
       "array([564039.75304088, 584582.0593179 , 387487.01509358, ...,\n",
       "       315057.20313247, 416498.53380651, 329055.06792066])"
      ]
     },
     "execution_count": 55,
     "metadata": {},
     "output_type": "execute_result"
    }
   ],
   "source": [
    "predicted_y"
   ]
  },
  {
   "cell_type": "code",
   "execution_count": 67,
   "metadata": {},
   "outputs": [
    {
     "data": {
      "text/plain": [
       "0       564039.753041\n",
       "1       584582.059318\n",
       "2       387487.015094\n",
       "3       309319.003553\n",
       "4       571650.362840\n",
       "            ...      \n",
       "4318    506241.187100\n",
       "4319    472155.833923\n",
       "4320    315057.203132\n",
       "4321    416498.533807\n",
       "4322    329055.067921\n",
       "Length: 4323, dtype: float64"
      ]
     },
     "execution_count": 67,
     "metadata": {},
     "output_type": "execute_result"
    }
   ],
   "source": [
    "pred_y = pd.Series(predicted_y)\n",
    "pred_y"
   ]
  },
  {
   "cell_type": "code",
   "execution_count": 69,
   "metadata": {},
   "outputs": [
    {
     "name": "stderr",
     "output_type": "stream",
     "text": [
      "/Users/flatironschool/opt/anaconda3/lib/python3.7/site-packages/ipykernel_launcher.py:1: FutureWarning: The signature of `Series.to_csv` was aligned to that of `DataFrame.to_csv`, and argument 'header' will change its default value from False to True: please pass an explicit value to suppress this warning.\n",
      "  \"\"\"Entry point for launching an IPython kernel.\n"
     ]
    }
   ],
   "source": [
    "pred_y.to_csv('housing_preds_GL', index = False)"
   ]
  },
  {
   "cell_type": "markdown",
   "metadata": {},
   "source": [
    "# data_set[['lat', 'price']].groupby('lat').mean().plot.bar()"
   ]
  },
  {
   "cell_type": "code",
   "execution_count": null,
   "metadata": {},
   "outputs": [],
   "source": [
    "data_set.zipcode.value_counts(); # 70 zipcodes in this area"
   ]
  },
  {
   "cell_type": "code",
   "execution_count": null,
   "metadata": {},
   "outputs": [],
   "source": [
    "data_set.sort_values(by = ['zipcode']); #inplace = True #maybe do this later?"
   ]
  },
  {
   "cell_type": "markdown",
   "metadata": {},
   "source": [
    "# longitude latitude min max ; what do i do with this"
   ]
  },
  {
   "cell_type": "code",
   "execution_count": 36,
   "metadata": {},
   "outputs": [
    {
     "data": {
      "text/plain": [
       "0.621699999999997"
      ]
     },
     "execution_count": 36,
     "metadata": {},
     "output_type": "execute_result"
    }
   ],
   "source": [
    "data_set.lat.max() - data_set.lat.min() # latitude diff"
   ]
  },
  {
   "cell_type": "code",
   "execution_count": 37,
   "metadata": {},
   "outputs": [
    {
     "data": {
      "text/plain": [
       "1.2040000000000077"
      ]
     },
     "execution_count": 37,
     "metadata": {},
     "output_type": "execute_result"
    }
   ],
   "source": [
    "data_set.long.max() - data_set.long.min() # longitude diff"
   ]
  },
  {
   "cell_type": "code",
   "execution_count": null,
   "metadata": {},
   "outputs": [],
   "source": [
    "data_set.lat.max(), data_set.long.max() # max lat and max long"
   ]
  },
  {
   "cell_type": "code",
   "execution_count": null,
   "metadata": {},
   "outputs": [],
   "source": [
    "data_set.lat.min(), data_set.long.min() # min lat and min long"
   ]
  },
  {
   "cell_type": "code",
   "execution_count": 26,
   "metadata": {},
   "outputs": [
    {
     "data": {
      "text/plain": [
       "(47.56005805089656, 0    47.5400\n",
       " 1    47.5491\n",
       " 2    47.6821\n",
       " 3    47.6846\n",
       " dtype: float64)"
      ]
     },
     "execution_count": 26,
     "metadata": {},
     "output_type": "execute_result"
    }
   ],
   "source": [
    "data_set.lat.mean(), data_set.lat.mode()"
   ]
  },
  {
   "cell_type": "code",
   "execution_count": 24,
   "metadata": {},
   "outputs": [
    {
     "data": {
      "text/plain": [
       "(-122.2142584731065, 0   -122.3\n",
       " dtype: float64)"
      ]
     },
     "execution_count": 24,
     "metadata": {},
     "output_type": "execute_result"
    }
   ],
   "source": [
    "data_set.long.mean(), data_set.long.mode()"
   ]
  },
  {
   "cell_type": "code",
   "execution_count": null,
   "metadata": {},
   "outputs": [],
   "source": []
  },
  {
   "cell_type": "code",
   "execution_count": null,
   "metadata": {},
   "outputs": [],
   "source": []
  }
 ],
 "metadata": {
  "kernelspec": {
   "display_name": "Python 3",
   "language": "python",
   "name": "python3"
  },
  "language_info": {
   "codemirror_mode": {
    "name": "ipython",
    "version": 3
   },
   "file_extension": ".py",
   "mimetype": "text/x-python",
   "name": "python",
   "nbconvert_exporter": "python",
   "pygments_lexer": "ipython3",
   "version": "3.7.4"
  }
 },
 "nbformat": 4,
 "nbformat_minor": 2
}
